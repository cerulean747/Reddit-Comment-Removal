{
 "cells": [
  {
   "cell_type": "code",
   "execution_count": 8,
   "metadata": {},
   "outputs": [],
   "source": [
    "import pandas as pd"
   ]
  },
  {
   "cell_type": "code",
   "execution_count": 7,
   "metadata": {},
   "outputs": [],
   "source": [
    "from glm.glm import GLM\n",
    "from glm.families import Gaussian\n",
    "\n"
   ]
  },
  {
   "cell_type": "code",
   "execution_count": 9,
   "metadata": {},
   "outputs": [],
   "source": [
    "url = 'https://raw.githubusercontent.com/vincentarelbundock/Rdatasets/master/csv/carData/Duncan.csv'\n",
    "prestige = pd.read_csv(url)"
   ]
  },
  {
   "cell_type": "code",
   "execution_count": 11,
   "metadata": {},
   "outputs": [
    {
     "data": {
      "text/html": [
       "<div>\n",
       "<style scoped>\n",
       "    .dataframe tbody tr th:only-of-type {\n",
       "        vertical-align: middle;\n",
       "    }\n",
       "\n",
       "    .dataframe tbody tr th {\n",
       "        vertical-align: top;\n",
       "    }\n",
       "\n",
       "    .dataframe thead th {\n",
       "        text-align: right;\n",
       "    }\n",
       "</style>\n",
       "<table border=\"1\" class=\"dataframe\">\n",
       "  <thead>\n",
       "    <tr style=\"text-align: right;\">\n",
       "      <th></th>\n",
       "      <th>Unnamed: 0</th>\n",
       "      <th>type</th>\n",
       "      <th>income</th>\n",
       "      <th>education</th>\n",
       "      <th>prestige</th>\n",
       "    </tr>\n",
       "  </thead>\n",
       "  <tbody>\n",
       "    <tr>\n",
       "      <th>0</th>\n",
       "      <td>accountant</td>\n",
       "      <td>prof</td>\n",
       "      <td>62</td>\n",
       "      <td>86</td>\n",
       "      <td>82</td>\n",
       "    </tr>\n",
       "    <tr>\n",
       "      <th>1</th>\n",
       "      <td>pilot</td>\n",
       "      <td>prof</td>\n",
       "      <td>72</td>\n",
       "      <td>76</td>\n",
       "      <td>83</td>\n",
       "    </tr>\n",
       "    <tr>\n",
       "      <th>2</th>\n",
       "      <td>architect</td>\n",
       "      <td>prof</td>\n",
       "      <td>75</td>\n",
       "      <td>92</td>\n",
       "      <td>90</td>\n",
       "    </tr>\n",
       "    <tr>\n",
       "      <th>3</th>\n",
       "      <td>author</td>\n",
       "      <td>prof</td>\n",
       "      <td>55</td>\n",
       "      <td>90</td>\n",
       "      <td>76</td>\n",
       "    </tr>\n",
       "    <tr>\n",
       "      <th>4</th>\n",
       "      <td>chemist</td>\n",
       "      <td>prof</td>\n",
       "      <td>64</td>\n",
       "      <td>86</td>\n",
       "      <td>90</td>\n",
       "    </tr>\n",
       "  </tbody>\n",
       "</table>\n",
       "</div>"
      ],
      "text/plain": [
       "   Unnamed: 0  type  income  education  prestige\n",
       "0  accountant  prof      62         86        82\n",
       "1       pilot  prof      72         76        83\n",
       "2   architect  prof      75         92        90\n",
       "3      author  prof      55         90        76\n",
       "4     chemist  prof      64         86        90"
      ]
     },
     "execution_count": 11,
     "metadata": {},
     "output_type": "execute_result"
    }
   ],
   "source": [
    "prestige.head()"
   ]
  },
  {
   "cell_type": "code",
   "execution_count": 12,
   "metadata": {},
   "outputs": [
    {
     "data": {
      "text/plain": [
       "bc      21\n",
       "prof    18\n",
       "wc       6\n",
       "Name: type, dtype: int64"
      ]
     },
     "execution_count": 12,
     "metadata": {},
     "output_type": "execute_result"
    }
   ],
   "source": [
    "prestige['type'].value_counts()"
   ]
  },
  {
   "cell_type": "code",
   "execution_count": 14,
   "metadata": {},
   "outputs": [
    {
     "data": {
      "text/plain": [
       "21    4\n",
       "42    3\n",
       "76    3\n",
       "72    2\n",
       "29    2\n",
       "9     2\n",
       "64    2\n",
       "48    2\n",
       "7     2\n",
       "55    2\n",
       "16    2\n",
       "8     1\n",
       "81    1\n",
       "75    1\n",
       "78    1\n",
       "15    1\n",
       "80    1\n",
       "67    1\n",
       "14    1\n",
       "62    1\n",
       "17    1\n",
       "34    1\n",
       "36    1\n",
       "41    1\n",
       "44    1\n",
       "12    1\n",
       "47    1\n",
       "53    1\n",
       "60    1\n",
       "22    1\n",
       "Name: income, dtype: int64"
      ]
     },
     "execution_count": 14,
     "metadata": {},
     "output_type": "execute_result"
    }
   ],
   "source": [
    "prestige['income'].value_counts()"
   ]
  },
  {
   "cell_type": "code",
   "execution_count": 13,
   "metadata": {},
   "outputs": [],
   "source": [
    "import statsmodels.api as sm\n",
    "credit_card = sm.datasets.ccard.load_pandas().data"
   ]
  },
  {
   "cell_type": "code",
   "execution_count": 15,
   "metadata": {},
   "outputs": [
    {
     "data": {
      "text/html": [
       "<div>\n",
       "<style scoped>\n",
       "    .dataframe tbody tr th:only-of-type {\n",
       "        vertical-align: middle;\n",
       "    }\n",
       "\n",
       "    .dataframe tbody tr th {\n",
       "        vertical-align: top;\n",
       "    }\n",
       "\n",
       "    .dataframe thead th {\n",
       "        text-align: right;\n",
       "    }\n",
       "</style>\n",
       "<table border=\"1\" class=\"dataframe\">\n",
       "  <thead>\n",
       "    <tr style=\"text-align: right;\">\n",
       "      <th></th>\n",
       "      <th>AVGEXP</th>\n",
       "      <th>AGE</th>\n",
       "      <th>INCOME</th>\n",
       "      <th>INCOMESQ</th>\n",
       "      <th>OWNRENT</th>\n",
       "    </tr>\n",
       "  </thead>\n",
       "  <tbody>\n",
       "    <tr>\n",
       "      <th>0</th>\n",
       "      <td>124.98</td>\n",
       "      <td>38.0</td>\n",
       "      <td>4.52</td>\n",
       "      <td>20.4304</td>\n",
       "      <td>1.0</td>\n",
       "    </tr>\n",
       "    <tr>\n",
       "      <th>1</th>\n",
       "      <td>9.85</td>\n",
       "      <td>33.0</td>\n",
       "      <td>2.42</td>\n",
       "      <td>5.8564</td>\n",
       "      <td>0.0</td>\n",
       "    </tr>\n",
       "    <tr>\n",
       "      <th>2</th>\n",
       "      <td>15.00</td>\n",
       "      <td>34.0</td>\n",
       "      <td>4.50</td>\n",
       "      <td>20.2500</td>\n",
       "      <td>1.0</td>\n",
       "    </tr>\n",
       "    <tr>\n",
       "      <th>3</th>\n",
       "      <td>137.87</td>\n",
       "      <td>31.0</td>\n",
       "      <td>2.54</td>\n",
       "      <td>6.4516</td>\n",
       "      <td>0.0</td>\n",
       "    </tr>\n",
       "    <tr>\n",
       "      <th>4</th>\n",
       "      <td>546.50</td>\n",
       "      <td>32.0</td>\n",
       "      <td>9.79</td>\n",
       "      <td>95.8441</td>\n",
       "      <td>1.0</td>\n",
       "    </tr>\n",
       "  </tbody>\n",
       "</table>\n",
       "</div>"
      ],
      "text/plain": [
       "   AVGEXP   AGE  INCOME  INCOMESQ  OWNRENT\n",
       "0  124.98  38.0    4.52   20.4304      1.0\n",
       "1    9.85  33.0    2.42    5.8564      0.0\n",
       "2   15.00  34.0    4.50   20.2500      1.0\n",
       "3  137.87  31.0    2.54    6.4516      0.0\n",
       "4  546.50  32.0    9.79   95.8441      1.0"
      ]
     },
     "execution_count": 15,
     "metadata": {},
     "output_type": "execute_result"
    }
   ],
   "source": [
    "credit_card.head()"
   ]
  },
  {
   "cell_type": "code",
   "execution_count": 18,
   "metadata": {
    "scrolled": false
   },
   "outputs": [
    {
     "data": {
      "text/plain": [
       "array([[<AxesSubplot:xlabel='income', ylabel='income'>,\n",
       "        <AxesSubplot:xlabel='education', ylabel='income'>,\n",
       "        <AxesSubplot:xlabel='prestige', ylabel='income'>],\n",
       "       [<AxesSubplot:xlabel='income', ylabel='education'>,\n",
       "        <AxesSubplot:xlabel='education', ylabel='education'>,\n",
       "        <AxesSubplot:xlabel='prestige', ylabel='education'>],\n",
       "       [<AxesSubplot:xlabel='income', ylabel='prestige'>,\n",
       "        <AxesSubplot:xlabel='education', ylabel='prestige'>,\n",
       "        <AxesSubplot:xlabel='prestige', ylabel='prestige'>]], dtype=object)"
      ]
     },
     "execution_count": 18,
     "metadata": {},
     "output_type": "execute_result"
    },
    {
     "data": {
      "image/png": "[encoded data removed]",
      "text/plain": [
       "<Figure size 432x288 with 9 Axes>"
      ]
     },
     "metadata": {
      "needs_background": "light"
     },
     "output_type": "display_data"
    }
   ],
   "source": [
    "pd.plotting.scatter_matrix(prestige, alpha=0.2)"
   ]
  },
  {
   "cell_type": "code",
   "execution_count": 21,
   "metadata": {},
   "outputs": [
    {
     "data": {
      "text/plain": [
       "<AxesSubplot:>"
      ]
     },
     "execution_count": 21,
     "metadata": {},
     "output_type": "execute_result"
    },
    {
     "data": {
      "image/png": "[encoded data removed]",
      "text/plain": [
       "<Figure size 432x288 with 1 Axes>"
      ]
     },
     "metadata": {
      "needs_background": "light"
     },
     "output_type": "display_data"
    }
   ],
   "source": [
    "prestige.boxplot(column=['prestige', 'income', 'education'])"
   ]
  },
  {
   "cell_type": "code",
   "execution_count": 22,
   "metadata": {
    "scrolled": true
   },
   "outputs": [
    {
     "data": {
      "text/html": [
       "<div>\n",
       "<style scoped>\n",
       "    .dataframe tbody tr th:only-of-type {\n",
       "        vertical-align: middle;\n",
       "    }\n",
       "\n",
       "    .dataframe tbody tr th {\n",
       "        vertical-align: top;\n",
       "    }\n",
       "\n",
       "    .dataframe thead th {\n",
       "        text-align: right;\n",
       "    }\n",
       "</style>\n",
       "<table border=\"1\" class=\"dataframe\">\n",
       "  <thead>\n",
       "    <tr style=\"text-align: right;\">\n",
       "      <th></th>\n",
       "      <th>income</th>\n",
       "      <th>education</th>\n",
       "      <th>prestige</th>\n",
       "    </tr>\n",
       "  </thead>\n",
       "  <tbody>\n",
       "    <tr>\n",
       "      <th>count</th>\n",
       "      <td>45.000000</td>\n",
       "      <td>45.000000</td>\n",
       "      <td>45.000000</td>\n",
       "    </tr>\n",
       "    <tr>\n",
       "      <th>mean</th>\n",
       "      <td>41.866667</td>\n",
       "      <td>52.555556</td>\n",
       "      <td>47.688889</td>\n",
       "    </tr>\n",
       "    <tr>\n",
       "      <th>std</th>\n",
       "      <td>24.435072</td>\n",
       "      <td>29.760831</td>\n",
       "      <td>31.510332</td>\n",
       "    </tr>\n",
       "    <tr>\n",
       "      <th>min</th>\n",
       "      <td>7.000000</td>\n",
       "      <td>7.000000</td>\n",
       "      <td>3.000000</td>\n",
       "    </tr>\n",
       "    <tr>\n",
       "      <th>25%</th>\n",
       "      <td>21.000000</td>\n",
       "      <td>26.000000</td>\n",
       "      <td>16.000000</td>\n",
       "    </tr>\n",
       "    <tr>\n",
       "      <th>50%</th>\n",
       "      <td>42.000000</td>\n",
       "      <td>45.000000</td>\n",
       "      <td>41.000000</td>\n",
       "    </tr>\n",
       "    <tr>\n",
       "      <th>75%</th>\n",
       "      <td>64.000000</td>\n",
       "      <td>84.000000</td>\n",
       "      <td>81.000000</td>\n",
       "    </tr>\n",
       "    <tr>\n",
       "      <th>max</th>\n",
       "      <td>81.000000</td>\n",
       "      <td>100.000000</td>\n",
       "      <td>97.000000</td>\n",
       "    </tr>\n",
       "  </tbody>\n",
       "</table>\n",
       "</div>"
      ],
      "text/plain": [
       "          income   education   prestige\n",
       "count  45.000000   45.000000  45.000000\n",
       "mean   41.866667   52.555556  47.688889\n",
       "std    24.435072   29.760831  31.510332\n",
       "min     7.000000    7.000000   3.000000\n",
       "25%    21.000000   26.000000  16.000000\n",
       "50%    42.000000   45.000000  41.000000\n",
       "75%    64.000000   84.000000  81.000000\n",
       "max    81.000000  100.000000  97.000000"
      ]
     },
     "execution_count": 22,
     "metadata": {},
     "output_type": "execute_result"
    }
   ],
   "source": [
    "prestige.describe()"
   ]
  },
  {
   "cell_type": "code",
   "execution_count": 30,
   "metadata": {},
   "outputs": [
    {
     "data": {
      "text/plain": [
       "array([[ 62,  86],\n",
       "       [ 72,  76],\n",
       "       [ 75,  92],\n",
       "       [ 55,  90],\n",
       "       [ 64,  86],\n",
       "       [ 21,  84],\n",
       "       [ 64,  93],\n",
       "       [ 80, 100],\n",
       "       [ 67,  87],\n",
       "       [ 72,  86],\n",
       "       [ 42,  74],\n",
       "       [ 76,  98],\n",
       "       [ 76,  97],\n",
       "       [ 41,  84],\n",
       "       [ 48,  91],\n",
       "       [ 76,  34],\n",
       "       [ 53,  45],\n",
       "       [ 60,  56],\n",
       "       [ 42,  44],\n",
       "       [ 78,  82],\n",
       "       [ 29,  72],\n",
       "       [ 48,  55],\n",
       "       [ 55,  71],\n",
       "       [ 29,  50],\n",
       "       [ 21,  23],\n",
       "       [ 47,  39],\n",
       "       [ 81,  28],\n",
       "       [ 36,  32],\n",
       "       [ 22,  22],\n",
       "       [ 44,  25],\n",
       "       [ 15,  29],\n",
       "       [  7,   7],\n",
       "       [ 42,  26],\n",
       "       [  9,  19],\n",
       "       [ 21,  15],\n",
       "       [ 21,  20],\n",
       "       [ 16,  26],\n",
       "       [ 16,  28],\n",
       "       [  9,  17],\n",
       "       [ 14,  22],\n",
       "       [ 12,  30],\n",
       "       [ 17,  25],\n",
       "       [  7,  20],\n",
       "       [ 34,  47],\n",
       "       [  8,  32]])"
      ]
     },
     "execution_count": 30,
     "metadata": {},
     "output_type": "execute_result"
    }
   ],
   "source": [
    "prestige[['income','education']].to_numpy()"
   ]
  },
  {
   "cell_type": "code",
   "execution_count": 109,
   "metadata": {},
   "outputs": [],
   "source": [
    "X_P = prestige[['income','education']].to_numpy()"
   ]
  },
  {
   "cell_type": "code",
   "execution_count": 110,
   "metadata": {
    "scrolled": true
   },
   "outputs": [
    {
     "data": {
      "text/plain": [
       "(45, 2)"
      ]
     },
     "execution_count": 110,
     "metadata": {},
     "output_type": "execute_result"
    }
   ],
   "source": [
    "X_P.shape"
   ]
  },
  {
   "cell_type": "code",
   "execution_count": 111,
   "metadata": {},
   "outputs": [],
   "source": [
    "y_P = prestige['prestige'].to_numpy().reshape(45,1)"
   ]
  },
  {
   "cell_type": "code",
   "execution_count": 112,
   "metadata": {},
   "outputs": [
    {
     "data": {
      "text/plain": [
       "(45, 1)"
      ]
     },
     "execution_count": 112,
     "metadata": {},
     "output_type": "execute_result"
    }
   ],
   "source": [
    "y_P.shape"
   ]
  },
  {
   "cell_type": "code",
   "execution_count": 113,
   "metadata": {},
   "outputs": [],
   "source": [
    "y_hat_P = y_hat.reshape(-1,1)"
   ]
  },
  {
   "cell_type": "code",
   "execution_count": 114,
   "metadata": {
    "scrolled": false
   },
   "outputs": [
    {
     "name": "stdout",
     "output_type": "stream",
     "text": [
      "Gaussian GLM Model Summary.\n",
      "================================================\n",
      "Name          Parameter Estimate  Standard Error\n",
      "------------------------------------------------\n",
      "Intercept                  -6.06            4.27\n",
      "income                      0.60            0.12\n",
      "education                   0.55            0.10\n"
     ]
    }
   ],
   "source": [
    "model = GLM(family=Gaussian())\n",
    "model.fit(prestige, formula='prestige ~ income + education')\n",
    "model.summary()\n",
    "\n",
    "y_hat_P = model.predict(prestige[['income','education']])"
   ]
  },
  {
   "cell_type": "code",
   "execution_count": 83,
   "metadata": {},
   "outputs": [],
   "source": [
    "X_C = credit_card[['AGE','INCOME','INCOMESQ','OWNRENT']].to_numpy()"
   ]
  },
  {
   "cell_type": "code",
   "execution_count": 84,
   "metadata": {},
   "outputs": [],
   "source": [
    "y_C = credit_card['AVGEXP'].to_numpy()"
   ]
  },
  {
   "cell_type": "code",
   "execution_count": null,
   "metadata": {},
   "outputs": [],
   "source": []
  },
  {
   "cell_type": "code",
   "execution_count": 85,
   "metadata": {},
   "outputs": [
    {
     "name": "stdout",
     "output_type": "stream",
     "text": [
      "Gaussian GLM Model Summary.\n",
      "================================================\n",
      "Name          Parameter Estimate  Standard Error\n",
      "------------------------------------------------\n",
      "Intercept                -237.15          199.35\n",
      "AGE                        -3.08            5.51\n",
      "INCOME                    234.35           80.37\n",
      "INCOMESQ                  -15.00            7.47\n",
      "OWNRENT                    27.94           82.92\n"
     ]
    }
   ],
   "source": [
    "model = GLM(family=Gaussian())\n",
    "model.fit(credit_card, formula='AVGEXP ~ AGE + INCOME + INCOMESQ + OWNRENT')\n",
    "model.summary()\n",
    "\n",
    "y_hat_C = model.predict(credit_card[['AGE','INCOME','INCOMESQ','OWNRENT']])"
   ]
  },
  {
   "cell_type": "code",
   "execution_count": 82,
   "metadata": {},
   "outputs": [
    {
     "name": "stdout",
     "output_type": "stream",
     "text": [
      "Predictor            p-value\n",
      "------------------------------\n",
      "Intercept            0.234\n",
      "AGE                  0.576\n",
      "INCOME               0.004\n",
      "INCOMESQ             0.045\n",
      "OWNRENT              0.736\n"
     ]
    }
   ],
   "source": [
    "names = model.X_names\n",
    "p_values = model.p_values_\n",
    "\n",
    "print(\"Predictor            p-value\")\n",
    "print(\"-\"*30)\n",
    "for name, p in zip(names, p_values):\n",
    "    print(f\"{name :<20} {p:2.3f}\")"
   ]
  },
  {
   "cell_type": "code",
   "execution_count": 20,
   "metadata": {},
   "outputs": [
    {
     "data": {
      "text/plain": [
       "array([[<AxesSubplot:xlabel='AVGEXP', ylabel='AVGEXP'>,\n",
       "        <AxesSubplot:xlabel='AGE', ylabel='AVGEXP'>,\n",
       "        <AxesSubplot:xlabel='INCOME', ylabel='AVGEXP'>,\n",
       "        <AxesSubplot:xlabel='INCOMESQ', ylabel='AVGEXP'>,\n",
       "        <AxesSubplot:xlabel='OWNRENT', ylabel='AVGEXP'>],\n",
       "       [<AxesSubplot:xlabel='AVGEXP', ylabel='AGE'>,\n",
       "        <AxesSubplot:xlabel='AGE', ylabel='AGE'>,\n",
       "        <AxesSubplot:xlabel='INCOME', ylabel='AGE'>,\n",
       "        <AxesSubplot:xlabel='INCOMESQ', ylabel='AGE'>,\n",
       "        <AxesSubplot:xlabel='OWNRENT', ylabel='AGE'>],\n",
       "       [<AxesSubplot:xlabel='AVGEXP', ylabel='INCOME'>,\n",
       "        <AxesSubplot:xlabel='AGE', ylabel='INCOME'>,\n",
       "        <AxesSubplot:xlabel='INCOME', ylabel='INCOME'>,\n",
       "        <AxesSubplot:xlabel='INCOMESQ', ylabel='INCOME'>,\n",
       "        <AxesSubplot:xlabel='OWNRENT', ylabel='INCOME'>],\n",
       "       [<AxesSubplot:xlabel='AVGEXP', ylabel='INCOMESQ'>,\n",
       "        <AxesSubplot:xlabel='AGE', ylabel='INCOMESQ'>,\n",
       "        <AxesSubplot:xlabel='INCOME', ylabel='INCOMESQ'>,\n",
       "        <AxesSubplot:xlabel='INCOMESQ', ylabel='INCOMESQ'>,\n",
       "        <AxesSubplot:xlabel='OWNRENT', ylabel='INCOMESQ'>],\n",
       "       [<AxesSubplot:xlabel='AVGEXP', ylabel='OWNRENT'>,\n",
       "        <AxesSubplot:xlabel='AGE', ylabel='OWNRENT'>,\n",
       "        <AxesSubplot:xlabel='INCOME', ylabel='OWNRENT'>,\n",
       "        <AxesSubplot:xlabel='INCOMESQ', ylabel='OWNRENT'>,\n",
       "        <AxesSubplot:xlabel='OWNRENT', ylabel='OWNRENT'>]], dtype=object)"
      ]
     },
     "execution_count": 20,
     "metadata": {},
     "output_type": "execute_result"
    },
    {
     "data": {
      "image/png": "[encoded data removed]",
      "text/plain": [
       "<Figure size 432x288 with 25 Axes>"
      ]
     },
     "metadata": {
      "needs_background": "light"
     },
     "output_type": "display_data"
    }
   ],
   "source": [
    "pd.plotting.scatter_matrix(credit_card, alpha=0.2)"
   ]
  },
  {
   "cell_type": "code",
   "execution_count": 33,
   "metadata": {},
   "outputs": [],
   "source": [
    "import numpy as np\n",
    "\n",
    "np.random.seed(1)\n",
    "n = 500  \n",
    "x = np.random.uniform(-2, 4, size=n)\n",
    "y = 1 + x - 0.5 * x * x + np.random.normal(size=n)"
   ]
  },
  {
   "cell_type": "code",
   "execution_count": 35,
   "metadata": {},
   "outputs": [],
   "source": [
    "\n",
    "%matplotlib inline\n",
    "\n",
    "from math import ceil\n",
    "import numpy as np\n",
    "import pandas as pd\n",
    "import scipy.stats as stats\n",
    "\n",
    "from sklearn.linear_model import LinearRegression\n",
    "from sklearn.pipeline import Pipeline\n",
    "\n",
    "from glm.glm import GLM\n",
    "from glm.families import Gaussian\n",
    "\n",
    "\n",
    "X = np.empty((len(x), 2))\n",
    "X[:, 0] = x\n",
    "X[:, 1] = x**2\n",
    "\n",
    "quadratic_model = LinearRegression()\n",
    "quadratic_model.fit(X, y)\n",
    "\n",
    "y_hat = quadratic_model.predict(X)"
   ]
  },
  {
   "cell_type": "code",
   "execution_count": 36,
   "metadata": {},
   "outputs": [
    {
     "data": {
      "text/plain": [
       "array([[ 5.02132028e-01,  2.52136574e-01],\n",
       "       [ 2.32194696e+00,  5.39143769e+00],\n",
       "       [-1.99931375e+00,  3.99725548e+00],\n",
       "       [-1.86004564e-01,  3.45976979e-02],\n",
       "       [-1.11946466e+00,  1.25320111e+00],\n",
       "       [-1.44596843e+00,  2.09082470e+00],\n",
       "       [-8.82438732e-01,  7.78698115e-01],\n",
       "       [ 7.33643623e-02,  5.38232965e-03],\n",
       "       [ 3.80604845e-01,  1.44860048e-01],\n",
       "       [ 1.23290040e+00,  1.52004341e+00],\n",
       "       [ 5.15167086e-01,  2.65397127e-01],\n",
       "       [ 2.11131700e+00,  4.45765948e+00],\n",
       "       [-7.73286502e-01,  5.97972014e-01],\n",
       "       [ 3.26870462e+00,  1.06844299e+01],\n",
       "       [-1.83567444e+00,  3.36970065e+00],\n",
       "       [ 2.02280506e+00,  4.09174032e+00],\n",
       "       [ 5.03828814e-01,  2.53843474e-01],\n",
       "       [ 1.35213897e+00,  1.82827980e+00],\n",
       "       [-1.15767837e+00,  1.34021920e+00],\n",
       "       [-8.11391065e-01,  6.58355461e-01],\n",
       "       [ 2.80446741e+00,  7.86503747e+00],\n",
       "       [ 3.80956945e+00,  1.45128194e+01],\n",
       "       [-1.19454931e-01,  1.42694806e-02],\n",
       "       [ 2.15393569e+00,  4.63943897e+00],\n",
       "       [ 3.25833491e+00,  1.06167464e+01],\n",
       "       [ 3.36763998e+00,  1.13409990e+01],\n",
       "       [-1.48973473e+00,  2.21930957e+00],\n",
       "       [-1.76567130e+00,  3.11759514e+00],\n",
       "       [-9.81017483e-01,  9.62395301e-01],\n",
       "       [ 3.26885502e+00,  1.06854131e+01],\n",
       "       [-1.40991900e+00,  1.98787158e+00],\n",
       "       [ 5.26645750e-01,  2.77355746e-01],\n",
       "       [ 3.74733718e+00,  1.40425359e+01],\n",
       "       [ 1.19899171e+00,  1.43758112e+00],\n",
       "       [ 2.15126268e+00,  4.62793113e+00],\n",
       "       [-1.06906214e-01,  1.14289386e-02],\n",
       "       [ 2.11900557e+00,  4.49018459e+00],\n",
       "       [ 3.00775403e+00,  9.04658431e+00],\n",
       "       [-1.89027034e+00,  3.57312194e+00],\n",
       "       [ 2.50086589e+00,  6.25433020e+00],\n",
       "       [ 3.93316653e+00,  1.54697990e+01],\n",
       "       [ 2.48899393e+00,  6.19509077e+00],\n",
       "       [-3.17336048e-01,  1.00702167e-01],\n",
       "       [ 2.73567597e+00,  7.48392302e+00],\n",
       "       [-1.38064396e+00,  1.90617775e+00],\n",
       "       [ 6.87361157e-01,  4.72465360e-01],\n",
       "       [ 3.45157302e+00,  1.19133563e+01],\n",
       "       [-2.38315110e-01,  5.67940915e-02],\n",
       "       [-2.73347968e-01,  7.47191119e-02],\n",
       "       [-1.21982857e+00,  1.48798173e+00],\n",
       "       [-1.88379825e+00,  3.54869586e+00],\n",
       "       [ 2.07301320e+00,  4.29738372e+00],\n",
       "       [-7.30231304e-01,  5.33237757e-01],\n",
       "       [-4.06720044e-01,  1.65421194e-01],\n",
       "       [ 9.49438956e-01,  9.01434331e-01],\n",
       "       [-1.67982473e+00,  2.82181112e+00],\n",
       "       [ 1.44470563e+00,  2.08717437e+00],\n",
       "       [-1.11962855e+00,  1.25356809e+00],\n",
       "       [ 1.53583322e+00,  2.35878368e+00],\n",
       "       [ 2.19855016e+00,  4.83362281e+00],\n",
       "       [-1.38599343e+00,  1.92097778e+00],\n",
       "       [ 4.84335927e-01,  2.34581290e-01],\n",
       "       [ 2.16640095e+00,  4.69329306e+00],\n",
       "       [ 4.85075617e-01,  2.35298354e-01],\n",
       "       [-1.70027925e+00,  2.89094952e+00],\n",
       "       [ 1.21537844e+00,  1.47714474e+00],\n",
       "       [ 1.98276787e+00,  3.93136843e+00],\n",
       "       [ 1.08933467e+00,  1.18665003e+00],\n",
       "       [ 3.66756854e+00,  1.34510590e+01],\n",
       "       [ 1.51933024e+00,  2.30836439e+00],\n",
       "       [ 3.42041149e+00,  1.16992148e+01],\n",
       "       [-1.17515178e+00,  1.38098169e+00],\n",
       "       [-1.16434192e+00,  1.35569210e+00],\n",
       "       [ 2.84434773e+00,  8.09031402e+00],\n",
       "       [ 3.86061022e-01,  1.49043113e-01],\n",
       "       [-1.00787482e+00,  1.01581165e+00],\n",
       "       [ 3.56505148e+00,  1.27095921e+01],\n",
       "       [ 8.65951585e-02,  7.49872147e-03],\n",
       "       [ 2.50487262e+00,  6.27438684e+00],\n",
       "       [ 2.35598791e+00,  5.55067904e+00],\n",
       "       [ 3.29983655e+00,  1.08889212e+01],\n",
       "       [ 1.74203324e+00,  3.03467982e+00],\n",
       "       [ 2.50565460e+00,  6.27830500e+00],\n",
       "       [ 9.33900519e-02,  8.72170179e-03],\n",
       "       [-3.80432649e-01,  1.44729001e-01],\n",
       "       [ 3.37531731e+00,  1.13927669e+01],\n",
       "       [ 5.68547139e-01,  3.23245850e-01],\n",
       "       [ 3.78904028e+00,  1.43568263e+01],\n",
       "       [ 1.98064899e+00,  3.92297041e+00],\n",
       "       [ 1.73017432e+00,  2.99350318e+00],\n",
       "       [-1.31152416e+00,  1.72009563e+00],\n",
       "       [ 3.69693555e+00,  1.36673325e+01],\n",
       "       [ 6.99472801e-01,  4.89262199e-01],\n",
       "       [ 1.47033769e+00,  2.16189291e+00],\n",
       "       [ 4.48820817e-01,  2.01440125e-01],\n",
       "       [-5.77838119e-01,  3.33896891e-01],\n",
       "       [ 3.42027712e+00,  1.16982956e+01],\n",
       "       [ 1.44207692e+00,  2.07958584e+00],\n",
       "       [-1.98277804e+00,  3.93140875e+00],\n",
       "       [ 1.70286948e+00,  2.89976447e+00],\n",
       "       [-4.01305894e-02,  1.61046420e-03],\n",
       "       [ 1.16234861e+00,  1.35105430e+00],\n",
       "       [ 3.31565260e+00,  1.09935521e+01],\n",
       "       [ 1.43618560e-01,  2.06262908e-02],\n",
       "       [ 3.45121091e+00,  1.19108567e+01],\n",
       "       [ 1.74016069e+00,  3.02815924e+00],\n",
       "       [-1.90507254e+00,  3.62930139e+00],\n",
       "       [ 3.57662340e+00,  1.27922350e+01],\n",
       "       [ 2.14538151e+00,  4.60266180e+00],\n",
       "       [ 3.98393710e+00,  1.58717548e+01],\n",
       "       [-9.65956950e-01,  9.33072829e-01],\n",
       "       [-1.17718550e+00,  1.38576571e+00],\n",
       "       [ 3.59557278e+00,  1.29281436e+01],\n",
       "       [ 2.18090897e+00,  4.75636393e+00],\n",
       "       [-1.60399896e+00,  2.57281268e+00],\n",
       "       [ 2.53277832e+00,  6.41496600e+00],\n",
       "       [ 2.52325713e+00,  6.36682655e+00],\n",
       "       [ 3.53814721e+00,  1.25184857e+01],\n",
       "       [ 2.26914855e+00,  5.14903515e+00],\n",
       "       [-1.25437423e+00,  1.57345470e+00],\n",
       "       [-1.88071920e+00,  3.53710470e+00],\n",
       "       [-1.84273408e+00,  3.39566888e+00],\n",
       "       [-1.83016107e+00,  3.34948955e+00],\n",
       "       [-5.22733594e-01,  2.73250411e-01],\n",
       "       [ 3.16016769e+00,  9.98665984e+00],\n",
       "       [ 1.23298639e+00,  1.52025543e+00],\n",
       "       [ 1.31693187e+00,  1.73430956e+00],\n",
       "       [ 3.05218535e+00,  9.31583544e+00],\n",
       "       [-1.25496011e+00,  1.57492488e+00],\n",
       "       [-3.24897926e-01,  1.05558662e-01],\n",
       "       [ 1.51455563e+00,  2.29387875e+00],\n",
       "       [ 3.81757449e+00,  1.45738750e+01],\n",
       "       [ 1.36618132e+00,  1.86645139e+00],\n",
       "       [-1.88811626e+00,  3.56498303e+00],\n",
       "       [ 2.80379604e+00,  7.86127221e+00],\n",
       "       [-6.02154357e-01,  3.62589870e-01],\n",
       "       [ 2.84263117e+00,  8.08055199e+00],\n",
       "       [ 3.27163864e-01,  1.07036194e-01],\n",
       "       [ 3.18125113e+00,  1.01203587e+01],\n",
       "       [ 2.48272986e+00,  6.16394754e+00],\n",
       "       [ 1.33744140e+00,  1.78874951e+00],\n",
       "       [-1.18126865e+00,  1.39539561e+00],\n",
       "       [-1.64049386e+00,  2.69122011e+00],\n",
       "       [-1.27193927e+00,  1.61782950e+00],\n",
       "       [-1.73268873e+00,  3.00221023e+00],\n",
       "       [-1.35503523e+00,  1.83612046e+00],\n",
       "       [-6.45743968e-01,  4.16985273e-01],\n",
       "       [ 2.27793388e+00,  5.18898277e+00],\n",
       "       [ 1.35830189e+00,  1.84498403e+00],\n",
       "       [-1.92466412e+00,  3.70433197e+00],\n",
       "       [-1.56815432e+00,  2.45910798e+00],\n",
       "       [ 3.80365798e+00,  1.44678140e+01],\n",
       "       [ 1.40860277e+00,  1.98416177e+00],\n",
       "       [-7.80240592e-01,  6.08775381e-01],\n",
       "       [-4.86045533e-01,  2.36240260e-01],\n",
       "       [ 2.46295512e+00,  6.06614795e+00],\n",
       "       [-8.27423113e-01,  6.84629008e-01],\n",
       "       [ 1.48815356e+00,  2.21460103e+00],\n",
       "       [ 3.82011993e+00,  1.45933163e+01],\n",
       "       [ 3.08097281e+00,  9.49239345e+00],\n",
       "       [-5.60913445e-01,  3.14623893e-01],\n",
       "       [ 9.62618286e-01,  9.26633964e-01],\n",
       "       [ 1.71973431e+00,  2.95748610e+00],\n",
       "       [ 2.97388540e+00,  8.84399436e+00],\n",
       "       [-1.05925163e+00,  1.12201402e+00],\n",
       "       [-1.88854279e+00,  3.56659386e+00],\n",
       "       [-1.57986714e+00,  2.49598017e+00],\n",
       "       [ 9.18070666e-01,  8.42853747e-01],\n",
       "       [ 1.63797677e+00,  2.68296790e+00],\n",
       "       [ 1.41310862e+00,  1.99687598e+00],\n",
       "       [-9.58255441e-02,  9.18253490e-03],\n",
       "       [ 3.93169693e+00,  1.54582407e+01],\n",
       "       [ 1.47847132e+00,  2.18587743e+00],\n",
       "       [ 2.80847036e-01,  7.88750575e-02],\n",
       "       [ 1.30568931e+00,  1.70482459e+00],\n",
       "       [ 2.47200659e+00,  6.11081656e+00],\n",
       "       [ 2.01539736e+00,  4.06182652e+00],\n",
       "       [-4.10482654e-01,  1.68496009e-01],\n",
       "       [-1.60199099e+00,  2.56637514e+00],\n",
       "       [ 2.20505187e-01,  4.86225377e-02],\n",
       "       [ 1.77830504e+00,  3.16236882e+00],\n",
       "       [-7.38955941e-01,  5.46055882e-01],\n",
       "       [ 2.51653332e+00,  6.33293996e+00],\n",
       "       [-1.60078111e+00,  2.56250017e+00],\n",
       "       [-4.38109409e-01,  1.91939854e-01],\n",
       "       [ 2.82852738e+00,  8.00056715e+00],\n",
       "       [-8.39394304e-01,  7.04582798e-01],\n",
       "       [ 1.83676529e+00,  3.37370671e+00],\n",
       "       [ 1.14802185e+00,  1.31795418e+00],\n",
       "       [ 3.54884782e+00,  1.25943209e+01],\n",
       "       [-4.20219377e-01,  1.76584325e-01],\n",
       "       [-1.60423346e+00,  2.57356498e+00],\n",
       "       [ 2.41039578e+00,  5.81000781e+00],\n",
       "       [ 2.63306818e+00,  6.93304803e+00],\n",
       "       [ 3.44689512e+00,  1.18810859e+01],\n",
       "       [ 3.59183242e+00,  1.29012601e+01],\n",
       "       [-1.91629056e+00,  3.67216952e+00],\n",
       "       [-5.93827483e-01,  3.52631080e-01],\n",
       "       [ 1.70067014e+00,  2.89227893e+00],\n",
       "       [ 3.69409792e+00,  1.36463595e+01],\n",
       "       [ 3.70105672e+00,  1.36978208e+01],\n",
       "       [ 1.33991913e+00,  1.79538327e+00],\n",
       "       [ 3.49363810e+00,  1.22055072e+01],\n",
       "       [ 1.84939725e+00,  3.42027020e+00],\n",
       "       [ 3.40046285e-01,  1.15631476e-01],\n",
       "       [ 9.15944003e-01,  8.38953416e-01],\n",
       "       [ 1.62586290e+00,  2.64343016e+00],\n",
       "       [ 1.29728753e+00,  1.68295493e+00],\n",
       "       [ 3.55708856e+00,  1.26528790e+01],\n",
       "       [ 3.51240061e+00,  1.23369581e+01],\n",
       "       [ 3.69253678e-01,  1.36348278e-01],\n",
       "       [ 3.77957517e+00,  1.42851885e+01],\n",
       "       [-9.56266000e-01,  9.14444663e-01],\n",
       "       [-1.24202288e+00,  1.54262084e+00],\n",
       "       [-1.18952505e+00,  1.41496985e+00],\n",
       "       [ 1.03397299e+00,  1.06910015e+00],\n",
       "       [-1.87085117e+00,  3.50008409e+00],\n",
       "       [ 3.68782127e+00,  1.36000257e+01],\n",
       "       [ 2.96269283e+00,  8.77754879e+00],\n",
       "       [-1.90988612e+00,  3.64766497e+00],\n",
       "       [-9.42822467e-01,  8.88914203e-01],\n",
       "       [-7.61855380e-03,  5.80423620e-05],\n",
       "       [-1.21401893e+00,  1.47384197e+00],\n",
       "       [ 2.85694415e+00,  8.16212989e+00],\n",
       "       [ 6.84199161e-02,  4.68128492e-03],\n",
       "       [ 3.64064489e+00,  1.32542952e+01],\n",
       "       [ 1.49208508e+00,  2.22631789e+00],\n",
       "       [ 3.27299191e+00,  1.07124760e+01],\n",
       "       [ 3.06840667e+00,  9.41511951e+00],\n",
       "       [ 3.43235391e+00,  1.17810534e+01],\n",
       "       [ 7.59281595e-01,  5.76508540e-01],\n",
       "       [ 1.27808090e+00,  1.63349078e+00],\n",
       "       [ 2.79162155e+00,  7.79315086e+00],\n",
       "       [-2.85686890e-01,  8.16169989e-02],\n",
       "       [ 9.41521136e-01,  8.86462049e-01],\n",
       "       [ 1.59466185e+00,  2.54294640e+00],\n",
       "       [-1.90680035e+00,  3.63588756e+00],\n",
       "       [ 1.56088845e+00,  2.43637275e+00],\n",
       "       [ 6.02058094e-01,  3.62473948e-01],\n",
       "       [ 2.84416317e+00,  8.08926416e+00],\n",
       "       [-1.08531181e-01,  1.17790173e-02],\n",
       "       [ 3.35733225e+00,  1.12716798e+01],\n",
       "       [ 1.46714329e+00,  2.15250944e+00],\n",
       "       [-8.95938790e-01,  8.02706316e-01],\n",
       "       [ 2.72757540e+00,  7.43966758e+00],\n",
       "       [ 1.67218706e+00,  2.79620957e+00],\n",
       "       [-1.67654437e+00,  2.81080102e+00],\n",
       "       [ 5.21162080e-01,  2.71609914e-01],\n",
       "       [ 2.07441302e+00,  4.30318938e+00],\n",
       "       [ 3.51161067e+00,  1.23314095e+01],\n",
       "       [-1.99758785e+00,  3.99035722e+00],\n",
       "       [ 3.86055489e+00,  1.49038841e+01],\n",
       "       [ 2.59481888e-01,  6.73308504e-02],\n",
       "       [ 3.84270123e+00,  1.47663527e+01],\n",
       "       [ 1.62829661e+00,  2.65134984e+00],\n",
       "       [ 2.97307485e+00,  8.83917405e+00],\n",
       "       [ 1.44826903e+00,  2.09748318e+00],\n",
       "       [ 1.76845719e+00,  3.12744083e+00],\n",
       "       [-2.86542310e-01,  8.21064953e-02],\n",
       "       [ 1.52100004e+00,  2.31344113e+00],\n",
       "       [ 2.50013058e+00,  6.25065293e+00],\n",
       "       [ 3.14988302e+00,  9.92176303e+00],\n",
       "       [ 2.53049313e+00,  6.40339549e+00],\n",
       "       [ 2.18834349e+00,  4.78884723e+00],\n",
       "       [ 3.18687658e+00,  1.01561823e+01],\n",
       "       [-6.39140190e-02,  4.08500182e-03],\n",
       "       [ 2.02473274e+00,  4.09954269e+00],\n",
       "       [ 7.05243618e-01,  4.97368561e-01],\n",
       "       [ 2.92616512e-01,  8.56244232e-02],\n",
       "       [ 4.64868100e-01,  2.16102350e-01],\n",
       "       [ 4.08877501e-01,  1.67180811e-01],\n",
       "       [-9.56963243e-02,  9.15778648e-03],\n",
       "       [ 1.73151621e+00,  2.99814838e+00],\n",
       "       [ 5.81483625e-01,  3.38123206e-01],\n",
       "       [ 3.84281247e+00,  1.47672077e+01],\n",
       "       [ 2.06680535e+00,  4.27168435e+00],\n",
       "       [-8.08580669e-01,  6.53802699e-01],\n",
       "       [ 5.60206056e-01,  3.13830825e-01],\n",
       "       [ 6.00774386e-02,  3.60929863e-03],\n",
       "       [ 2.78583282e+00,  7.76086452e+00],\n",
       "       [ 3.27998973e+00,  1.07583326e+01],\n",
       "       [ 3.42305173e+00,  1.17172832e+01],\n",
       "       [ 1.97631887e+00,  3.90583629e+00],\n",
       "       [-3.78750428e-01,  1.43451887e-01],\n",
       "       [-4.85799791e-01,  2.36001437e-01],\n",
       "       [ 3.12938766e+00,  9.79306710e+00],\n",
       "       [ 1.16628788e+00,  1.36022741e+00],\n",
       "       [ 2.81296650e+00,  7.91278055e+00],\n",
       "       [ 1.43493110e+00,  2.05902727e+00],\n",
       "       [ 2.39885515e+00,  5.75450604e+00],\n",
       "       [ 1.11406976e+00,  1.24115144e+00],\n",
       "       [ 2.62530346e+00,  6.89221827e+00],\n",
       "       [ 1.41314794e+00,  1.99698711e+00],\n",
       "       [ 7.94259272e-01,  6.30847790e-01],\n",
       "       [ 5.61334477e-02,  3.15096395e-03],\n",
       "       [-1.59074391e+00,  2.53046619e+00],\n",
       "       [ 2.67545076e-01,  7.15803677e-02],\n",
       "       [-1.52224353e+00,  2.31722538e+00],\n",
       "       [ 3.89690268e+00,  1.51858505e+01],\n",
       "       [-9.10322892e-01,  8.28687768e-01],\n",
       "       [ 2.87115219e+00,  8.24351488e+00],\n",
       "       [ 3.24976987e+00,  1.05610042e+01],\n",
       "       [ 2.13047951e+00,  4.53894296e+00],\n",
       "       [ 1.41696648e+00,  2.00779400e+00],\n",
       "       [-1.03417138e+00,  1.06951044e+00],\n",
       "       [ 8.01280137e-01,  6.42049857e-01],\n",
       "       [ 7.10323069e-02,  5.04558863e-03],\n",
       "       [-6.49760253e-01,  4.22188387e-01],\n",
       "       [ 1.55507121e+00,  2.41824648e+00],\n",
       "       [-1.26380974e-01,  1.59721505e-02],\n",
       "       [ 3.49783332e+00,  1.22348379e+01],\n",
       "       [ 3.45781315e+00,  1.19564718e+01],\n",
       "       [-4.57290237e-01,  2.09114361e-01],\n",
       "       [-1.33465220e+00,  1.78129648e+00],\n",
       "       [-8.42223608e-01,  7.09340606e-01],\n",
       "       [ 9.97505024e-01,  9.95016273e-01],\n",
       "       [ 2.37151401e+00,  5.62407869e+00],\n",
       "       [-7.50833370e-01,  5.63750749e-01],\n",
       "       [-5.11798650e-01,  2.61937858e-01],\n",
       "       [ 3.11003125e+00,  9.67229437e+00],\n",
       "       [ 4.95092310e-01,  2.45116395e-01],\n",
       "       [ 1.70011040e+00,  2.89037538e+00],\n",
       "       [-5.98003165e-01,  3.57607785e-01],\n",
       "       [-1.38819644e+00,  1.92708937e+00],\n",
       "       [ 1.09514210e+00,  1.19933622e+00],\n",
       "       [ 8.62845922e-01,  7.44503086e-01],\n",
       "       [-1.08397014e+00,  1.17499125e+00],\n",
       "       [ 1.73083739e+00,  2.99579807e+00],\n",
       "       [ 1.26406071e+00,  1.59784949e+00],\n",
       "       [ 1.92482408e+00,  3.70494775e+00],\n",
       "       [-1.13272676e+00,  1.28306991e+00],\n",
       "       [ 2.50916690e+00,  6.29591855e+00],\n",
       "       [-6.67705161e-01,  4.45830182e-01],\n",
       "       [ 1.11611095e+00,  1.24570364e+00],\n",
       "       [ 2.71177617e+00,  7.35372999e+00],\n",
       "       [-1.86601743e+00,  3.48202106e+00],\n",
       "       [-5.38252416e-02,  2.89715664e-03],\n",
       "       [ 3.23753426e+00,  1.04816281e+01],\n",
       "       [ 3.06825765e+00,  9.41420498e+00],\n",
       "       [ 1.23064356e+00,  1.51448356e+00],\n",
       "       [ 3.19964964e+00,  1.02377579e+01],\n",
       "       [ 3.69883595e+00,  1.36813874e+01],\n",
       "       [ 2.95844199e+00,  8.75237898e+00],\n",
       "       [ 3.12469266e+00,  9.76370424e+00],\n",
       "       [-1.40753959e+00,  1.98116769e+00],\n",
       "       [ 1.90782599e+00,  3.63980002e+00],\n",
       "       [ 2.22110193e+00,  4.93329378e+00],\n",
       "       [ 1.66144488e+00,  2.76039908e+00],\n",
       "       [ 2.79769157e+00,  7.82707812e+00],\n",
       "       [-1.79257268e+00,  3.21331682e+00],\n",
       "       [ 2.62143241e+00,  6.87190787e+00],\n",
       "       [ 2.39037160e+00,  5.71387641e+00],\n",
       "       [-4.41809640e-01,  1.95195758e-01],\n",
       "       [-4.57584207e-01,  2.09383307e-01],\n",
       "       [ 1.79381990e+00,  3.21778985e+00],\n",
       "       [ 7.17847695e-02,  5.15305314e-03],\n",
       "       [ 2.77953207e+00,  7.72579852e+00],\n",
       "       [ 6.76877392e-01,  4.58163004e-01],\n",
       "       [ 2.69649649e+00,  7.27109331e+00],\n",
       "       [ 3.94283070e+00,  1.55459139e+01],\n",
       "       [-1.98509963e-01,  3.94062053e-02],\n",
       "       [-1.14196503e+00,  1.30408413e+00],\n",
       "       [ 3.40785062e+00,  1.16134458e+01],\n",
       "       [ 1.24935627e+00,  1.56089110e+00],\n",
       "       [ 3.84844223e+00,  1.48105076e+01],\n",
       "       [ 1.81962640e+00,  3.31104024e+00],\n",
       "       [ 3.96347815e+00,  1.57091590e+01],\n",
       "       [ 1.27642482e+00,  1.62926033e+00],\n",
       "       [ 1.15855560e+00,  1.34225109e+00],\n",
       "       [-1.18743258e+00,  1.40999614e+00],\n",
       "       [ 1.34231026e-01,  1.80179683e-02],\n",
       "       [-1.84268860e+00,  3.39550126e+00],\n",
       "       [-1.03762892e+00,  1.07667378e+00],\n",
       "       [ 2.47382316e+00,  6.11980101e+00],\n",
       "       [-1.81760186e+00,  3.30367652e+00],\n",
       "       [ 1.99258583e-01,  3.97039831e-02],\n",
       "       [ 3.17407752e+00,  1.00747681e+01],\n",
       "       [ 2.15606631e+00,  4.64862191e+00],\n",
       "       [ 2.14565285e+00,  4.60382616e+00],\n",
       "       [-8.68179194e-01,  7.53735113e-01],\n",
       "       [ 6.51425684e-01,  4.24355422e-01],\n",
       "       [ 1.48946444e+00,  2.21850433e+00],\n",
       "       [ 3.93851025e+00,  1.55118630e+01],\n",
       "       [-7.76562649e-01,  6.03049547e-01],\n",
       "       [-5.13602589e-01,  2.63787620e-01],\n",
       "       [-4.26961497e-01,  1.82296120e-01],\n",
       "       [ 2.50103448e+00,  6.25517347e+00],\n",
       "       [ 7.41851965e-01,  5.50344337e-01],\n",
       "       [-1.65842337e+00,  2.75036807e+00],\n",
       "       [ 1.05109744e+00,  1.10480584e+00],\n",
       "       [-7.28239012e-01,  5.30332059e-01],\n",
       "       [ 2.79162547e+00,  7.79317276e+00],\n",
       "       [-2.16011711e-01,  4.66610593e-02],\n",
       "       [-1.83436393e+00,  3.36489102e+00],\n",
       "       [ 1.56059470e+00,  2.43545581e+00],\n",
       "       [ 3.06304257e+00,  9.38222981e+00],\n",
       "       [ 2.86096744e-01,  8.18513471e-02],\n",
       "       [ 2.49914986e+00,  6.24575004e+00],\n",
       "       [ 1.06684887e+00,  1.13816651e+00],\n",
       "       [ 1.24571083e+00,  1.55179547e+00],\n",
       "       [ 3.75660593e+00,  1.41120881e+01],\n",
       "       [ 2.82376535e+00,  7.97365075e+00],\n",
       "       [-1.80606160e+00,  3.26185850e+00],\n",
       "       [ 2.25632351e+00,  5.09099577e+00],\n",
       "       [ 7.90008889e-01,  6.24114045e-01],\n",
       "       [ 3.68529365e+00,  1.35813893e+01],\n",
       "       [-6.71403594e-01,  4.50782786e-01],\n",
       "       [-3.97567882e-01,  1.58060221e-01],\n",
       "       [-1.51115621e+00,  2.28359309e+00],\n",
       "       [ 5.71712972e-01,  3.26855722e-01],\n",
       "       [-1.34588742e+00,  1.81141294e+00],\n",
       "       [ 1.80272056e+00,  3.24980143e+00],\n",
       "       [ 2.81777942e+00,  7.93988088e+00],\n",
       "       [ 2.18080298e+00,  4.75590162e+00],\n",
       "       [ 2.59726829e+00,  6.74580255e+00],\n",
       "       [ 5.47247191e-02,  2.99479488e-03],\n",
       "       [ 3.07510890e+00,  9.45629474e+00],\n",
       "       [ 5.72612650e-01,  3.27885247e-01],\n",
       "       [ 2.94405922e+00,  8.66748471e+00],\n",
       "       [ 1.75897695e+00,  3.09399992e+00],\n",
       "       [-1.13946171e+00,  1.29837298e+00],\n",
       "       [-1.52967860e+00,  2.33991662e+00],\n",
       "       [-1.89000414e+00,  3.57211566e+00],\n",
       "       [-1.59965001e+00,  2.55888017e+00],\n",
       "       [ 7.51502882e-01,  5.64756582e-01],\n",
       "       [-1.31994846e+00,  1.74226395e+00],\n",
       "       [-1.83329991e+00,  3.36098855e+00],\n",
       "       [ 2.52916889e+00,  6.39669527e+00],\n",
       "       [ 3.69102883e-01,  1.36236938e-01],\n",
       "       [ 2.48163097e+00,  6.15849229e+00],\n",
       "       [ 7.14428960e-01,  5.10408740e-01],\n",
       "       [ 7.00520482e-01,  4.90728946e-01],\n",
       "       [ 8.68435040e-01,  7.54179419e-01],\n",
       "       [ 8.44023559e-01,  7.12375769e-01],\n",
       "       [ 2.81898005e+00,  7.94664854e+00],\n",
       "       [ 4.14355119e-01,  1.71690165e-01],\n",
       "       [ 3.42811696e+00,  1.17519859e+01],\n",
       "       [-1.77763371e+00,  3.15998162e+00],\n",
       "       [ 2.64324606e+00,  6.98674971e+00],\n",
       "       [-1.24615171e+00,  1.55289409e+00],\n",
       "       [ 1.71108140e+00,  2.92779956e+00],\n",
       "       [-1.93781443e+00,  3.75512477e+00],\n",
       "       [ 1.23176370e+00,  1.51724180e+00],\n",
       "       [-1.98189226e+00,  3.92789693e+00],\n",
       "       [ 3.70716271e+00,  1.37430554e+01],\n",
       "       [ 3.43241220e+00,  1.17814535e+01],\n",
       "       [ 2.77580165e+00,  7.70507481e+00],\n",
       "       [ 3.49164592e+00,  1.21915912e+01],\n",
       "       [-1.12665061e+00,  1.26934160e+00],\n",
       "       [-1.05361958e+00,  1.11011422e+00],\n",
       "       [-8.74209963e-01,  7.64243059e-01],\n",
       "       [ 1.73497541e+00,  3.01013969e+00],\n",
       "       [ 3.43485698e+00,  1.17982424e+01],\n",
       "       [ 3.93973107e+00,  1.55214809e+01],\n",
       "       [ 2.26673475e+00,  5.13808644e+00],\n",
       "       [ 2.39080245e+00,  5.71593638e+00],\n",
       "       [ 3.45575923e+00,  1.19422718e+01],\n",
       "       [ 4.05242394e-01,  1.64221398e-01],\n",
       "       [-5.00895919e-01,  2.50896721e-01],\n",
       "       [-9.59418975e-01,  9.20484770e-01],\n",
       "       [-1.28325770e+00,  1.64675032e+00],\n",
       "       [ 2.87566353e+00,  8.26944073e+00],\n",
       "       [-1.11924576e+00,  1.25271107e+00],\n",
       "       [-4.14215104e-01,  1.71574152e-01],\n",
       "       [ 2.91453507e+00,  8.49451468e+00],\n",
       "       [-1.36476489e-01,  1.86258321e-02],\n",
       "       [ 3.89450470e+00,  1.51671668e+01],\n",
       "       [-4.00167787e-01,  1.60134258e-01],\n",
       "       [ 1.20192007e+00,  1.44461185e+00],\n",
       "       [-1.13197933e-01,  1.28137720e-02],\n",
       "       [ 3.46463699e+00,  1.20037095e+01],\n",
       "       [ 1.99339863e-01,  3.97363810e-02],\n",
       "       [ 6.01553964e-01,  3.61867171e-01],\n",
       "       [ 1.07375615e+00,  1.15295228e+00],\n",
       "       [ 3.63331886e+00,  1.32010060e+01],\n",
       "       [-1.81430596e+00,  3.29170613e+00],\n",
       "       [ 2.30127198e+00,  5.29585273e+00],\n",
       "       [ 3.34611373e+00,  1.11964771e+01],\n",
       "       [-1.83627666e+00,  3.37191197e+00],\n",
       "       [ 1.13230748e+00,  1.28212024e+00],\n",
       "       [-4.40611294e-02,  1.94138312e-03],\n",
       "       [ 3.15693593e+00,  9.96624444e+00],\n",
       "       [ 1.35109931e+00,  1.82546933e+00],\n",
       "       [ 2.14136721e+00,  4.58545352e+00],\n",
       "       [ 7.17121000e-01,  5.14262528e-01],\n",
       "       [ 1.76985423e+00,  3.13238398e+00],\n",
       "       [-2.59418890e-01,  6.72981604e-02],\n",
       "       [-1.94390853e+00,  3.77878038e+00],\n",
       "       [ 1.46053561e+00,  2.13316427e+00],\n",
       "       [-1.31334715e-01,  1.72488074e-02],\n",
       "       [ 1.10360559e+00,  1.21794530e+00],\n",
       "       [ 3.49843512e+00,  1.22390483e+01],\n",
       "       [ 5.58848731e-01,  3.12311904e-01],\n",
       "       [-5.15623780e-01,  2.65867883e-01],\n",
       "       [ 2.27762568e-01,  5.18757872e-02],\n",
       "       [ 3.59116670e+00,  1.28964783e+01],\n",
       "       [ 3.62121029e+00,  1.31131639e+01],\n",
       "       [ 3.06597969e+00,  9.40023147e+00],\n",
       "       [ 3.52123909e+00,  1.23991247e+01],\n",
       "       [-6.32598260e-01,  4.00180559e-01]])"
      ]
     },
     "execution_count": 36,
     "metadata": {},
     "output_type": "execute_result"
    }
   ],
   "source": [
    "quadratic_model = LinearRegression()\n",
    "quadratic_model.fit(X, y)"
   ]
  },
  {
   "cell_type": "code",
   "execution_count": 59,
   "metadata": {},
   "outputs": [],
   "source": [
    "import matplotlib.pyplot as plt\n",
    "\n",
    "def residual_plot(x, y, y_hat, n_bins=50):\n",
    "    residuals = y - y_hat\n",
    "    fig,ax = plt.subplots()\n",
    "    ax.axhline(0, color=\"black\", linestyle=\"--\")\n",
    "    ax.scatter(x, residuals, color=\"grey\", alpha=0.5)\n",
    "    ax.set_ylabel(\"Residuals ($y - \\hat y$)\")"
   ]
  },
  {
   "cell_type": "code",
   "execution_count": 78,
   "metadata": {},
   "outputs": [
    {
     "data": {
      "text/plain": [
       "(45,)"
      ]
     },
     "execution_count": 78,
     "metadata": {},
     "output_type": "execute_result"
    }
   ],
   "source": [
    "X[:,0]"
   ]
  },
  {
   "cell_type": "code",
   "execution_count": 79,
   "metadata": {},
   "outputs": [
    {
     "data": {
      "image/png": "[encoded data removed]",
      "text/plain": [
       "<Figure size 432x288 with 1 Axes>"
      ]
     },
     "metadata": {
      "needs_background": "light"
     },
     "output_type": "display_data"
    }
   ],
   "source": [
    "# Income\n",
    "\n",
    "residual_plot(X[:,0], y, y_hat, n_bins=50)"
   ]
  },
  {
   "cell_type": "code",
   "execution_count": 80,
   "metadata": {},
   "outputs": [
    {
     "data": {
      "image/png": "[encoded data removed]",
      "text/plain": [
       "<Figure size 432x288 with 1 Axes>"
      ]
     },
     "metadata": {
      "needs_background": "light"
     },
     "output_type": "display_data"
    }
   ],
   "source": [
    "# Education\n",
    "\n",
    "residual_plot(X[:,1], y, y_hat, n_bins=50)"
   ]
  },
  {
   "cell_type": "code",
   "execution_count": 72,
   "metadata": {},
   "outputs": [
    {
     "data": {
      "text/plain": [
       "(500,)"
      ]
     },
     "execution_count": 72,
     "metadata": {},
     "output_type": "execute_result"
    }
   ],
   "source": [
    "x.shape"
   ]
  },
  {
   "cell_type": "code",
   "execution_count": 86,
   "metadata": {},
   "outputs": [
    {
     "data": {
      "image/png": "[encoded data removed]",
      "text/plain": [
       "<Figure size 432x288 with 1 Axes>"
      ]
     },
     "metadata": {
      "needs_background": "light"
     },
     "output_type": "display_data"
    }
   ],
   "source": [
    "# Age\n",
    "\n",
    "residual_plot(X_C[:,0], y_C, y_hat_C, n_bins=50)"
   ]
  },
  {
   "cell_type": "code",
   "execution_count": 87,
   "metadata": {},
   "outputs": [
    {
     "data": {
      "image/png": "[encoded data removed]",
      "text/plain": [
       "<Figure size 432x288 with 1 Axes>"
      ]
     },
     "metadata": {
      "needs_background": "light"
     },
     "output_type": "display_data"
    }
   ],
   "source": [
    "# INCOME\n",
    "\n",
    "residual_plot(X_C[:,1], y_C, y_hat_C, n_bins=50)"
   ]
  },
  {
   "cell_type": "code",
   "execution_count": 88,
   "metadata": {},
   "outputs": [
    {
     "data": {
      "image/png": "[encoded data removed]",
      "text/plain": [
       "<Figure size 432x288 with 1 Axes>"
      ]
     },
     "metadata": {
      "needs_background": "light"
     },
     "output_type": "display_data"
    }
   ],
   "source": [
    "#INCOMESQ\n",
    "\n",
    "residual_plot(X_C[:,2], y_C, y_hat_C, n_bins=50)"
   ]
  },
  {
   "cell_type": "code",
   "execution_count": 89,
   "metadata": {},
   "outputs": [
    {
     "data": {
      "image/png": "[encoded data removed]",
      "text/plain": [
       "<Figure size 432x288 with 1 Axes>"
      ]
     },
     "metadata": {
      "needs_background": "light"
     },
     "output_type": "display_data"
    }
   ],
   "source": [
    "# OWNRENT\n",
    "\n",
    "residual_plot(X_C[:,3], y_C, y_hat_C, n_bins=50)"
   ]
  },
  {
   "cell_type": "code",
   "execution_count": 90,
   "metadata": {},
   "outputs": [],
   "source": [
    "import numpy as np\n",
    "\n",
    "credit_card['LOGAVGEXP'] = np.log(credit_card['AVGEXP'])"
   ]
  },
  {
   "cell_type": "code",
   "execution_count": 91,
   "metadata": {},
   "outputs": [
    {
     "data": {
      "text/plain": [
       "0     4.828154\n",
       "1     2.287471\n",
       "2     2.708050\n",
       "3     4.926311\n",
       "4     6.303534\n",
       "        ...   \n",
       "67    4.225080\n",
       "68    6.161524\n",
       "69    5.455535\n",
       "70    6.111911\n",
       "71    5.527523\n",
       "Name: LOGAVGEXP, Length: 72, dtype: float64"
      ]
     },
     "execution_count": 91,
     "metadata": {},
     "output_type": "execute_result"
    }
   ],
   "source": [
    "credit_card['LOGAVGEXP']"
   ]
  },
  {
   "cell_type": "code",
   "execution_count": 92,
   "metadata": {},
   "outputs": [],
   "source": [
    "y_log_c = credit_card['LOGAVGEXP'].to_numpy()"
   ]
  },
  {
   "cell_type": "code",
   "execution_count": 93,
   "metadata": {
    "scrolled": true
   },
   "outputs": [
    {
     "name": "stdout",
     "output_type": "stream",
     "text": [
      "Gaussian GLM Model Summary.\n",
      "================================================\n",
      "Name          Parameter Estimate  Standard Error\n",
      "------------------------------------------------\n",
      "Intercept                   3.66            0.69\n",
      "AGE                        -0.02            0.02\n",
      "INCOME                      0.77            0.28\n",
      "INCOMESQ                   -0.05            0.03\n",
      "OWNRENT                     0.34            0.29\n"
     ]
    }
   ],
   "source": [
    "model = GLM(family=Gaussian())\n",
    "model.fit(credit_card, formula='LOGAVGEXP ~ AGE + INCOME + INCOMESQ + OWNRENT')\n",
    "model.summary()\n",
    "\n",
    "y_hat_C = model.predict(credit_card[['AGE','INCOME','INCOMESQ','OWNRENT']])"
   ]
  },
  {
   "cell_type": "code",
   "execution_count": 94,
   "metadata": {},
   "outputs": [
    {
     "name": "stdout",
     "output_type": "stream",
     "text": [
      "Predictor            p-value\n",
      "------------------------------\n",
      "Intercept            0.000\n",
      "AGE                  0.201\n",
      "INCOME               0.005\n",
      "INCOMESQ             0.070\n",
      "OWNRENT              0.240\n"
     ]
    }
   ],
   "source": [
    "names = model.X_names\n",
    "p_values = model.p_values_\n",
    "\n",
    "print(\"Predictor            p-value\")\n",
    "print(\"-\"*30)\n",
    "for name, p in zip(names, p_values):\n",
    "    print(f\"{name :<20} {p:2.3f}\")"
   ]
  },
  {
   "cell_type": "code",
   "execution_count": 95,
   "metadata": {},
   "outputs": [
    {
     "data": {
      "image/png": "[encoded data removed]",
      "text/plain": [
       "<Figure size 432x288 with 1 Axes>"
      ]
     },
     "metadata": {
      "needs_background": "light"
     },
     "output_type": "display_data"
    }
   ],
   "source": [
    "# Age\n",
    "\n",
    "residual_plot(X_C[:,0], y_log_c, y_hat_C, n_bins=50)"
   ]
  },
  {
   "cell_type": "code",
   "execution_count": 96,
   "metadata": {},
   "outputs": [
    {
     "data": {
      "image/png": "[encoded data removed]",
      "text/plain": [
       "<Figure size 432x288 with 1 Axes>"
      ]
     },
     "metadata": {
      "needs_background": "light"
     },
     "output_type": "display_data"
    }
   ],
   "source": [
    "# INCOME\n",
    "\n",
    "residual_plot(X_C[:,1], y_log_c, y_hat_C, n_bins=50)"
   ]
  },
  {
   "cell_type": "code",
   "execution_count": 97,
   "metadata": {},
   "outputs": [
    {
     "data": {
      "image/png": "[encoded data removed]",
      "text/plain": [
       "<Figure size 432x288 with 1 Axes>"
      ]
     },
     "metadata": {
      "needs_background": "light"
     },
     "output_type": "display_data"
    }
   ],
   "source": [
    "# INCOMESQ\n",
    "\n",
    "residual_plot(X_C[:,2], y_log_c, y_hat_C, n_bins=50)"
   ]
  },
  {
   "cell_type": "code",
   "execution_count": 98,
   "metadata": {},
   "outputs": [
    {
     "data": {
      "image/png": "[encoded data removed]",
      "text/plain": [
       "<Figure size 432x288 with 1 Axes>"
      ]
     },
     "metadata": {
      "needs_background": "light"
     },
     "output_type": "display_data"
    }
   ],
   "source": [
    "# OWNRENT\n",
    "\n",
    "residual_plot(X_C[:,3], y_log_c, y_hat_C, n_bins=50)"
   ]
  },
  {
   "cell_type": "code",
   "execution_count": 107,
   "metadata": {},
   "outputs": [
    {
     "data": {
      "image/png": "[encoded data removed]",
      "text/plain": [
       "<Figure size 432x288 with 1 Axes>"
      ]
     },
     "execution_count": 107,
     "metadata": {},
     "output_type": "execute_result"
    },
    {
     "data": {
      "image/png": "[encoded data removed]",
      "text/plain": [
       "<Figure size 432x288 with 1 Axes>"
      ]
     },
     "metadata": {
      "needs_background": "light"
     },
     "output_type": "display_data"
    }
   ],
   "source": [
    "import statsmodels.api as sm \n",
    "\n",
    "sm.qqplot(residuals_CC, line ='45') \n"
   ]
  },
  {
   "cell_type": "code",
   "execution_count": 108,
   "metadata": {},
   "outputs": [
    {
     "data": {
      "image/png": "[encoded data removed]",
      "text/plain": [
       "<Figure size 432x288 with 1 Axes>"
      ]
     },
     "execution_count": 108,
     "metadata": {},
     "output_type": "execute_result"
    },
    {
     "data": {
      "image/png": "[encoded data removed]",
      "text/plain": [
       "<Figure size 432x288 with 1 Axes>"
      ]
     },
     "metadata": {
      "needs_background": "light"
     },
     "output_type": "display_data"
    }
   ],
   "source": [
    "sm.qqplot(residuals_P, line ='45') "
   ]
  },
  {
   "cell_type": "code",
   "execution_count": 105,
   "metadata": {},
   "outputs": [],
   "source": [
    "residuals_CC = y_C - y_hat_C"
   ]
  },
  {
   "cell_type": "code",
   "execution_count": 106,
   "metadata": {},
   "outputs": [],
   "source": [
    "residuals_P = y - y_hat"
   ]
  },
  {
   "cell_type": "code",
   "execution_count": 100,
   "metadata": {},
   "outputs": [
    {
     "data": {
      "text/plain": [
       "array([5.61867835, 4.45867739, 5.7087772 , 4.57238995, 6.3260449 ,\n",
       "       4.74516094, 5.31395084, 4.86396957, 5.36504774, 4.97946195,\n",
       "       5.57268546, 4.90791182, 4.45396503, 4.99933336, 5.37422557,\n",
       "       6.10040784, 4.707142  , 4.53151216, 5.13573111, 5.69778599,\n",
       "       5.47382088, 4.18192116, 5.87065922, 4.50493325, 4.9551705 ,\n",
       "       5.11313569, 4.97964754, 5.10705186, 5.99386369, 5.1422262 ,\n",
       "       5.88948748, 5.2667249 , 4.79346238, 3.99392671, 4.20383839,\n",
       "       4.4344108 , 4.147269  , 4.59010479, 6.44866488, 4.4387664 ,\n",
       "       4.33118287, 4.87893533, 4.61773198, 4.76102449, 5.47520267,\n",
       "       4.84847462, 4.20621261, 4.95535609, 4.52674343, 4.83035243,\n",
       "       4.87576262, 5.6295353 , 4.94942282, 4.98972368, 4.86477972,\n",
       "       4.36589205, 4.88166662, 4.52181663, 4.48153229, 5.32408016,\n",
       "       4.8953766 , 4.71274507, 4.52917387, 4.37830382, 4.32458163,\n",
       "       4.54485763, 6.15923627, 4.20477732, 6.15952716, 5.2351007 ,\n",
       "       6.06858668, 5.72491051])"
      ]
     },
     "execution_count": 100,
     "metadata": {},
     "output_type": "execute_result"
    }
   ],
   "source": [
    "y_hat_C"
   ]
  },
  {
   "cell_type": "code",
   "execution_count": null,
   "metadata": {},
   "outputs": [],
   "source": []
  }
 ],
 "metadata": {
  "kernelspec": {
   "display_name": "Python 3",
   "language": "python",
   "name": "python3"
  },
  "language_info": {
   "codemirror_mode": {
    "name": "ipython",
    "version": 3
   },
   "file_extension": ".py",
   "mimetype": "text/x-python",
   "name": "python",
   "nbconvert_exporter": "python",
   "pygments_lexer": "ipython3",
   "version": "3.8.3"
  }
 },
 "nbformat": 4,
 "nbformat_minor": 4
}
