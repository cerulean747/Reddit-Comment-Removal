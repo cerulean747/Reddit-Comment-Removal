{
 "cells": [
  {
   "cell_type": "markdown",
   "metadata": {},
   "source": [
    "## Reddit r/worldnews: Neural Network Models"
   ]
  },
  {
   "cell_type": "code",
   "execution_count": 1,
   "metadata": {},
   "outputs": [
    {
     "name": "stderr",
     "output_type": "stream",
     "text": [
      "\n",
      "Bad key \"text.kerning_factor\" on line 4 in\n",
      "/home/ubuntu/anaconda3/envs/tensorflow_p37/lib/python3.7/site-packages/matplotlib/mpl-data/stylelib/_classic_test_patch.mplstyle.\n",
      "You probably need to get an updated matplotlibrc file from\n",
      "https://github.com/matplotlib/matplotlib/blob/v3.1.3/matplotlibrc.template\n",
      "or from the matplotlib source distribution\n"
     ]
    },
    {
     "name": "stdout",
     "output_type": "stream",
     "text": [
      "WARNING:tensorflow:From /home/ubuntu/anaconda3/envs/tensorflow_p37/gpu_cuda11.0/lib/python3.7/site-packages/tensorflow_core/__init__.py:1473: The name tf.estimator.inputs is deprecated. Please use tf.compat.v1.estimator.inputs instead.\n",
      "\n"
     ]
    },
    {
     "name": "stderr",
     "output_type": "stream",
     "text": [
      "Using TensorFlow backend.\n"
     ]
    }
   ],
   "source": [
    "# Imports\n",
    "import numpy as np\n",
    "import pandas as pd\n",
    "import matplotlib.pyplot as plt\n",
    "import matplotlib.ticker as mtick\n",
    "import seaborn as sns\n",
    "import datetime\n",
    "import re\n",
    "\n",
    "import nltk\n",
    "from nltk.corpus import stopwords\n",
    "import string\n",
    "from nltk.tokenize import word_tokenize\n",
    "from nltk.corpus import stopwords\n",
    "\n",
    "import tensorflow as tf\n",
    "import keras\n",
    "from keras.preprocessing.text import one_hot\n",
    "from keras.preprocessing.sequence import pad_sequences\n",
    "from keras.models import Sequential, Model\n",
    "from keras.layers.core import Activation, Dropout, Dense\n",
    "from keras.layers import Flatten\n",
    "from keras.layers import GlobalMaxPooling1D,Conv1D,LSTM,MaxPooling1D,GRU\n",
    "from keras.layers.embeddings import Embedding\n",
    "from keras.layers import SpatialDropout1D,SpatialDropout2D\n",
    "from sklearn.model_selection import train_test_split\n",
    "from keras.preprocessing.text import Tokenizer\n",
    "from keras.layers import Concatenate,Input\n",
    "from sklearn.metrics import accuracy_score,precision_score,f1_score,recall_score\n",
    "from numpy import array,asarray,zeros\n",
    "from keras.callbacks import Callback,EarlyStopping,ModelCheckpoint\n",
    "from sklearn.metrics import accuracy_score,precision_score,f1_score,recall_score\n",
    "from numpy import array,asarray,zeros\n",
    "from keras.optimizers import SGD,Adam\n",
    "from keras.layers import BatchNormalization\n",
    "from keras import backend as K \n",
    "from keras.models import load_model\n",
    "import unicodedata\n",
    "import random\n",
    "import string\n",
    "\n",
    "# from wordcloud import WordCloud, STOPWORDS\n",
    "from nltk.stem import WordNetLemmatizer\n",
    "from nltk.tokenize import word_tokenize\n",
    "from nltk.corpus import stopwords\n",
    "\n",
    "from sklearn.pipeline import Pipeline, FeatureUnion\n",
    "from sklearn.preprocessing import FunctionTransformer,MinMaxScaler,StandardScaler,OneHotEncoder\n",
    "from sklearn.compose import make_column_transformer,ColumnTransformer\n",
    "\n",
    "from sklearn.model_selection import StratifiedKFold\n",
    "from sklearn.feature_extraction.text import CountVectorizer,TfidfVectorizer,TfidfTransformer\n",
    "from sklearn.dummy import DummyClassifier\n",
    "from sklearn.linear_model import LogisticRegression\n",
    "from sklearn.ensemble import RandomForestClassifier,GradientBoostingClassifier\n",
    "from sklearn.svm import LinearSVC\n",
    "from sklearn.naive_bayes import MultinomialNB, ComplementNB\n",
    "\n",
    "from sklearn.model_selection import train_test_split\n",
    "from sklearn.metrics import precision_recall_curve,f1_score,precision_score,recall_score, roc_auc_score,classification_report,confusion_matrix,average_precision_score,precision_recall_curve,plot_precision_recall_curve\n",
    "\n",
    "import warnings\n",
    "warnings.filterwarnings('ignore')\n",
    "\n",
    "import string\n",
    "from nltk.tokenize import word_tokenize\n",
    "from nltk.corpus import stopwords"
   ]
  },
  {
   "cell_type": "code",
   "execution_count": 2,
   "metadata": {},
   "outputs": [],
   "source": [
    "# import cleaned dataframe\n",
    "comments_final = pd.read_pickle('data/comments_final_.pkl')"
   ]
  },
  {
   "cell_type": "code",
   "execution_count": 3,
   "metadata": {},
   "outputs": [],
   "source": [
    "y = comments_final['Removed'].to_numpy()"
   ]
  },
  {
   "cell_type": "markdown",
   "metadata": {},
   "source": [
    "I compare performance between default and pretrained embeddings using neural network (NN) and convolutional neural network (CNN) models."
   ]
  },
  {
   "cell_type": "markdown",
   "metadata": {},
   "source": [
    "### Default Embeddings: Keras Embedding Layer"
   ]
  },
  {
   "cell_type": "code",
   "execution_count": 34,
   "metadata": {},
   "outputs": [],
   "source": [
    "# import custom metrics\n",
    "from src.model_nn_metrics import *\n",
    "\n",
    "# call an instance of metrics\n",
    "metrics = Metrics()"
   ]
  },
  {
   "cell_type": "code",
   "execution_count": 84,
   "metadata": {},
   "outputs": [
    {
     "name": "stdout",
     "output_type": "stream",
     "text": [
      "Found 148677 unique tokens.\n"
     ]
    }
   ],
   "source": [
    "Y = comments_final['Removed']\n",
    "\n",
    "# The maximum number of words to be used. (most frequent)\n",
    "MAX_NB_WORDS = 100000\n",
    "# Max number of words in each complaint.\n",
    "MAX_SEQUENCE_LENGTH = 300\n",
    "# This is fixed.\n",
    "EMBEDDING_DIM = 100\n",
    "tokenizer = Tokenizer(num_words=MAX_NB_WORDS, filters='!\"#$%&()*+,-./:;<=>?@[\\]^_`{|}~', lower=True)\n",
    "tokenizer.fit_on_texts(comments_final['body_clean_stop'].values)\n",
    "word_index = tokenizer.word_index\n",
    "print('Found %s unique tokens.' % len(word_index))"
   ]
  },
  {
   "cell_type": "code",
   "execution_count": 85,
   "metadata": {},
   "outputs": [
    {
     "name": "stdout",
     "output_type": "stream",
     "text": [
      "Shape of data tensor: (778732, 300)\n"
     ]
    }
   ],
   "source": [
    "X = tokenizer.texts_to_sequences(comments_final['body_clean_stop'].values)\n",
    "X = pad_sequences(X, maxlen=MAX_SEQUENCE_LENGTH)\n",
    "print('Shape of data tensor:', X.shape)"
   ]
  },
  {
   "cell_type": "code",
   "execution_count": 86,
   "metadata": {},
   "outputs": [
    {
     "name": "stdout",
     "output_type": "stream",
     "text": [
      "(622985, 300) (622985,)\n",
      "(155747, 300) (155747,)\n"
     ]
    }
   ],
   "source": [
    "X_train, X_test, Y_train, Y_test = train_test_split(X,Y, test_size = 0.20, stratify=y, random_state = 0)\n",
    "print(X_train.shape,Y_train.shape)\n",
    "print(X_test.shape,Y_test.shape)"
   ]
  },
  {
   "cell_type": "markdown",
   "metadata": {},
   "source": [
    "### Neural Network: Default Embeddings"
   ]
  },
  {
   "cell_type": "code",
   "execution_count": 40,
   "metadata": {},
   "outputs": [
    {
     "name": "stdout",
     "output_type": "stream",
     "text": [
      "Train on 622985 samples, validate on 155747 samples\n",
      "Epoch 1/20\n",
      "622985/622985 [==============================] - 31s 51us/step - loss: 0.1233 - acc: 0.9698 - fbeta: 0.0559 - val_loss: 0.1167 - val_acc: 0.9701 - val_fbeta: 0.0910\n",
      "\n",
      "Epoch 00001: val_fbeta improved from -inf to 0.09098, saving model to models/best_nn_def_emb.h5\n",
      "0.969798630785653\n",
      "val_f1: [0.98480603 0.12556391]  val_precision: [0.9713669  0.61623616]  val_recall: [0.99862223 0.06990373]\n",
      "Epoch 2/20\n",
      "622985/622985 [==============================] - 30s 48us/step - loss: 0.0962 - acc: 0.9725 - fbeta: 0.2000 - val_loss: 0.1252 - val_acc: 0.9698 - val_fbeta: 0.1260\n",
      "\n",
      "Epoch 00002: val_fbeta improved from 0.09098 to 0.12597, saving model to models/best_nn_def_emb.h5\n",
      "0.9724792731767218\n",
      "val_f1: [0.98459596 0.17801047]  val_precision: [0.97242805 0.53571429]  val_recall: [0.99707225 0.10673922]\n",
      "Epoch 3/20\n",
      "622985/622985 [==============================] - 30s 48us/step - loss: 0.0660 - acc: 0.9803 - fbeta: 0.4744 - val_loss: 0.1652 - val_acc: 0.9693 - val_fbeta: 0.1072\n",
      "\n",
      "Epoch 00003: val_fbeta did not improve from 0.12597\n",
      "0.9803253689896225\n",
      "val_f1: [0.98438624 0.1486631 ]  val_precision: [0.97184908 0.50120192]  val_recall: [0.99725109 0.08727501]\n",
      "Epoch 4/20\n",
      "622985/622985 [==============================] - 30s 48us/step - loss: 0.0527 - acc: 0.9842 - fbeta: 0.5866 - val_loss: 0.1863 - val_acc: 0.9658 - val_fbeta: 0.1574\n",
      "\n",
      "Epoch 00004: val_fbeta improved from 0.12597 to 0.15745, saving model to models/best_nn_def_emb.h5\n",
      "0.9842227340947214\n",
      "val_f1: [0.98251037 0.2094334 ]  val_precision: [0.97352113 0.35947047]  val_recall: [0.99166716 0.14776057]\n",
      "Epoch 5/20\n",
      "622985/622985 [==============================] - 30s 48us/step - loss: 0.0455 - acc: 0.9864 - fbeta: 0.6507 - val_loss: 0.2063 - val_acc: 0.9618 - val_fbeta: 0.1420\n",
      "\n",
      "Epoch 00005: val_fbeta did not improve from 0.15745\n",
      "0.9864105877348571\n",
      "val_f1: [0.98046654 0.18580433]  val_precision: [0.97324231 0.26904762]  val_recall: [0.98779882 0.14190038]\n",
      "Epoch 6/20\n",
      "622985/622985 [==============================] - 30s 48us/step - loss: 0.0403 - acc: 0.9880 - fbeta: 0.6916 - val_loss: 0.2302 - val_acc: 0.9620 - val_fbeta: 0.1617\n",
      "\n",
      "Epoch 00006: val_fbeta improved from 0.15745 to 0.16172, saving model to models/best_nn_def_emb.h5\n",
      "0.988017367994414\n",
      "val_f1: [0.9805254  0.20598096]  val_precision: [0.97380249 0.28667413]  val_recall: [0.98734177 0.16073671]\n",
      "Epoch 7/20\n",
      "622985/622985 [==============================] - 30s 48us/step - loss: 0.0360 - acc: 0.9893 - fbeta: 0.7270 - val_loss: 0.2586 - val_acc: 0.9589 - val_fbeta: 0.1514\n",
      "\n",
      "Epoch 00007: val_fbeta did not improve from 0.16172\n",
      "0.9893480581394416\n",
      "val_f1: [0.97890181 0.18560895]  val_precision: [0.97348338 0.23639896]  val_recall: [0.9843809  0.15278359]\n",
      "Epoch 8/20\n",
      "622985/622985 [==============================] - 30s 48us/step - loss: 0.0321 - acc: 0.9905 - fbeta: 0.7566 - val_loss: 0.2739 - val_acc: 0.9556 - val_fbeta: 0.1688\n",
      "\n",
      "Epoch 00008: val_fbeta improved from 0.16172 to 0.16879, saving model to models/best_nn_def_emb.h5\n",
      "0.9905407032272046\n",
      "val_f1: [0.97716527 0.19786592]  val_precision: [0.97416114 0.22190427]  val_recall: [0.98018799 0.17852658]\n",
      "Epoch 9/20\n",
      "622985/622985 [==============================] - 30s 48us/step - loss: 0.0289 - acc: 0.9915 - fbeta: 0.7811 - val_loss: 0.2940 - val_acc: 0.9537 - val_fbeta: 0.1725\n",
      "\n",
      "Epoch 00009: val_fbeta improved from 0.16879 to 0.17250, saving model to models/best_nn_def_emb.h5\n",
      "0.9914957824024655\n",
      "val_f1: [0.97618253 0.19810796]  val_precision: [0.97434341 0.21155217]  val_recall: [0.9780286  0.18627041]\n",
      "Epoch 10/20\n",
      "622985/622985 [==============================] - 30s 48us/step - loss: 0.0263 - acc: 0.9923 - fbeta: 0.8059 - val_loss: 0.3159 - val_acc: 0.9581 - val_fbeta: 0.1475\n",
      "\n",
      "Epoch 00010: val_fbeta did not improve from 0.17250\n",
      "0.9923497355474048\n",
      "val_f1: [0.97851492 0.18293447]  val_precision: [0.97346339 0.22791133]  val_recall: [0.98361915 0.15278359]\n",
      "Epoch 11/20\n",
      "622985/622985 [==============================] - 30s 48us/step - loss: 0.0239 - acc: 0.9930 - fbeta: 0.8204 - val_loss: 0.3338 - val_acc: 0.9578 - val_fbeta: 0.1448\n",
      "\n",
      "Epoch 00011: val_fbeta did not improve from 0.17250\n",
      "0.9930431711838968\n",
      "val_f1: [0.97833852 0.17886585]  val_precision: [0.97336725 0.22180917]  val_recall: [0.98336082 0.1498535 ]\n",
      "Epoch 12/20\n",
      "622985/622985 [==============================] - 30s 48us/step - loss: 0.0221 - acc: 0.9936 - fbeta: 0.8385 - val_loss: 0.3478 - val_acc: 0.9569 - val_fbeta: 0.1577\n",
      "\n",
      "Epoch 00012: val_fbeta did not improve from 0.17250\n",
      "0.9935921410627864\n",
      "val_f1: [0.97788814 0.18855137]  val_precision: [0.97373606 0.22352941]  val_recall: [0.98207579 0.16303893]\n",
      "Epoch 13/20\n",
      "622985/622985 [==============================] - 30s 48us/step - loss: 0.0208 - acc: 0.9940 - fbeta: 0.8507 - val_loss: 0.3650 - val_acc: 0.9552 - val_fbeta: 0.1513\n",
      "\n",
      "Epoch 00013: val_fbeta did not improve from 0.17250\n",
      "0.9939998555342424\n",
      "val_f1: [0.97699332 0.17939965]  val_precision: [0.97358416 0.20500404]  val_recall: [0.98042645 0.15948095]\n",
      "Epoch 14/20\n",
      "622985/622985 [==============================] - 30s 48us/step - loss: 0.0192 - acc: 0.9944 - fbeta: 0.8592 - val_loss: 0.3834 - val_acc: 0.9554 - val_fbeta: 0.1557\n",
      "\n",
      "Epoch 00014: val_fbeta did not improve from 0.17250\n",
      "0.9943931234299381\n",
      "val_f1: [0.97704844 0.18265162]  val_precision: [0.97368058 0.20831099]  val_recall: [0.98043969 0.16262034]\n",
      "Epoch 00014: early stopping\n"
     ]
    }
   ],
   "source": [
    "model = Sequential()\n",
    "model.add(Embedding(MAX_NB_WORDS, EMBEDDING_DIM, input_length=X.shape[1]))\n",
    "model.add(Flatten())\n",
    "model.add(Dense(128, activation='relu'))\n",
    "model.add(Dense(1, activation='sigmoid'))\n",
    "\n",
    "\n",
    "# opt = SGD(lr=0.001)\n",
    "# opt = keras.optimizers.Adam(learning_rate=0.0001)\n",
    "model.compile(loss='binary_crossentropy', optimizer='adam', metrics=['accuracy',fbeta])\n",
    "es = EarlyStopping(monitor='val_fbeta', mode='max', verbose=1,patience=5)  \n",
    "checkpoints = SaveEveryEpoch('models/best_nn_def_emb.h5')\n",
    "mc = ModelCheckpoint('models/best_nn_def_emb.h5', monitor='val_fbeta', mode='max', save_best_only=True,verbose=1)  \n",
    "\n",
    "epochs = 20\n",
    "batch_size = 128\n",
    "\n",
    "history = model.fit(X_train, Y_train, epochs=epochs, batch_size=batch_size,validation_data=(X_test, Y_test),callbacks=[mc,checkpoints,es,metrics])\n",
    "#Save train log to .csv\n",
    "# pd.DataFrame(history.history).to_csv('models/best_nn_def_emb_hist.csv', index=False)\n",
    "\n",
    "# model.save('2021-01-11_models/models/best_nn_def_emb_test')"
   ]
  },
  {
   "cell_type": "code",
   "execution_count": 31,
   "metadata": {},
   "outputs": [
    {
     "name": "stdout",
     "output_type": "stream",
     "text": [
      "Accuracy: 0.953579\n",
      "Precision: 0.210302\n",
      "Recall: 0.186270\n",
      "F1 score: 0.197558\n",
      "F1 score: [0.97609791 0.19755827]\n",
      "F1 score weighted: 0.952213902534773\n",
      "Precision score weighted: 0.9509000876587527\n",
      "Recall score weighted: 0.9535785601006761\n"
     ]
    },
    {
     "data": {
      "image/png": "[encoded data removed]",
      "text/plain": [
       "<Figure size 576x432 with 2 Axes>"
      ]
     },
     "metadata": {
      "needs_background": "light"
     },
     "output_type": "display_data"
    }
   ],
   "source": [
    "model = load_model('models/best_nn_def_emb.h5',custom_objects = {'fbeta':fbeta})\n",
    "\n",
    "# predict probabilities for test set\n",
    "yhat_probs = model.predict(x=X_test, verbose=0)\n",
    "# predict crisp classes for test set\n",
    "# yhat_classes = model.predict_classes(x=[X1_test,X2_test], verbose=0)\n",
    "# max_idx = np.argmax(yhat_probs,axis=1)\n",
    "\n",
    "# reduce to 1d array\n",
    "yhat_probs = yhat_probs[:, 0]\n",
    "yhat_probs[yhat_probs>=0.5] = 1\n",
    "yhat_probs[yhat_probs<0.5] = 0\n",
    " \n",
    "# accuracy: (tp + tn) / (p + n)\n",
    "accuracy = accuracy_score(Y_test, yhat_probs)\n",
    "print('Accuracy: %f' % accuracy)\n",
    "# precision tp / (tp + fp)\n",
    "precision = precision_score(Y_test, yhat_probs)\n",
    "print('Precision: %f' % precision)\n",
    "# recall: tp / (tp + fn)\n",
    "recall = recall_score(Y_test, yhat_probs)\n",
    "print('Recall: %f' % recall)\n",
    "# f1: 2 tp / (2 tp + fp + fn)\n",
    "f1 = f1_score(Y_test, yhat_probs)\n",
    "print('F1 score: %f' % f1)\n",
    "f1_all = f1_score(Y_test, yhat_probs,average=None)\n",
    "print(f'F1 score: {f1_all}')\n",
    "f1_w = f1_score(Y_test, yhat_probs,average='weighted')\n",
    "print(f'F1 score weighted: {f1_w}')\n",
    "precision_w = precision_score(Y_test, yhat_probs,average='weighted')\n",
    "print(f'Precision score weighted: {precision_w}')\n",
    "recall_w = recall_score(Y_test, yhat_probs,average='weighted')\n",
    "print(f'Recall score weighted: {recall_w}')\n",
    "\n",
    "plot_confusion_matrix(Y_test,yhat_probs)"
   ]
  },
  {
   "cell_type": "markdown",
   "metadata": {},
   "source": [
    "### CNN"
   ]
  },
  {
   "cell_type": "code",
   "execution_count": 32,
   "metadata": {
    "scrolled": true
   },
   "outputs": [
    {
     "name": "stdout",
     "output_type": "stream",
     "text": [
      "Train on 622985 samples, validate on 155747 samples\n",
      "Epoch 1/20\n",
      "622985/622985 [==============================] - 40s 65us/step - loss: 0.1188 - acc: 0.9704 - fbeta: 0.1023 - val_loss: 0.1108 - val_acc: 0.9707 - val_fbeta: 0.1282\n",
      "\n",
      "Epoch 00001: val_fbeta improved from -inf to 0.12823, saving model to models/best_cnn_def_emb_v2.h5\n",
      "0.9703716782908096\n",
      "val_f1: [0.98507736 0.18233924]  val_precision: [0.97244775 0.63229814]  val_recall: [0.99803933 0.10652993]\n",
      "Epoch 2/20\n",
      "622985/622985 [==============================] - 37s 59us/step - loss: 0.0986 - acc: 0.9723 - fbeta: 0.2077 - val_loss: 0.1146 - val_acc: 0.9705 - val_fbeta: 0.1407\n",
      "\n",
      "Epoch 00002: val_fbeta improved from 0.12823 to 0.14070, saving model to models/best_cnn_def_emb_v2.h5\n",
      "0.9723203608434546\n",
      "val_f1: [0.98494954 0.20521679]  val_precision: [0.9729604  0.58753709]  val_recall: [0.99723784 0.1243198 ]\n",
      "Epoch 3/20\n",
      "622985/622985 [==============================] - 37s 59us/step - loss: 0.0729 - acc: 0.9782 - fbeta: 0.4241 - val_loss: 0.1379 - val_acc: 0.9684 - val_fbeta: 0.2001\n",
      "\n",
      "Epoch 00003: val_fbeta improved from 0.14070 to 0.20015, saving model to models/best_cnn_def_emb_v2.h5\n",
      "0.978237036204724\n",
      "val_f1: [0.98386753 0.26666667]  val_precision: [0.97474971 0.46393358]  val_recall: [0.99315754 0.18710758]\n",
      "Epoch 4/20\n",
      "622985/622985 [==============================] - 37s 59us/step - loss: 0.0482 - acc: 0.9855 - fbeta: 0.6345 - val_loss: 0.1631 - val_acc: 0.9648 - val_fbeta: 0.2123\n",
      "\n",
      "Epoch 00004: val_fbeta improved from 0.20015 to 0.21232, saving model to models/best_cnn_def_emb_v2.h5\n",
      "0.9855277414383974\n",
      "val_f1: [0.98198346 0.26370968]  val_precision: [0.97519679 0.36851991]  val_recall: [0.98886526 0.20531603]\n",
      "Epoch 5/20\n",
      "622985/622985 [==============================] - 37s 59us/step - loss: 0.0346 - acc: 0.9896 - fbeta: 0.7402 - val_loss: 0.1923 - val_acc: 0.9581 - val_fbeta: 0.1983\n",
      "\n",
      "Epoch 00005: val_fbeta did not improve from 0.21232\n",
      "0.9895551257253384\n",
      "val_f1: [0.97848412 0.22949657]  val_precision: [0.97496432 0.2635722 ]  val_recall: [0.98202942 0.20322311]\n",
      "Epoch 6/20\n",
      "622985/622985 [==============================] - 37s 59us/step - loss: 0.0275 - acc: 0.9918 - fbeta: 0.7987 - val_loss: 0.2125 - val_acc: 0.9637 - val_fbeta: 0.1933\n",
      "\n",
      "Epoch 00006: val_fbeta did not improve from 0.21232\n",
      "0.9917798983924172\n",
      "val_f1: [0.98140102 0.24042982]  val_precision: [0.97463418 0.33558305]  val_recall: [0.98826249 0.18731687]\n",
      "Epoch 7/20\n",
      "622985/622985 [==============================] - 37s 59us/step - loss: 0.0230 - acc: 0.9931 - fbeta: 0.8314 - val_loss: 0.2504 - val_acc: 0.9645 - val_fbeta: 0.1681\n",
      "\n",
      "Epoch 00007: val_fbeta did not improve from 0.21232\n",
      "0.9930608281098261\n",
      "val_f1: [0.98183574 0.21560284]  val_precision: [0.97381984 0.33450704]  val_recall: [0.9899847  0.15906237]\n",
      "Epoch 8/20\n",
      "622985/622985 [==============================] - 37s 59us/step - loss: 0.0199 - acc: 0.9940 - fbeta: 0.8572 - val_loss: 0.2693 - val_acc: 0.9656 - val_fbeta: 0.1819\n",
      "\n",
      "Epoch 00008: val_fbeta did not improve from 0.21232\n",
      "0.9940431952615232\n",
      "val_f1: [0.98238273 0.23589744]  val_precision: [0.97426794 0.36931311]  val_recall: [0.99063384 0.17329427]\n",
      "Epoch 9/20\n",
      "622985/622985 [==============================] - 37s 59us/step - loss: 0.0181 - acc: 0.9945 - fbeta: 0.8696 - val_loss: 0.2911 - val_acc: 0.9499 - val_fbeta: 0.1921\n",
      "\n",
      "Epoch 00009: val_fbeta did not improve from 0.21232\n",
      "0.9945151167363581\n",
      "val_f1: [0.9741463  0.20701576]  val_precision: [0.97504811 0.20130512]  val_recall: [0.97324616 0.21305986]\n",
      "Epoch 00009: early stopping\n",
      "Accuracy: 0.964828\n",
      "Precision: 0.368520\n",
      "Recall: 0.205316\n",
      "F1 score: 0.263710\n",
      "F1 score: [0.98198346 0.26370968]\n",
      "F1 score weighted: 0.9599482900753471\n",
      "Precision score weighted: 0.9565851780762403\n",
      "Recall score weighted: 0.9648275729227529\n"
     ]
    },
    {
     "data": {
      "image/png": "[encoded data removed]",
      "text/plain": [
       "<Figure size 576x432 with 2 Axes>"
      ]
     },
     "metadata": {
      "needs_background": "light"
     },
     "output_type": "display_data"
    }
   ],
   "source": [
    "MAX_NB_WORDS = 100000\n",
    "model = Sequential()\n",
    "model.add(Embedding(MAX_NB_WORDS, EMBEDDING_DIM, input_length=X.shape[1]))\n",
    "model.add(Conv1D(128, 5, activation='relu'))\n",
    "model.add(GlobalMaxPooling1D())\n",
    "model.add(Dense(128, activation='relu'))\n",
    "model.add(Dense(1, activation='sigmoid'))\n",
    "\n",
    "model.compile(loss='binary_crossentropy', optimizer='adam', metrics=['accuracy',fbeta])\n",
    "es = EarlyStopping(monitor='val_fbeta', mode='max', verbose=1,patience=5)  \n",
    "checkpoints = SaveEveryEpoch('models/best_cnn_def_emb_v2.h5')\n",
    "mc = ModelCheckpoint('models/best_cnn_def_emb_v2.h5', monitor='val_fbeta', mode='max', save_best_only=True,verbose=1)  \n",
    "\n",
    "epochs = 20\n",
    "batch_size = 128\n",
    "\n",
    "history = model.fit(X_train, Y_train, epochs=epochs, batch_size=batch_size,validation_data=(X_test, Y_test),callbacks=[mc,checkpoints,es,metrics])\n",
    "#Save train log to .csv\n",
    "# pd.DataFrame(history.history).to_csv('models/best_nn_def_emb_hist.csv', index=False)\n",
    "\n",
    "# model.save('2021-01-11_models/models/best_nn_def_emb_test')\n",
    "\n",
    "model = load_model('models/best_cnn_def_emb_v2.h5',custom_objects = {'fbeta':fbeta})\n",
    "\n",
    "# predict probabilities for test set\n",
    "yhat_probs = model.predict(x=X_test, verbose=0)\n",
    "\n",
    "yhat_probs = yhat_probs[:, 0]\n",
    "yhat_probs[yhat_probs>=0.5] = 1\n",
    "yhat_probs[yhat_probs<0.5] = 0\n",
    " \n",
    "# accuracy\n",
    "accuracy = accuracy_score(Y_test, yhat_probs)\n",
    "print('Accuracy: %f' % accuracy)\n",
    "# precision \n",
    "precision = precision_score(Y_test, yhat_probs)\n",
    "print('Precision: %f' % precision)\n",
    "# recall\n",
    "recall = recall_score(Y_test, yhat_probs)\n",
    "print('Recall: %f' % recall)\n",
    "# f1\n",
    "f1 = f1_score(Y_test, yhat_probs)\n",
    "print('F1 score: %f' % f1)\n",
    "f1_all = f1_score(Y_test, yhat_probs,average=None)\n",
    "print(f'F1 score: {f1_all}')\n",
    "f1_w = f1_score(Y_test, yhat_probs,average='weighted')\n",
    "print(f'F1 score weighted: {f1_w}')\n",
    "precision_w = precision_score(Y_test, yhat_probs,average='weighted')\n",
    "print(f'Precision score weighted: {precision_w}')\n",
    "recall_w = recall_score(Y_test, yhat_probs,average='weighted')\n",
    "print(f'Recall score weighted: {recall_w}')\n",
    "\n",
    "plot_confusion_matrix(Y_test,yhat_probs)"
   ]
  },
  {
   "cell_type": "code",
   "execution_count": 87,
   "metadata": {},
   "outputs": [
    {
     "name": "stdout",
     "output_type": "stream",
     "text": [
      "Train on 622985 samples, validate on 155747 samples\n",
      "Epoch 1/20\n",
      "622985/622985 [==============================] - 42s 67us/step - loss: 0.1186 - acc: 0.9703 - fbeta: 0.1009 - val_loss: 0.1110 - val_acc: 0.9708 - val_fbeta: 0.1115\n",
      "\n",
      "Epoch 00001: val_fbeta improved from -inf to 0.11151, saving model to models/best_cnn_def_emb_test.h5\n",
      "0.9702898143615015\n",
      "val_f1: [0.98511686 0.16314532]  val_precision: [0.97205349 0.66766917]  val_recall: [0.99853612 0.09292591]\n",
      "Epoch 2/20\n",
      "622985/622985 [==============================] - 39s 63us/step - loss: 0.0985 - acc: 0.9722 - fbeta: 0.2028 - val_loss: 0.1127 - val_acc: 0.9710 - val_fbeta: 0.1428\n",
      "\n",
      "Epoch 00002: val_fbeta improved from 0.11151 to 0.14275, saving model to models/best_cnn_def_emb_test.h5\n",
      "0.9722368917390621\n",
      "val_f1: [0.98521948 0.20506507]  val_precision: [0.97290734 0.64207048]  val_recall: [0.99784724 0.12201758]\n",
      "Epoch 3/20\n",
      "622985/622985 [==============================] - 39s 63us/step - loss: 0.0736 - acc: 0.9778 - fbeta: 0.4094 - val_loss: 0.1300 - val_acc: 0.9683 - val_fbeta: 0.2042\n",
      "\n",
      "Epoch 00003: val_fbeta improved from 0.14275 to 0.20418, saving model to models/best_cnn_def_emb_test.h5\n",
      "0.9777651147298891\n",
      "val_f1: [0.9837901  0.26727974]  val_precision: [0.97478915 0.45875764]  val_recall: [0.99295882 0.18857262]\n",
      "Epoch 4/20\n",
      "622985/622985 [==============================] - 39s 63us/step - loss: 0.0483 - acc: 0.9853 - fbeta: 0.6322 - val_loss: 0.1635 - val_acc: 0.9626 - val_fbeta: 0.2060\n",
      "\n",
      "Epoch 00004: val_fbeta improved from 0.20418 to 0.20598, saving model to models/best_cnn_def_emb_test.h5\n",
      "0.9852757289503266\n",
      "val_f1: [0.98083565 0.24919386]  val_precision: [0.97504778 0.32470588]  val_recall: [0.98669263 0.20217664]\n",
      "Epoch 5/20\n",
      "622985/622985 [==============================] - 39s 63us/step - loss: 0.0342 - acc: 0.9896 - fbeta: 0.7471 - val_loss: 0.1937 - val_acc: 0.9609 - val_fbeta: 0.1707\n",
      "\n",
      "Epoch 00005: val_fbeta did not improve from 0.20598\n",
      "0.9896016758027882\n",
      "val_f1: [0.97992843 0.21135687]  val_precision: [0.97407621 0.2766678 ]  val_recall: [0.9858514  0.17099205]\n",
      "Epoch 6/20\n",
      "622985/622985 [==============================] - 39s 63us/step - loss: 0.0268 - acc: 0.9918 - fbeta: 0.8000 - val_loss: 0.2258 - val_acc: 0.9631 - val_fbeta: 0.1643\n",
      "\n",
      "Epoch 00006: val_fbeta did not improve from 0.20598\n",
      "0.9918232381196979\n",
      "val_f1: [0.98109238 0.20967299]  val_precision: [0.97380047 0.3052    ]  val_recall: [0.98849433 0.15969025]\n",
      "Epoch 7/20\n",
      "622985/622985 [==============================] - 39s 63us/step - loss: 0.0226 - acc: 0.9932 - fbeta: 0.8353 - val_loss: 0.2370 - val_acc: 0.9600 - val_fbeta: 0.1945\n",
      "\n",
      "Epoch 00007: val_fbeta did not improve from 0.20598\n",
      "0.993179611066077\n",
      "val_f1: [0.97947438 0.23284465]  val_precision: [0.9748504  0.28301887]  val_recall: [0.98414244 0.1977815 ]\n",
      "Epoch 8/20\n",
      "622985/622985 [==============================] - 39s 63us/step - loss: 0.0199 - acc: 0.9939 - fbeta: 0.8538 - val_loss: 0.2727 - val_acc: 0.9614 - val_fbeta: 0.2048\n",
      "\n",
      "Epoch 00008: val_fbeta did not improve from 0.20598\n",
      "0.9939292278305256\n",
      "val_f1: [0.98016967 0.24469821]  val_precision: [0.97507145 0.30554685]  val_recall: [0.98532149 0.20406028]\n",
      "Epoch 9/20\n",
      "622985/622985 [==============================] - 39s 63us/step - loss: 0.0179 - acc: 0.9945 - fbeta: 0.8699 - val_loss: 0.2775 - val_acc: 0.9634 - val_fbeta: 0.1778\n",
      "\n",
      "Epoch 00009: val_fbeta did not improve from 0.20598\n",
      "0.9945488254131319\n",
      "val_f1: [0.98127018 0.22818428]  val_precision: [0.97429887 0.32359723]  val_recall: [0.98834198 0.17622436]\n",
      "Epoch 00009: early stopping\n",
      "Accuracy: 0.962625\n",
      "Precision: 0.324706\n",
      "Recall: 0.202177\n",
      "F1 score: 0.249194\n",
      "F1 score: [0.98083565 0.24919386]\n",
      "F1 score weighted: 0.9583903698316839\n",
      "Precision score weighted: 0.9550966217776649\n",
      "Recall score weighted: 0.9626252833120381\n"
     ]
    },
    {
     "data": {
      "image/png": "[encoded data removed]",
      "text/plain": [
       "<Figure size 576x432 with 2 Axes>"
      ]
     },
     "metadata": {
      "needs_background": "light"
     },
     "output_type": "display_data"
    }
   ],
   "source": [
    "MAX_NB_WORDS = 100000\n",
    "model = Sequential()\n",
    "model.add(Embedding(MAX_NB_WORDS, EMBEDDING_DIM, input_length=X.shape[1]))\n",
    "model.add(Conv1D(128, 5, activation='relu'))\n",
    "model.add(GlobalMaxPooling1D())\n",
    "model.add(Dense(128, activation='relu'))\n",
    "model.add(Dense(1, activation='sigmoid'))\n",
    "\n",
    "model.compile(loss='binary_crossentropy', optimizer='adam', metrics=['accuracy',fbeta])\n",
    "es = EarlyStopping(monitor='val_fbeta', mode='max', verbose=1,patience=5)  \n",
    "checkpoints = SaveEveryEpoch('models/best_cnn_def_emb_test.h5')\n",
    "mc = ModelCheckpoint('models/best_cnn_def_emb_test.h5', monitor='val_fbeta', mode='max', save_best_only=True,verbose=1)  \n",
    "\n",
    "epochs = 20\n",
    "batch_size = 128\n",
    "\n",
    "history = model.fit(X_train, Y_train, epochs=epochs, batch_size=batch_size,validation_data=(X_test, Y_test),callbacks=[mc,checkpoints,es,metrics])\n",
    "#Save train log to .csv\n",
    "# pd.DataFrame(history.history).to_csv('models/best_nn_def_emb_hist.csv', index=False)\n",
    "\n",
    "# model.save('2021-01-11_models/models/best_nn_def_emb_test')\n",
    "\n",
    "model = load_model('models/best_cnn_def_emb_test.h5',custom_objects = {'fbeta':fbeta})\n",
    "\n",
    "# predict probabilities for test set\n",
    "yhat_probs = model.predict(x=X_test, verbose=0)\n",
    "\n",
    "yhat_probs = yhat_probs[:, 0]\n",
    "yhat_probs[yhat_probs>=0.5] = 1\n",
    "yhat_probs[yhat_probs<0.5] = 0\n",
    " \n",
    "# accuracy\n",
    "accuracy = accuracy_score(Y_test, yhat_probs)\n",
    "print('Accuracy: %f' % accuracy)\n",
    "# precision \n",
    "precision = precision_score(Y_test, yhat_probs)\n",
    "print('Precision: %f' % precision)\n",
    "# recall\n",
    "recall = recall_score(Y_test, yhat_probs)\n",
    "print('Recall: %f' % recall)\n",
    "# f1\n",
    "f1 = f1_score(Y_test, yhat_probs)\n",
    "print('F1 score: %f' % f1)\n",
    "f1_all = f1_score(Y_test, yhat_probs,average=None)\n",
    "print(f'F1 score: {f1_all}')\n",
    "f1_w = f1_score(Y_test, yhat_probs,average='weighted')\n",
    "print(f'F1 score weighted: {f1_w}')\n",
    "precision_w = precision_score(Y_test, yhat_probs,average='weighted')\n",
    "print(f'Precision score weighted: {precision_w}')\n",
    "recall_w = recall_score(Y_test, yhat_probs,average='weighted')\n",
    "print(f'Recall score weighted: {recall_w}')\n",
    "\n",
    "plot_confusion_matrix(Y_test,yhat_probs)"
   ]
  },
  {
   "cell_type": "markdown",
   "metadata": {},
   "source": [
    "### Non-text & Text Features: Default Embedding Layer\n",
    "Now I incorporate non-textual features into my models."
   ]
  },
  {
   "cell_type": "code",
   "execution_count": 72,
   "metadata": {},
   "outputs": [
    {
     "name": "stdout",
     "output_type": "stream",
     "text": [
      "(622985, 27) (622985,)\n",
      "(155747, 27) (155747,)\n"
     ]
    }
   ],
   "source": [
    "X_train, X_test, Y_train, Y_test = train_test_split(comments_final,Y, test_size = 0.20, stratify=y, random_state = 0)\n",
    "print(X_train.shape,Y_train.shape)\n",
    "print(X_test.shape,Y_test.shape)"
   ]
  },
  {
   "cell_type": "code",
   "execution_count": 73,
   "metadata": {},
   "outputs": [
    {
     "name": "stdout",
     "output_type": "stream",
     "text": [
      "Found 131274 unique tokens.\n"
     ]
    }
   ],
   "source": [
    "tokenizer = Tokenizer(num_words=100000, filters='!\"#$%&()*+,-./:;<=>?@[\\]^_`{|}~', lower=True)\n",
    "tokenizer.fit_on_texts(X_train['body_clean_stop'].values)\n",
    "word_index = tokenizer.word_index\n",
    "print('Found %s unique tokens.' % len(word_index))"
   ]
  },
  {
   "cell_type": "code",
   "execution_count": 74,
   "metadata": {},
   "outputs": [],
   "source": [
    "X1_train = tokenizer.texts_to_sequences(X_train['body_clean_stop'].values)\n",
    "X1_train = pad_sequences(X1_train, maxlen=MAX_SEQUENCE_LENGTH)\n",
    "X1_test = tokenizer.texts_to_sequences(X_test['body_clean_stop'].values)\n",
    "X1_test = pad_sequences(X1_test, maxlen=MAX_SEQUENCE_LENGTH)\n",
    "# print('Shape of data tensor:', X1.shape)"
   ]
  },
  {
   "cell_type": "code",
   "execution_count": 75,
   "metadata": {},
   "outputs": [],
   "source": [
    "X2_train = X_train[['run_prop_prev_rem','child_rem_flag','sec_child_rem_flag','third_child_rem_flag', 'fourth_child_rem_flag','fifth_child_rem_flag','run_prev_rem','run_prev_tot']].values\n",
    "X2_test = X_test[['run_prop_prev_rem','child_rem_flag','sec_child_rem_flag','third_child_rem_flag', 'fourth_child_rem_flag','fifth_child_rem_flag','run_prev_rem','run_prev_tot']].values"
   ]
  },
  {
   "cell_type": "code",
   "execution_count": 76,
   "metadata": {},
   "outputs": [],
   "source": [
    "# normalize non-text features\n",
    "scaler = MinMaxScaler()\n",
    "\n",
    "X2_train_s = scaler.fit_transform(X2_train)\n",
    "X2_test_s = scaler.transform(X2_test)"
   ]
  },
  {
   "cell_type": "markdown",
   "metadata": {},
   "source": [
    "### Neural Network: Default Embeddings, Non-text, 1 Layer, Default Parameters"
   ]
  },
  {
   "cell_type": "code",
   "execution_count": 79,
   "metadata": {
    "scrolled": true
   },
   "outputs": [
    {
     "name": "stdout",
     "output_type": "stream",
     "text": [
      "__________________________________________________________________________________________________\n",
      "Layer (type)                    Output Shape         Param #     Connected to                     \n",
      "==================================================================================================\n",
      "input_11 (InputLayer)           (None, 300)          0                                            \n",
      "__________________________________________________________________________________________________\n",
      "embedding_13 (Embedding)        (None, 300, 100)     10000000    input_11[0][0]                   \n",
      "__________________________________________________________________________________________________\n",
      "flatten_4 (Flatten)             (None, 30000)        0           embedding_13[0][0]               \n",
      "__________________________________________________________________________________________________\n",
      "input_12 (InputLayer)           (None, 8)            0                                            \n",
      "__________________________________________________________________________________________________\n",
      "concatenate_2 (Concatenate)     (None, 30008)        0           flatten_4[0][0]                  \n",
      "                                                                 input_12[0][0]                   \n",
      "__________________________________________________________________________________________________\n",
      "dense_16 (Dense)                (None, 128)          3841152     concatenate_2[0][0]              \n",
      "__________________________________________________________________________________________________\n",
      "dense_17 (Dense)                (None, 64)           8256        dense_16[0][0]                   \n",
      "__________________________________________________________________________________________________\n",
      "dense_18 (Dense)                (None, 1)            65          dense_17[0][0]                   \n",
      "==================================================================================================\n",
      "Total params: 13,849,473\n",
      "Trainable params: 3,849,473\n",
      "Non-trainable params: 10,000,000\n",
      "__________________________________________________________________________________________________\n",
      "None\n",
      "Train on 622985 samples, validate on 155747 samples\n",
      "Epoch 1/20\n",
      "622985/622985 [==============================] - 27s 43us/step - loss: 0.1137 - acc: 0.9733 - fbeta: 0.2047 - val_loss: 0.1086 - val_acc: 0.9745 - val_fbeta: 0.2268\n",
      "\n",
      "Epoch 00001: val_fbeta improved from -inf to 0.22684, saving model to models/best_nn_def_emb_nontext.h5\n",
      "0.9733428573721679\n",
      "Epoch 2/20\n",
      "622985/622985 [==============================] - 24s 39us/step - loss: 0.1065 - acc: 0.9745 - fbeta: 0.2660 - val_loss: 0.1071 - val_acc: 0.9754 - val_fbeta: 0.3188\n",
      "\n",
      "Epoch 00002: val_fbeta improved from 0.22684 to 0.31876, saving model to models/best_nn_def_emb_nontext.h5\n",
      "0.974549949035691\n",
      "Epoch 3/20\n",
      "622985/622985 [==============================] - 24s 39us/step - loss: 0.1049 - acc: 0.9748 - fbeta: 0.2778 - val_loss: 0.1095 - val_acc: 0.9748 - val_fbeta: 0.2389\n",
      "\n",
      "Epoch 00003: val_fbeta did not improve from 0.31876\n",
      "0.9748324598505582\n",
      "Epoch 4/20\n",
      "622985/622985 [==============================] - 24s 38us/step - loss: 0.1037 - acc: 0.9751 - fbeta: 0.2796 - val_loss: 0.1014 - val_acc: 0.9757 - val_fbeta: 0.2880\n",
      "\n",
      "Epoch 00004: val_fbeta did not improve from 0.31876\n",
      "0.9750732361133247\n",
      "Epoch 5/20\n",
      "622985/622985 [==============================] - 24s 38us/step - loss: 0.1031 - acc: 0.9751 - fbeta: 0.2864 - val_loss: 0.1050 - val_acc: 0.9753 - val_fbeta: 0.2573\n",
      "\n",
      "Epoch 00005: val_fbeta did not improve from 0.31876\n",
      "0.9751326275913546\n",
      "Epoch 6/20\n",
      "622985/622985 [==============================] - 24s 38us/step - loss: 0.1019 - acc: 0.9753 - fbeta: 0.2905 - val_loss: 0.1034 - val_acc: 0.9752 - val_fbeta: 0.3017\n",
      "\n",
      "Epoch 00006: val_fbeta did not improve from 0.31876\n",
      "0.9752546208978701\n",
      "Epoch 7/20\n",
      "622985/622985 [==============================] - 24s 38us/step - loss: 0.1012 - acc: 0.9755 - fbeta: 0.2931 - val_loss: 0.1022 - val_acc: 0.9757 - val_fbeta: 0.2950\n",
      "\n",
      "Epoch 00007: val_fbeta did not improve from 0.31876\n",
      "0.9754713195341782\n",
      "Epoch 00007: early stopping\n"
     ]
    }
   ],
   "source": [
    "# opt = Adam(lr=0.005)\n",
    "input_1 = Input(shape=(MAX_SEQUENCE_LENGTH,))\n",
    "input_2 = Input(shape=(8,))\n",
    "embedding_layer = Embedding(MAX_NB_WORDS, EMBEDDING_DIM, input_length=300, trainable=False)(input_1)\n",
    "layer_1 = Flatten()(embedding_layer)\n",
    "concat_layer = Concatenate()([layer_1, input_2])\n",
    "dense_layer = Dense(128, activation='relu')(concat_layer)\n",
    "dense_layer2 = Dense(64, activation='relu')(dense_layer)\n",
    "output = Dense(1, activation='sigmoid')(dense_layer2)\n",
    "model = Model(inputs=[input_1, input_2], outputs=output)\n",
    "\n",
    "keras.callbacks.Callback()\n",
    "\n",
    "\n",
    "model.compile(loss='binary_crossentropy', optimizer='adam', metrics=['accuracy',fbeta])\n",
    "print(model.summary())\n",
    "es = EarlyStopping(monitor='val_fbeta', mode='max', verbose=1,patience=5)  \n",
    "checkpoints = SaveEveryEpoch('models/best_nn_def_emb_nontext.h5')\n",
    "mc = ModelCheckpoint('models/best_nn_def_emb_nontext.h5', monitor='val_fbeta', mode='max', save_best_only=True,verbose=1)  \n",
    "\n",
    "history = model.fit(x=[X1_train, X2_train_s], y=Y_train, validation_data=([X1_test,X2_test_s],Y_test), nb_epoch=20, batch_size=128, verbose=1, callbacks=[es,mc,checkpoints])"
   ]
  },
  {
   "cell_type": "code",
   "execution_count": 80,
   "metadata": {
    "scrolled": true
   },
   "outputs": [
    {
     "name": "stdout",
     "output_type": "stream",
     "text": [
      "Accuracy: 0.975357\n",
      "Precision: 0.761402\n",
      "Recall: 0.286522\n",
      "F1 score: 0.416363\n",
      "F1 score: [0.98741301 0.41636253]\n",
      "F1 score weighted: 0.9698943465126867\n",
      "Precision score weighted: 0.9712159133568475\n",
      "Recall score weighted: 0.9753574707699024\n"
     ]
    },
    {
     "data": {
      "image/png": "[encoded data removed]",
      "text/plain": [
       "<Figure size 576x432 with 2 Axes>"
      ]
     },
     "metadata": {
      "needs_background": "light"
     },
     "output_type": "display_data"
    }
   ],
   "source": [
    "model = load_model('models/best_nn_def_emb_nontext.h5',custom_objects = {'fbeta':fbeta})\n",
    "\n",
    "# predict probabilities for test set\n",
    "yhat_probs = model.predict(x=[X1_test,X2_test_s], verbose=0)\n",
    "# predict crisp classes for test set\n",
    "# yhat_classes = model.predict_classes(x=[X1_test,X2_test], verbose=0)\n",
    "# max_idx = np.argmax(yhat_probs,axis=1)\n",
    "# predict probabilities for test set\n",
    "\n",
    "# reduce to 1d array\n",
    "yhat_probs = yhat_probs[:, 0]\n",
    "yhat_probs[yhat_probs>=0.5] = 1\n",
    "yhat_probs[yhat_probs<0.5] = 0\n",
    " \n",
    "# accuracy: (tp + tn) / (p + n)\n",
    "accuracy = accuracy_score(Y_test, yhat_probs)\n",
    "print('Accuracy: %f' % accuracy)\n",
    "# precision tp / (tp + fp)\n",
    "precision = precision_score(Y_test, yhat_probs)\n",
    "print('Precision: %f' % precision)\n",
    "# recall: tp / (tp + fn)\n",
    "recall = recall_score(Y_test, yhat_probs)\n",
    "print('Recall: %f' % recall)\n",
    "# f1: 2 tp / (2 tp + fp + fn)\n",
    "f1 = f1_score(Y_test, yhat_probs)\n",
    "print('F1 score: %f' % f1)\n",
    "f1_all = f1_score(Y_test, yhat_probs,average=None)\n",
    "print(f'F1 score: {f1_all}')\n",
    "f1_w = f1_score(Y_test, yhat_probs,average='weighted')\n",
    "print(f'F1 score weighted: {f1_w}')\n",
    "precision_w = precision_score(Y_test, yhat_probs,average='weighted')\n",
    "print(f'Precision score weighted: {precision_w}')\n",
    "recall_w = recall_score(Y_test, yhat_probs,average='weighted')\n",
    "print(f'Recall score weighted: {recall_w}')\n",
    "\n",
    "plot_confusion_matrix(Y_test,yhat_probs)"
   ]
  },
  {
   "cell_type": "markdown",
   "metadata": {},
   "source": [
    "### CNN: Default Embeddings, Non-text, 1 Layer, Default Parameters"
   ]
  },
  {
   "cell_type": "code",
   "execution_count": 81,
   "metadata": {
    "scrolled": false
   },
   "outputs": [],
   "source": [
    "input_1 = Input(shape=(MAX_SEQUENCE_LENGTH,))\n",
    "input_2 = Input(shape=(8,))\n",
    "embedding_layer = Embedding(MAX_NB_WORDS, EMBEDDING_DIM, input_length=X.shape[1], trainable=False)(input_1)\n",
    "Conv_1 = Conv1D(128, 5, activation='relu')(embedding_layer)\n",
    "Conv_2 = GlobalMaxPooling1D()(Conv_1)\n",
    "concat_layer = Concatenate()([Conv_2, input_2])\n",
    "\n",
    "dense_layer = Dense(128, activation='relu')(concat_layer)\n",
    "dense_layer2 = Dense(64, activation='relu')(dense_layer)\n",
    "output = Dense(1, activation='sigmoid')(dense_layer2)\n",
    "model = Model(inputs=[input_1, input_2], outputs=output)\n",
    "\n",
    "keras.callbacks.Callback()\n",
    "\n",
    "model.compile(loss='binary_crossentropy', optimizer='adam', metrics=['accuracy',fbeta])\n",
    "print(model.summary())\n",
    "es = EarlyStopping(monitor='val_fbeta', mode='max', verbose=1,patience=5)  \n",
    "checkpoints = SaveEveryEpoch('models/best_cnn_def_emb_nontext.h5')\n",
    "mc = ModelCheckpoint('models/best_cnn_def_emb_nontext.h5', monitor='val_fbeta', mode='max', save_best_only=True,verbose=1)  \n",
    "\n",
    "history = model.fit(x=[X1_train, X2_train_s], y=Y_train, validation_data=([X1_test,X2_test_s],Y_test), nb_epoch=20, batch_size=128, verbose=1, callbacks=[es,mc,checkpoints])"
   ]
  },
  {
   "cell_type": "code",
   "execution_count": 82,
   "metadata": {},
   "outputs": [
    {
     "name": "stdout",
     "output_type": "stream",
     "text": [
      "Accuracy: 0.972834\n",
      "Precision: 0.600515\n",
      "Recall: 0.341984\n",
      "F1 score: 0.435791\n",
      "[0.98608201 0.43579144]\n",
      "0.9692002166957455\n",
      "Precision score weighted: 0.9678293675796422\n",
      "Recall score weighted: 0.972834147688238\n"
     ]
    },
    {
     "data": {
      "image/png": "[encoded data removed]",
      "text/plain": [
       "<Figure size 576x432 with 2 Axes>"
      ]
     },
     "metadata": {
      "needs_background": "light"
     },
     "output_type": "display_data"
    }
   ],
   "source": [
    "model = load_model('models/best_cnn_def_emb_nontext_test.h5',custom_objects = {'fbeta':fbeta})\n",
    "\n",
    "# predict probabilities for test set\n",
    "yhat_probs = model.predict(x=[X1_test,X2_test_s], verbose=0)\n",
    "\n",
    "# get 1d array\n",
    "yhat_probs = yhat_probs[:, 0]\n",
    "yhat_probs[yhat_probs>0.5] = 1\n",
    "yhat_probs[yhat_probs<0.5] = 0\n",
    " \n",
    "accuracy = accuracy_score(Y_test, yhat_probs)\n",
    "print('Accuracy: %f' % accuracy)\n",
    "\n",
    "precision = precision_score(Y_test, yhat_probs)\n",
    "print('Precision: %f' % precision)\n",
    "\n",
    "recall = recall_score(Y_test, yhat_probs)\n",
    "print('Recall: %f' % recall)\n",
    "\n",
    "f1 = f1_score(Y_test, yhat_probs)\n",
    "print('F1 score: %f' % f1)\n",
    "\n",
    "f1_both = f1_score(Y_test,yhat_probs,average=None)\n",
    "print(f1_both)\n",
    "\n",
    "f1_w = f1_score(Y_test,yhat_probs,average='weighted')\n",
    "print(f1_w)\n",
    "\n",
    "precision_w = precision_score(Y_test, yhat_probs,average='weighted')\n",
    "print(f'Precision score weighted: {precision_w}')\n",
    "\n",
    "recall_w = recall_score(Y_test, yhat_probs,average='weighted')\n",
    "print(f'Recall score weighted: {recall_w}')\n",
    "\n",
    "\n",
    "plot_confusion_matrix(Y_test,yhat_probs)"
   ]
  },
  {
   "cell_type": "markdown",
   "metadata": {},
   "source": [
    "## Transfer Learning: Word2Vec Pretrained Embeddings"
   ]
  },
  {
   "cell_type": "code",
   "execution_count": 33,
   "metadata": {},
   "outputs": [],
   "source": [
    "y = comments_final['Removed'].to_numpy()\n",
    "\n",
    "X_train, X_test, y_train, y_test = train_test_split(\n",
    "     comments_final,y, test_size = 0.2, random_state = 0, stratify = y)"
   ]
  },
  {
   "cell_type": "code",
   "execution_count": 34,
   "metadata": {},
   "outputs": [],
   "source": [
    "#train_test split\n",
    "x_tr, y_tr = X_train['body_clean_stop'].values, y_train\n",
    "x_val, y_val = X_test['body_clean_stop'].values, y_test"
   ]
  },
  {
   "cell_type": "code",
   "execution_count": 35,
   "metadata": {},
   "outputs": [],
   "source": [
    "from keras.preprocessing.text import Tokenizer\n",
    "from keras.preprocessing.sequence import pad_sequences\n",
    "\n",
    "#Tokenize the sentences\n",
    "tokenizer = Tokenizer(num_words=100000)\n",
    "\n",
    "#preparing vocabulary\n",
    "tokenizer.fit_on_texts(list(x_tr))\n",
    "\n",
    "#converting text into integer sequences\n",
    "x_tr_seq  = tokenizer.texts_to_sequences(x_tr) \n",
    "x_val_seq = tokenizer.texts_to_sequences(x_val)\n",
    "\n",
    "#padding to prepare sequences of same length\n",
    "x_tr_seq  = pad_sequences(x_tr_seq, maxlen=300)\n",
    "x_val_seq = pad_sequences(x_val_seq, maxlen=300)"
   ]
  },
  {
   "cell_type": "code",
   "execution_count": 38,
   "metadata": {},
   "outputs": [
    {
     "name": "stdout",
     "output_type": "stream",
     "text": [
      "Loaded 4529833 word vectors.\n"
     ]
    }
   ],
   "source": [
    "# load the whole embedding into memory\n",
    "# https://wikipedia2vec.github.io/wikipedia2vec/pretrained/\n",
    "w2v_embeddings_index = dict()\n",
    "f = open('data/enwiki_20180420_300d.txt')\n",
    "\n",
    "for line in f:\n",
    "    values = line.split()\n",
    "    word = values[0]\n",
    "    coefs = np.asarray(values[1:])\n",
    "    w2v_embeddings_index[word] = coefs\n",
    "\n",
    "f.close()\n",
    "print('Loaded %s word vectors.' % len(w2v_embeddings_index))"
   ]
  },
  {
   "cell_type": "code",
   "execution_count": 39,
   "metadata": {},
   "outputs": [
    {
     "name": "stdout",
     "output_type": "stream",
     "text": [
      "131275\n"
     ]
    }
   ],
   "source": [
    "size_of_vocabulary=len(tokenizer.word_index) + 1 #+1 for padding\n",
    "\n",
    "# create a weight matrix for words in training docs\n",
    "w2v_embedding_matrix = np.zeros((size_of_vocabulary, 300))\n",
    "\n",
    "for word, i in tokenizer.word_index.items():\n",
    "    w2v_embedding_vector = w2v_embeddings_index.get(word)\n",
    "    if w2v_embedding_vector is not None:\n",
    "        w2v_embedding_matrix[i] = w2v_embedding_vector\n",
    "print(size_of_vocabulary)"
   ]
  },
  {
   "cell_type": "code",
   "execution_count": 40,
   "metadata": {},
   "outputs": [
    {
     "data": {
      "text/plain": [
       "(131275, 300)"
      ]
     },
     "execution_count": 40,
     "metadata": {},
     "output_type": "execute_result"
    }
   ],
   "source": [
    "w2v_embedding_matrix.shape"
   ]
  },
  {
   "cell_type": "code",
   "execution_count": null,
   "metadata": {},
   "outputs": [],
   "source": []
  },
  {
   "cell_type": "markdown",
   "metadata": {},
   "source": [
    "## W2V Pretrained: Text only"
   ]
  },
  {
   "cell_type": "markdown",
   "metadata": {},
   "source": [
    "### NN: Pretrained Wiki Embeddings, Text-only, 1 Layer, Default Parameters"
   ]
  },
  {
   "cell_type": "code",
   "execution_count": 43,
   "metadata": {},
   "outputs": [
    {
     "name": "stdout",
     "output_type": "stream",
     "text": [
      "_________________________________________________________________\n",
      "Layer (type)                 Output Shape              Param #   \n",
      "=================================================================\n",
      "embedding_5 (Embedding)      (None, 300, 300)          39382500  \n",
      "_________________________________________________________________\n",
      "flatten_2 (Flatten)          (None, 90000)             0         \n",
      "_________________________________________________________________\n",
      "dense_7 (Dense)              (None, 128)               11520128  \n",
      "_________________________________________________________________\n",
      "dense_8 (Dense)              (None, 1)                 129       \n",
      "=================================================================\n",
      "Total params: 50,902,757\n",
      "Trainable params: 11,520,257\n",
      "Non-trainable params: 39,382,500\n",
      "_________________________________________________________________\n",
      "None\n",
      "Train on 622985 samples, validate on 155747 samples\n",
      "Epoch 1/20\n",
      "622985/622985 [==============================] - 31s 50us/step - loss: 0.1306 - acc: 0.9692 - fbeta: 0.0191 - val_loss: 0.1271 - val_acc: 0.9693 - val_fbeta: 0.0148\n",
      "\n",
      "Epoch 00001: val_fbeta improved from -inf to 0.01479, saving model to models/best_nn_pretr_emb.h5\n",
      "0.9691790332031422\n",
      "Epoch 2/20\n",
      "622985/622985 [==============================] - 29s 46us/step - loss: 0.1206 - acc: 0.9695 - fbeta: 0.0243 - val_loss: 0.1269 - val_acc: 0.9695 - val_fbeta: 0.0287\n",
      "\n",
      "Epoch 00002: val_fbeta improved from 0.01479 to 0.02873, saving model to models/best_nn_pretr_emb.h5\n",
      "0.9695257510213883\n",
      "Epoch 3/20\n",
      "622985/622985 [==============================] - 29s 46us/step - loss: 0.1147 - acc: 0.9704 - fbeta: 0.0706 - val_loss: 0.1297 - val_acc: 0.9695 - val_fbeta: 0.0479\n",
      "\n",
      "Epoch 00003: val_fbeta improved from 0.02873 to 0.04785, saving model to models/best_nn_pretr_emb.h5\n",
      "0.970431069768935\n",
      "Epoch 4/20\n",
      "622985/622985 [==============================] - 29s 46us/step - loss: 0.1086 - acc: 0.9714 - fbeta: 0.1104 - val_loss: 0.1331 - val_acc: 0.9696 - val_fbeta: 0.0536\n",
      "\n",
      "Epoch 00004: val_fbeta improved from 0.04785 to 0.05362, saving model to models/best_nn_pretr_emb.h5\n",
      "0.9713684920182669\n",
      "Epoch 5/20\n",
      "622985/622985 [==============================] - 29s 46us/step - loss: 0.1004 - acc: 0.9724 - fbeta: 0.1498 - val_loss: 0.1417 - val_acc: 0.9696 - val_fbeta: 0.0523\n",
      "\n",
      "Epoch 00005: val_fbeta did not improve from 0.05362\n",
      "0.9724214868736808\n",
      "Epoch 6/20\n",
      "622985/622985 [==============================] - 29s 46us/step - loss: 0.0908 - acc: 0.9739 - fbeta: 0.2145 - val_loss: 0.1557 - val_acc: 0.9689 - val_fbeta: 0.0647\n",
      "\n",
      "Epoch 00006: val_fbeta improved from 0.05362 to 0.06473, saving model to models/best_nn_pretr_emb.h5\n",
      "0.9738741703251282\n",
      "Epoch 7/20\n",
      "622985/622985 [==============================] - 29s 46us/step - loss: 0.0812 - acc: 0.9755 - fbeta: 0.2782 - val_loss: 0.1732 - val_acc: 0.9687 - val_fbeta: 0.0671\n",
      "\n",
      "Epoch 00007: val_fbeta improved from 0.06473 to 0.06707, saving model to models/best_nn_pretr_emb.h5\n",
      "0.9754986075106142\n",
      "Epoch 8/20\n",
      "622985/622985 [==============================] - 29s 46us/step - loss: 0.0721 - acc: 0.9773 - fbeta: 0.3444 - val_loss: 0.1883 - val_acc: 0.9674 - val_fbeta: 0.0826\n",
      "\n",
      "Epoch 00008: val_fbeta improved from 0.06707 to 0.08264, saving model to models/best_nn_pretr_emb.h5\n",
      "0.9772546690532183\n",
      "Epoch 9/20\n",
      "622985/622985 [==============================] - 29s 46us/step - loss: 0.0628 - acc: 0.9795 - fbeta: 0.4257 - val_loss: 0.2084 - val_acc: 0.9651 - val_fbeta: 0.0841\n",
      "\n",
      "Epoch 00009: val_fbeta improved from 0.08264 to 0.08412, saving model to models/best_nn_pretr_emb.h5\n",
      "0.9794521537436696\n",
      "Epoch 10/20\n",
      "622985/622985 [==============================] - 29s 46us/step - loss: 0.0549 - acc: 0.9817 - fbeta: 0.5135 - val_loss: 0.2317 - val_acc: 0.9645 - val_fbeta: 0.0870\n",
      "\n",
      "Epoch 00010: val_fbeta improved from 0.08412 to 0.08704, saving model to models/best_nn_pretr_emb.h5\n",
      "0.9817026092120998\n",
      "Epoch 11/20\n",
      "622985/622985 [==============================] - 29s 46us/step - loss: 0.0471 - acc: 0.9843 - fbeta: 0.5935 - val_loss: 0.2518 - val_acc: 0.9627 - val_fbeta: 0.0916\n",
      "\n",
      "Epoch 00011: val_fbeta improved from 0.08704 to 0.09161, saving model to models/best_nn_pretr_emb.h5\n",
      "0.9842933617984382\n",
      "Epoch 12/20\n",
      "622985/622985 [==============================] - 29s 46us/step - loss: 0.0411 - acc: 0.9864 - fbeta: 0.6511 - val_loss: 0.2755 - val_acc: 0.9565 - val_fbeta: 0.1014\n",
      "\n",
      "Epoch 00012: val_fbeta improved from 0.09161 to 0.10144, saving model to models/best_nn_pretr_emb.h5\n",
      "0.9864346653611242\n",
      "Epoch 13/20\n",
      "622985/622985 [==============================] - 29s 46us/step - loss: 0.0360 - acc: 0.9885 - fbeta: 0.7103 - val_loss: 0.2908 - val_acc: 0.9560 - val_fbeta: 0.0998\n",
      "\n",
      "Epoch 00013: val_fbeta did not improve from 0.10144\n",
      "0.9884652118430775\n",
      "Epoch 14/20\n",
      "622985/622985 [==============================] - 29s 47us/step - loss: 0.0317 - acc: 0.9899 - fbeta: 0.7515 - val_loss: 0.2998 - val_acc: 0.9573 - val_fbeta: 0.0987\n",
      "\n",
      "Epoch 00014: val_fbeta did not improve from 0.10144\n",
      "0.9899435780958765\n",
      "Epoch 15/20\n",
      "622985/622985 [==============================] - 29s 46us/step - loss: 0.0290 - acc: 0.9910 - fbeta: 0.7816 - val_loss: 0.3103 - val_acc: 0.9564 - val_fbeta: 0.1011\n",
      "\n",
      "Epoch 00015: val_fbeta did not improve from 0.10144\n",
      "0.9909660746245896\n",
      "Epoch 16/20\n",
      "622985/622985 [==============================] - 29s 46us/step - loss: 0.0263 - acc: 0.9918 - fbeta: 0.8035 - val_loss: 0.3263 - val_acc: 0.9542 - val_fbeta: 0.1046\n",
      "\n",
      "Epoch 00016: val_fbeta improved from 0.10144 to 0.10459, saving model to models/best_nn_pretr_emb.h5\n",
      "0.9918376846954582\n",
      "Epoch 17/20\n",
      "622985/622985 [==============================] - 29s 46us/step - loss: 0.0244 - acc: 0.9926 - fbeta: 0.8244 - val_loss: 0.3352 - val_acc: 0.9576 - val_fbeta: 0.0925\n",
      "\n",
      "Epoch 00017: val_fbeta did not improve from 0.10459\n",
      "0.9926242204869453\n",
      "Epoch 18/20\n",
      "622985/622985 [==============================] - 29s 46us/step - loss: 0.0233 - acc: 0.9931 - fbeta: 0.8381 - val_loss: 0.3410 - val_acc: 0.9584 - val_fbeta: 0.0949\n",
      "\n",
      "Epoch 00018: val_fbeta did not improve from 0.10459\n",
      "0.9930945367866\n",
      "Epoch 19/20\n",
      "622985/622985 [==============================] - 29s 46us/step - loss: 0.0224 - acc: 0.9935 - fbeta: 0.8471 - val_loss: 0.3556 - val_acc: 0.9489 - val_fbeta: 0.1093\n",
      "\n",
      "Epoch 00019: val_fbeta improved from 0.10459 to 0.10932, saving model to models/best_nn_pretr_emb.h5\n",
      "0.993471752931451\n",
      "Epoch 20/20\n",
      "622985/622985 [==============================] - 29s 47us/step - loss: 0.0208 - acc: 0.9940 - fbeta: 0.8625 - val_loss: 0.3572 - val_acc: 0.9560 - val_fbeta: 0.0851\n",
      "\n",
      "Epoch 00020: val_fbeta did not improve from 0.10932\n",
      "0.9939757779079753\n",
      "Accuracy: 0.948911\n",
      "Precision: 0.130607\n",
      "Recall: 0.117622\n",
      "F1 score: 0.123775\n",
      "[0.9736883  0.12377491]\n",
      "0.9476146928729112\n",
      "Precision score weighted: 0.9463441445590532\n",
      "Recall score weighted: 0.9489107334330678\n"
     ]
    },
    {
     "data": {
      "image/png": "[encoded data removed]",
      "text/plain": [
       "<Figure size 576x432 with 2 Axes>"
      ]
     },
     "metadata": {
      "needs_background": "light"
     },
     "output_type": "display_data"
    }
   ],
   "source": [
    "model = Sequential()\n",
    "embedding_layer = Embedding(size_of_vocabulary, 300, weights=[w2v_embedding_matrix], input_length=300, trainable=False)\n",
    "model.add(embedding_layer)\n",
    "model.add(Flatten())\n",
    "model.add(Dense(128, activation='relu'))\n",
    "model.add(Dense(1, activation='sigmoid'))\n",
    "model.compile(optimizer='adam', loss='binary_crossentropy', metrics=['accuracy',fbeta])\n",
    "\n",
    "#Adding callbacks\n",
    "es = EarlyStopping(monitor='val_fbeta', mode='max', verbose=1,patience=5)\n",
    "checkpoints = SaveEveryEpoch('models/best_nn_pretr_emb.h5')\n",
    "mc=ModelCheckpoint('models/best_nn_pretr_emb.h5', monitor='val_fbeta', mode='max', save_best_only=True,verbose=1)  \n",
    "\n",
    "#Print summary of model\n",
    "print(model.summary())\n",
    "\n",
    "# fit model\n",
    "history = model.fit(np.array(x_tr_seq),np.array(y_tr),batch_size=128,epochs=20,validation_data=(np.array(x_val_seq),np.array(y_val)),verbose=1,callbacks=[mc,checkpoints,es])\n",
    "\n",
    "\n",
    "model = load_model('models/best_nn_pretr_emb.h5',custom_objects = {'fbeta':fbeta})\n",
    "\n",
    "# predict probabilities for test set\n",
    "yhat_probs = model.predict(x=np.array(x_val_seq), verbose=0)\n",
    "\n",
    "# reduce to 1d array\n",
    "yhat_probs = yhat_probs[:, 0]\n",
    "yhat_probs[yhat_probs>0.5] = 1\n",
    "yhat_probs[yhat_probs<0.5] = 0\n",
    " \n",
    "accuracy = accuracy_score(Y_test, yhat_probs)\n",
    "print('Accuracy: %f' % accuracy)\n",
    "\n",
    "precision = precision_score(Y_test, yhat_probs)\n",
    "print('Precision: %f' % precision)\n",
    "\n",
    "recall = recall_score(Y_test, yhat_probs)\n",
    "print('Recall: %f' % recall)\n",
    "\n",
    "f1 = f1_score(Y_test, yhat_probs)\n",
    "print('F1 score: %f' % f1)\n",
    "\n",
    "f1_both = f1_score(Y_test,yhat_probs,average=None)\n",
    "print(f1_both)\n",
    "\n",
    "f1_w = f1_score(Y_test,yhat_probs,average='weighted')\n",
    "print(f1_w)\n",
    "\n",
    "precision_w = precision_score(Y_test, yhat_probs,average='weighted')\n",
    "print(f'Precision score weighted: {precision_w}')\n",
    "\n",
    "recall_w = recall_score(Y_test, yhat_probs,average='weighted')\n",
    "print(f'Recall score weighted: {recall_w}')\n",
    "\n",
    "plot_confusion_matrix(Y_test,yhat_probs)"
   ]
  },
  {
   "cell_type": "markdown",
   "metadata": {},
   "source": [
    "### CNN: Pretrained Wiki Embeddings, Text-only, 1 Layer, Default Parameters"
   ]
  },
  {
   "cell_type": "code",
   "execution_count": 89,
   "metadata": {
    "scrolled": false
   },
   "outputs": [],
   "source": [
    "# define and fit the model\n",
    "# def cnn_model(trainX, trainy):\n",
    "\n",
    "model = Sequential()\n",
    "embedding_layer = Embedding(size_of_vocabulary, 300, weights=[w2v_embedding_matrix], input_length=300, trainable=False)\n",
    "model.add(embedding_layer)\n",
    "model.add(Conv1D(128, 5, activation='relu'))\n",
    "model.add(GlobalMaxPooling1D())\n",
    "model.add(Dense(128, activation='relu'))\n",
    "model.add(Dense(1, activation='sigmoid'))\n",
    "model.compile(optimizer='adam', loss='binary_crossentropy', metrics=['accuracy',fbeta])\n",
    "\n",
    "\n",
    "#Adding callbacks\n",
    "es = EarlyStopping(monitor='val_fbeta', mode='max', verbose=1,patience=5)\n",
    "checkpoints = SaveEveryEpoch('models/best_cnn_pretr_emb.h5')\n",
    "mc=ModelCheckpoint('models/best_cnn_pretr_emb.h5', monitor='val_fbeta', mode='max', save_best_only=True,verbose=1)  \n",
    "\n",
    "#Print summary of model\n",
    "print(model.summary())\n",
    "\n",
    "# fit model\n",
    "history = model.fit(np.array(x_tr_seq),np.array(y_tr),batch_size=128,epochs=20,validation_data=(np.array(x_val_seq),np.array(y_val)),verbose=1,callbacks=[mc,checkpoints,es])\n",
    "\n",
    "\n",
    "model = load_model('models/best_cnn_pretr_emb.h5',custom_objects = {'fbeta':fbeta})\n",
    "\n",
    "# predict probabilities for test set\n",
    "yhat_probs = model.predict(x=np.array(x_val_seq), verbose=0)\n",
    "\n",
    "# reduce to 1d array\n",
    "yhat_probs = yhat_probs[:, 0]\n",
    "yhat_probs[yhat_probs>0.5] = 1\n",
    "yhat_probs[yhat_probs<0.5] = 0\n",
    " \n",
    "accuracy = accuracy_score(Y_test, yhat_probs)\n",
    "print('Accuracy: %f' % accuracy)\n",
    "\n",
    "precision = precision_score(Y_test, yhat_probs)\n",
    "print('Precision: %f' % precision)\n",
    "\n",
    "recall = recall_score(Y_test, yhat_probs)\n",
    "print('Recall: %f' % recall)\n",
    "\n",
    "f1 = f1_score(Y_test, yhat_probs)\n",
    "print('F1 score: %f' % f1)\n",
    "\n",
    "f1_both = f1_score(Y_test,yhat_probs,average=None)\n",
    "print(f1_both)\n",
    "\n",
    "f1_w = f1_score(Y_test,yhat_probs,average='weighted')\n",
    "print(f1_w)\n",
    "\n",
    "plot_confusion_matrix(Y_test,yhat_probs)"
   ]
  },
  {
   "cell_type": "code",
   "execution_count": 88,
   "metadata": {},
   "outputs": [
    {
     "name": "stdout",
     "output_type": "stream",
     "text": [
      "Accuracy: 0.967723\n",
      "Precision: 0.433600\n",
      "Recall: 0.170155\n",
      "F1 score: 0.244401\n",
      "[0.98350944 0.24440102]\n",
      "0.9608350988277176\n",
      "Precision score weighted: 0.957646348245937\n",
      "Recall score weighted: 0.9677232948307191\n"
     ]
    },
    {
     "data": {
      "image/png": "[encoded data removed]",
      "text/plain": [
       "<Figure size 576x432 with 2 Axes>"
      ]
     },
     "metadata": {
      "needs_background": "light"
     },
     "output_type": "display_data"
    }
   ],
   "source": [
    "\n",
    "model = load_model('models/best_cnn_pretr_emb.h5',custom_objects = {'fbeta':fbeta})\n",
    "\n",
    "# predict probabilities for test set\n",
    "yhat_probs = model.predict(x=np.array(x_val_seq), verbose=0)\n",
    "\n",
    "# reduce to 1d array\n",
    "yhat_probs = yhat_probs[:, 0]\n",
    "yhat_probs[yhat_probs>0.5] = 1\n",
    "yhat_probs[yhat_probs<0.5] = 0\n",
    " \n",
    "accuracy = accuracy_score(Y_test, yhat_probs)\n",
    "print('Accuracy: %f' % accuracy)\n",
    "\n",
    "precision = precision_score(Y_test, yhat_probs)\n",
    "print('Precision: %f' % precision)\n",
    "\n",
    "recall = recall_score(Y_test, yhat_probs)\n",
    "print('Recall: %f' % recall)\n",
    "\n",
    "f1 = f1_score(Y_test, yhat_probs)\n",
    "print('F1 score: %f' % f1)\n",
    "\n",
    "f1_both = f1_score(Y_test,yhat_probs,average=None)\n",
    "print(f1_both)\n",
    "\n",
    "f1_w = f1_score(Y_test,yhat_probs,average='weighted')\n",
    "print(f1_w)\n",
    "\n",
    "precision_w = precision_score(Y_test, yhat_probs,average='weighted')\n",
    "print(f'Precision score weighted: {precision_w}')\n",
    "\n",
    "recall_w = recall_score(Y_test, yhat_probs,average='weighted')\n",
    "print(f'Recall score weighted: {recall_w}')\n",
    "\n",
    "plot_confusion_matrix(Y_test,yhat_probs)"
   ]
  },
  {
   "cell_type": "markdown",
   "metadata": {},
   "source": [
    "### Pretrained w2v: Text + Non-text features (Wikipedia)\n"
   ]
  },
  {
   "cell_type": "code",
   "execution_count": null,
   "metadata": {},
   "outputs": [],
   "source": [
    "comments_final.columns"
   ]
  },
  {
   "cell_type": "code",
   "execution_count": 47,
   "metadata": {},
   "outputs": [],
   "source": [
    "final_features = ['body_clean_stop','run_prop_prev_rem','child_rem_flag','sec_child_rem_flag','third_child_rem_flag', 'fourth_child_rem_flag','fifth_child_rem_flag','run_prev_rem','run_prev_tot']\n",
    "X = comments_final[final_features]\n",
    "\n",
    "y = comments_final['Removed']"
   ]
  },
  {
   "cell_type": "code",
   "execution_count": 48,
   "metadata": {},
   "outputs": [],
   "source": [
    "X_train, X_test, y_train, y_test = train_test_split(X, y, test_size=0.20, random_state=42)"
   ]
  },
  {
   "cell_type": "code",
   "execution_count": 49,
   "metadata": {},
   "outputs": [],
   "source": [
    "X1_train = X_train['body_clean_stop']\n",
    "X1_test = X_test['body_clean_stop']"
   ]
  },
  {
   "cell_type": "code",
   "execution_count": 50,
   "metadata": {},
   "outputs": [],
   "source": [
    "tokenizer = Tokenizer(num_words=100000)\n",
    "tokenizer.fit_on_texts(X1_train)\n",
    "\n",
    "X1_train = tokenizer.texts_to_sequences(X1_train)\n",
    "X1_test = tokenizer.texts_to_sequences(X1_test)\n",
    "\n",
    "vocab_size = len(tokenizer.word_index) + 1\n",
    "\n",
    "maxlen = 200\n",
    "\n",
    "X1_train = pad_sequences(X1_train, padding='post', maxlen=maxlen)\n",
    "X1_test = pad_sequences(X1_test, padding='post', maxlen=maxlen)"
   ]
  },
  {
   "cell_type": "code",
   "execution_count": 51,
   "metadata": {},
   "outputs": [],
   "source": [
    "X2_train = X_train[['run_prop_prev_rem','child_rem_flag','sec_child_rem_flag','third_child_rem_flag', 'fourth_child_rem_flag','fifth_child_rem_flag','run_prev_rem','run_prev_tot']].values\n",
    "X2_test = X_test[['run_prop_prev_rem','child_rem_flag','sec_child_rem_flag','third_child_rem_flag', 'fourth_child_rem_flag','fifth_child_rem_flag','run_prev_rem','run_prev_tot']].values"
   ]
  },
  {
   "cell_type": "code",
   "execution_count": 52,
   "metadata": {},
   "outputs": [],
   "source": [
    "# normalize non-text features\n",
    "scaler = MinMaxScaler()\n",
    "\n",
    "X2_train_s = scaler.fit_transform(X2_train)\n",
    "X2_test_s = scaler.transform(X2_test)"
   ]
  },
  {
   "cell_type": "code",
   "execution_count": null,
   "metadata": {},
   "outputs": [],
   "source": []
  },
  {
   "cell_type": "markdown",
   "metadata": {},
   "source": [
    "#### NN: Non-text features + Pretrained w2v embeddings"
   ]
  },
  {
   "cell_type": "code",
   "execution_count": 54,
   "metadata": {},
   "outputs": [
    {
     "name": "stdout",
     "output_type": "stream",
     "text": [
      "__________________________________________________________________________________________________\n",
      "Layer (type)                    Output Shape         Param #     Connected to                     \n",
      "==================================================================================================\n",
      "input_1 (InputLayer)            (None, 200)          0                                            \n",
      "__________________________________________________________________________________________________\n",
      "embedding_8 (Embedding)         (None, 200, 300)     39382500    input_1[0][0]                    \n",
      "__________________________________________________________________________________________________\n",
      "flatten_3 (Flatten)             (None, 60000)        0           embedding_8[0][0]                \n",
      "__________________________________________________________________________________________________\n",
      "input_2 (InputLayer)            (None, 8)            0                                            \n",
      "__________________________________________________________________________________________________\n",
      "concatenate_1 (Concatenate)     (None, 60008)        0           flatten_3[0][0]                  \n",
      "                                                                 input_2[0][0]                    \n",
      "__________________________________________________________________________________________________\n",
      "dense_13 (Dense)                (None, 128)          7681152     concatenate_1[0][0]              \n",
      "__________________________________________________________________________________________________\n",
      "dense_14 (Dense)                (None, 64)           8256        dense_13[0][0]                   \n",
      "__________________________________________________________________________________________________\n",
      "dense_15 (Dense)                (None, 1)            65          dense_14[0][0]                   \n",
      "==================================================================================================\n",
      "Total params: 47,071,973\n",
      "Trainable params: 7,689,473\n",
      "Non-trainable params: 39,382,500\n",
      "__________________________________________________________________________________________________\n",
      "None\n",
      "Train on 622985 samples, validate on 155747 samples\n",
      "Epoch 1/20\n",
      "622985/622985 [==============================] - 30s 49us/step - loss: 0.1152 - acc: 0.9730 - fbeta: 0.1919 - val_loss: 0.1089 - val_acc: 0.9737 - val_fbeta: 0.2190\n",
      "\n",
      "Epoch 00001: val_fbeta improved from -inf to 0.21904, saving model to models/best_nn_w2v_emb_nontext_v2.h5\n",
      "0.9730089809545976\n",
      "Epoch 2/20\n",
      "622985/622985 [==============================] - 27s 44us/step - loss: 0.0988 - acc: 0.9752 - fbeta: 0.2874 - val_loss: 0.1070 - val_acc: 0.9740 - val_fbeta: 0.2440\n",
      "\n",
      "Epoch 00002: val_fbeta improved from 0.21904 to 0.24398, saving model to models/best_nn_w2v_emb_nontext_v2.h5\n",
      "0.9751775724937197\n",
      "Epoch 3/20\n",
      "622985/622985 [==============================] - 28s 44us/step - loss: 0.0881 - acc: 0.9773 - fbeta: 0.3647 - val_loss: 0.1098 - val_acc: 0.9733 - val_fbeta: 0.2809\n",
      "\n",
      "Epoch 00003: val_fbeta improved from 0.24398 to 0.28086, saving model to models/best_nn_w2v_emb_nontext_v2.h5\n",
      "0.9773028243055611\n",
      "Epoch 4/20\n",
      "622985/622985 [==============================] - 28s 44us/step - loss: 0.0762 - acc: 0.9797 - fbeta: 0.4429 - val_loss: 0.1211 - val_acc: 0.9722 - val_fbeta: 0.2872\n",
      "\n",
      "Epoch 00004: val_fbeta improved from 0.28086 to 0.28721, saving model to models/best_nn_w2v_emb_nontext_v2.h5\n",
      "0.9797266386831144\n",
      "Epoch 5/20\n",
      "622985/622985 [==============================] - 28s 44us/step - loss: 0.0626 - acc: 0.9828 - fbeta: 0.5383 - val_loss: 0.1288 - val_acc: 0.9725 - val_fbeta: 0.2740\n",
      "\n",
      "Epoch 00005: val_fbeta did not improve from 0.28721\n",
      "0.982766840293105\n",
      "Epoch 6/20\n",
      "622985/622985 [==============================] - 27s 44us/step - loss: 0.0506 - acc: 0.9855 - fbeta: 0.6246 - val_loss: 0.1539 - val_acc: 0.9717 - val_fbeta: 0.2937\n",
      "\n",
      "Epoch 00006: val_fbeta improved from 0.28721 to 0.29373, saving model to models/best_nn_w2v_emb_nontext_v2.h5\n",
      "0.9855486087144956\n",
      "Epoch 7/20\n",
      "622985/622985 [==============================] - 27s 44us/step - loss: 0.0409 - acc: 0.9880 - fbeta: 0.6988 - val_loss: 0.1662 - val_acc: 0.9694 - val_fbeta: 0.2806\n",
      "\n",
      "Epoch 00007: val_fbeta did not improve from 0.29373\n",
      "0.9880253938698363\n",
      "Epoch 8/20\n",
      "622985/622985 [==============================] - 27s 44us/step - loss: 0.0328 - acc: 0.9900 - fbeta: 0.7553 - val_loss: 0.1938 - val_acc: 0.9696 - val_fbeta: 0.2771\n",
      "\n",
      "Epoch 00008: val_fbeta did not improve from 0.29373\n",
      "0.9899965488735684\n",
      "Epoch 9/20\n",
      "622985/622985 [==============================] - 28s 44us/step - loss: 0.0278 - acc: 0.9915 - fbeta: 0.7992 - val_loss: 0.2159 - val_acc: 0.9708 - val_fbeta: 0.2561\n",
      "\n",
      "Epoch 00009: val_fbeta did not improve from 0.29373\n",
      "0.9915391221297463\n",
      "Epoch 10/20\n",
      "622985/622985 [==============================] - 28s 44us/step - loss: 0.0236 - acc: 0.9926 - fbeta: 0.8281 - val_loss: 0.2247 - val_acc: 0.9675 - val_fbeta: 0.2739\n",
      "\n",
      "Epoch 00010: val_fbeta did not improve from 0.29373\n",
      "0.9926194049615962\n",
      "Epoch 11/20\n",
      "622985/622985 [==============================] - 28s 44us/step - loss: 0.0209 - acc: 0.9934 - fbeta: 0.8452 - val_loss: 0.2428 - val_acc: 0.9673 - val_fbeta: 0.2768\n",
      "\n",
      "Epoch 00011: val_fbeta did not improve from 0.29373\n",
      "0.9933850734768895\n",
      "Epoch 00011: early stopping\n",
      "Accuracy: 0.971717\n",
      "Precision: 0.594319\n",
      "Recall: 0.277226\n",
      "F1 score: 0.378088\n",
      "[0.98552943 0.37808838]\n",
      "0.9653808382085716\n",
      "0.9717169512093331\n",
      "0.9666915716192929\n"
     ]
    },
    {
     "data": {
      "image/png": "[encoded data removed]",
      "text/plain": [
       "<Figure size 576x432 with 2 Axes>"
      ]
     },
     "metadata": {
      "needs_background": "light"
     },
     "output_type": "display_data"
    }
   ],
   "source": [
    "input_1 = Input(shape=(maxlen,))\n",
    "input_2 = Input(shape=(8,))\n",
    "embedding_layer = Embedding(size_of_vocabulary, 300, weights=[w2v_embedding_matrix], trainable=False)(input_1)\n",
    "flatten = Flatten()(embedding_layer)\n",
    "concat_layer = Concatenate()([flatten,input_2])\n",
    "dense_layer = Dense(128, activation='relu')(concat_layer)\n",
    "dense_layer2 = Dense(64, activation='relu')(dense_layer)\n",
    "output = Dense(1, activation='sigmoid')(dense_layer2)\n",
    "model = Model(inputs=[input_1, input_2], outputs=output)\n",
    "\n",
    "model.compile(loss='binary_crossentropy', optimizer='adam', metrics=['accuracy',fbeta])\n",
    "print(model.summary())\n",
    "es = EarlyStopping(monitor='val_fbeta', mode='max', verbose=1,patience=5)  \n",
    "checkpoints = SaveEveryEpoch('models/best_nn_w2v_emb_nontext_v2.h5')\n",
    "mc = ModelCheckpoint('models/best_nn_w2v_emb_nontext_v2.h5', monitor='val_fbeta', mode='max', save_best_only=True,verbose=1)  \n",
    "\n",
    "\n",
    "history = model.fit(x=[X1_train, X2_train_s], y=y_train, validation_data=([X1_test,X2_test_s],y_test), nb_epoch=20, batch_size=128, verbose=1,callbacks=[es,mc,checkpoints])\n",
    "\n",
    "\n",
    "model = load_model('models/best_nn_w2v_emb_nontext_v2.h5',custom_objects = {'fbeta':fbeta})\n",
    "\n",
    "# predict probabilities for test set\n",
    "yhat_probs = model.predict(x=[X1_test,X2_test_s], verbose=0)\n",
    "# predict crisp classes for test set\n",
    "# yhat_classes = model.predict_classes(x=[X1_test,X2_test], verbose=0)\n",
    "# max_idx = np.argmax(yhat_probs,axis=1)\n",
    "\n",
    "# reduce to 1d array\n",
    "yhat_probs = yhat_probs[:, 0]\n",
    "yhat_probs[yhat_probs>0.5] = 1\n",
    "yhat_probs[yhat_probs<0.5] = 0\n",
    " \n",
    "# accuracy: (tp + tn) / (p + n)\n",
    "accuracy = accuracy_score(y_test, yhat_probs)\n",
    "print('Accuracy: %f' % accuracy)\n",
    "\n",
    "# precision tp / (tp + fp)\n",
    "precision = precision_score(y_test, yhat_probs)\n",
    "print('Precision: %f' % precision)\n",
    "\n",
    "# recall: tp / (tp + fn)\n",
    "recall = recall_score(y_test, yhat_probs)\n",
    "\n",
    "print('Recall: %f' % recall)\n",
    "# f1: 2 tp / (2 tp + fp + fn)\n",
    "f1 = f1_score(y_test, yhat_probs)\n",
    "print('F1 score: %f' % f1)\n",
    "\n",
    "\n",
    "f1_both = f1_score(y_test,yhat_probs,average=None)\n",
    "print(f1_both)\n",
    "\n",
    "precision_w = precision_score(y_test,yhat_probs,average='weighted')\n",
    "print(precision_w)\n",
    "\n",
    "recall_w = recall_score(y_test,yhat_probs,average='weighted')\n",
    "print(recall_w)\n",
    "\n",
    "f1_w = f1_score(y_test,yhat_probs,average='weighted')\n",
    "print(f1_w)\n",
    "\n",
    "plot_confusion_matrix(y_test,yhat_probs)"
   ]
  },
  {
   "cell_type": "code",
   "execution_count": null,
   "metadata": {},
   "outputs": [],
   "source": []
  },
  {
   "cell_type": "markdown",
   "metadata": {},
   "source": [
    "#### CNN: Non-text features + Pretrained w2v embeddings\n"
   ]
  },
  {
   "cell_type": "code",
   "execution_count": 96,
   "metadata": {},
   "outputs": [
    {
     "name": "stdout",
     "output_type": "stream",
     "text": [
      "__________________________________________________________________________________________________\n",
      "Layer (type)                    Output Shape         Param #     Connected to                     \n",
      "==================================================================================================\n",
      "input_17 (InputLayer)           (None, 200)          0                                            \n",
      "__________________________________________________________________________________________________\n",
      "embedding_18 (Embedding)        (None, 200, 300)     39382500    input_17[0][0]                   \n",
      "__________________________________________________________________________________________________\n",
      "conv1d_9 (Conv1D)               (None, 196, 128)     192128      embedding_18[0][0]               \n",
      "__________________________________________________________________________________________________\n",
      "global_max_pooling1d_9 (GlobalM (None, 128)          0           conv1d_9[0][0]                   \n",
      "__________________________________________________________________________________________________\n",
      "input_18 (InputLayer)           (None, 8)            0                                            \n",
      "__________________________________________________________________________________________________\n",
      "concatenate_9 (Concatenate)     (None, 136)          0           global_max_pooling1d_9[0][0]     \n",
      "                                                                 input_18[0][0]                   \n",
      "__________________________________________________________________________________________________\n",
      "dense_39 (Dense)                (None, 128)          17536       concatenate_9[0][0]              \n",
      "__________________________________________________________________________________________________\n",
      "dense_40 (Dense)                (None, 64)           8256        dense_39[0][0]                   \n",
      "__________________________________________________________________________________________________\n",
      "dense_41 (Dense)                (None, 1)            65          dense_40[0][0]                   \n",
      "==================================================================================================\n",
      "Total params: 39,600,485\n",
      "Trainable params: 217,985\n",
      "Non-trainable params: 39,382,500\n",
      "__________________________________________________________________________________________________\n",
      "None\n",
      "Train on 622985 samples, validate on 155747 samples\n",
      "Epoch 1/20\n",
      "622985/622985 [==============================] - 34s 55us/step - loss: 0.0974 - acc: 0.9751 - fbeta: 0.3013 - val_loss: 0.0899 - val_acc: 0.9761 - val_fbeta: 0.3504\n",
      "\n",
      "Epoch 00001: val_fbeta improved from -inf to 0.35039, saving model to models/best_cnn_w2v_emb_nontext_v2.h5\n",
      "0.9750924982143384\n",
      "Epoch 2/20\n",
      "622985/622985 [==============================] - 31s 49us/step - loss: 0.0862 - acc: 0.9768 - fbeta: 0.3686 - val_loss: 0.0879 - val_acc: 0.9763 - val_fbeta: 0.3512\n",
      "\n",
      "Epoch 00002: val_fbeta improved from 0.35039 to 0.35118, saving model to models/best_cnn_w2v_emb_nontext_v2.h5\n",
      "0.976797194154048\n",
      "Epoch 3/20\n",
      "622985/622985 [==============================] - 31s 49us/step - loss: 0.0793 - acc: 0.9778 - fbeta: 0.4110 - val_loss: 0.0898 - val_acc: 0.9764 - val_fbeta: 0.3587\n",
      "\n",
      "Epoch 00003: val_fbeta improved from 0.35118 to 0.35865, saving model to models/best_cnn_w2v_emb_nontext_v2.h5\n",
      "0.9777602992047314\n",
      "Epoch 4/20\n",
      "622985/622985 [==============================] - 31s 49us/step - loss: 0.0720 - acc: 0.9790 - fbeta: 0.4617 - val_loss: 0.0907 - val_acc: 0.9754 - val_fbeta: 0.3878\n",
      "\n",
      "Epoch 00004: val_fbeta improved from 0.35865 to 0.38778, saving model to models/best_cnn_w2v_emb_nontext_v2.h5\n",
      "0.9789898633193416\n",
      "Epoch 5/20\n",
      "622985/622985 [==============================] - 31s 49us/step - loss: 0.0646 - acc: 0.9805 - fbeta: 0.5146 - val_loss: 0.0962 - val_acc: 0.9735 - val_fbeta: 0.4015\n",
      "\n",
      "Epoch 00005: val_fbeta improved from 0.38778 to 0.40148, saving model to models/best_cnn_w2v_emb_nontext_v2.h5\n",
      "0.9804585985216338\n",
      "Epoch 6/20\n",
      "622985/622985 [==============================] - 31s 49us/step - loss: 0.0579 - acc: 0.9821 - fbeta: 0.5679 - val_loss: 0.1039 - val_acc: 0.9735 - val_fbeta: 0.3886\n",
      "\n",
      "Epoch 00006: val_fbeta did not improve from 0.40148\n",
      "0.9820637736061061\n",
      "Epoch 7/20\n",
      "622985/622985 [==============================] - 31s 49us/step - loss: 0.0522 - acc: 0.9838 - fbeta: 0.6153 - val_loss: 0.1111 - val_acc: 0.9729 - val_fbeta: 0.3864\n",
      "\n",
      "Epoch 00007: val_fbeta did not improve from 0.40148\n",
      "0.9837925471720828\n",
      "Epoch 8/20\n",
      "622985/622985 [==============================] - 31s 49us/step - loss: 0.0471 - acc: 0.9852 - fbeta: 0.6509 - val_loss: 0.1186 - val_acc: 0.9742 - val_fbeta: 0.3674\n",
      "\n",
      "Epoch 00008: val_fbeta did not improve from 0.40148\n",
      "0.9851762080949936\n",
      "Epoch 9/20\n",
      "622985/622985 [==============================] - 31s 49us/step - loss: 0.0431 - acc: 0.9863 - fbeta: 0.6778 - val_loss: 0.1270 - val_acc: 0.9742 - val_fbeta: 0.3474\n",
      "\n",
      "Epoch 00009: val_fbeta did not improve from 0.40148\n",
      "0.9862821737280993\n",
      "Epoch 10/20\n",
      "622985/622985 [==============================] - 31s 49us/step - loss: 0.0395 - acc: 0.9874 - fbeta: 0.7059 - val_loss: 0.1379 - val_acc: 0.9726 - val_fbeta: 0.3716\n",
      "\n",
      "Epoch 00010: val_fbeta did not improve from 0.40148\n",
      "0.9873576410346958\n",
      "Epoch 00010: early stopping\n",
      "Accuracy: 0.973540\n",
      "Precision: 0.611583\n",
      "Recall: 0.402277\n",
      "F1 score: 0.485325\n",
      "[0.98642116 0.48532534]\n",
      "0.9696188430551742\n",
      "0.9735404213243273\n",
      "0.9708812644942546\n"
     ]
    },
    {
     "data": {
      "image/png": "[encoded data removed]",
      "text/plain": [
       "<Figure size 576x432 with 2 Axes>"
      ]
     },
     "metadata": {
      "needs_background": "light"
     },
     "output_type": "display_data"
    }
   ],
   "source": [
    "input_1 = Input(shape=(maxlen,))\n",
    "input_2 = Input(shape=(8,))\n",
    "embedding_layer = Embedding(size_of_vocabulary, 300, weights=[w2v_embedding_matrix], trainable=False)(input_1)\n",
    "Conv_1 = Conv1D(128, 5, activation='relu')(embedding_layer)\n",
    "Conv_2 = GlobalMaxPooling1D()(Conv_1)\n",
    "concat_layer = Concatenate()([Conv_2, input_2])\n",
    "# dense_layer_1 = Dense(10, activation='relu')(input_2)\n",
    "# dense_layer_2 = Dense(10, activation='relu')(dense_layer_1)\n",
    "# concat_layer = Concatenate()([Conv_2, dense_layer_2])\n",
    "dense_layer = Dense(128, activation='relu')(concat_layer)\n",
    "dense_layer2 = Dense(64, activation='relu')(dense_layer)\n",
    "output = Dense(1, activation='sigmoid')(dense_layer2)\n",
    "model = Model(inputs=[input_1, input_2], outputs=output)\n",
    "\n",
    "model.compile(loss='binary_crossentropy', optimizer='adam', metrics=['accuracy',fbeta])\n",
    "print(model.summary())\n",
    "es = EarlyStopping(monitor='val_fbeta', mode='max', verbose=1,patience=5)  \n",
    "checkpoints = SaveEveryEpoch('models/best_cnn_w2v_emb_nontext_v2.h5')\n",
    "mc = ModelCheckpoint('models/best_cnn_w2v_emb_nontext_v2.h5', monitor='val_fbeta', mode='max', save_best_only=True,verbose=1)  \n",
    "\n",
    "\n",
    "history = model.fit(x=[X1_train, X2_train_s], y=y_train, validation_data=([X1_test,X2_test_s],y_test), nb_epoch=20, batch_size=128, verbose=1,callbacks=[es,mc,checkpoints])\n",
    "\n",
    "\n",
    "model = load_model('models/best_cnn_w2v_emb_nontext_v2.h5',custom_objects = {'fbeta':fbeta})\n",
    "\n",
    "# predict probabilities for test set\n",
    "yhat_probs = model.predict(x=[X1_test,X2_test_s], verbose=0)\n",
    "# predict crisp classes for test set\n",
    "# yhat_classes = model.predict_classes(x=[X1_test,X2_test], verbose=0)\n",
    "# max_idx = np.argmax(yhat_probs,axis=1)\n",
    "\n",
    "# reduce to 1d array\n",
    "yhat_probs = yhat_probs[:, 0]\n",
    "yhat_probs[yhat_probs>0.5] = 1\n",
    "yhat_probs[yhat_probs<0.5] = 0\n",
    " \n",
    "# accuracy: (tp + tn) / (p + n)\n",
    "accuracy = accuracy_score(y_test, yhat_probs)\n",
    "print('Accuracy: %f' % accuracy)\n",
    "\n",
    "# precision tp / (tp + fp)\n",
    "precision = precision_score(y_test, yhat_probs)\n",
    "print('Precision: %f' % precision)\n",
    "\n",
    "# recall: tp / (tp + fn)\n",
    "recall = recall_score(y_test, yhat_probs)\n",
    "\n",
    "print('Recall: %f' % recall)\n",
    "# f1: 2 tp / (2 tp + fp + fn)\n",
    "f1 = f1_score(y_test, yhat_probs)\n",
    "print('F1 score: %f' % f1)\n",
    "\n",
    "\n",
    "f1_both = f1_score(y_test,yhat_probs,average=None)\n",
    "print(f1_both)\n",
    "\n",
    "precision_w = precision_score(y_test,yhat_probs,average='weighted')\n",
    "print(precision_w)\n",
    "\n",
    "recall_w = recall_score(y_test,yhat_probs,average='weighted')\n",
    "print(recall_w)\n",
    "\n",
    "f1_w = f1_score(y_test,yhat_probs,average='weighted')\n",
    "print(f1_w)\n",
    "\n",
    "plot_confusion_matrix(y_test,yhat_probs)"
   ]
  },
  {
   "cell_type": "code",
   "execution_count": 53,
   "metadata": {},
   "outputs": [
    {
     "name": "stdout",
     "output_type": "stream",
     "text": [
      "Accuracy: 0.973540\n",
      "Precision: 0.611583\n",
      "Recall: 0.402277\n",
      "F1 score: 0.485325\n",
      "[0.98642116 0.48532534]\n",
      "0.9696188430551742\n",
      "0.9735404213243273\n",
      "0.9708812644942546\n"
     ]
    },
    {
     "data": {
      "image/png": "[encoded data removed]",
      "text/plain": [
       "<Figure size 576x432 with 2 Axes>"
      ]
     },
     "metadata": {
      "needs_background": "light"
     },
     "output_type": "display_data"
    }
   ],
   "source": [
    "model = load_model('models/best_cnn_w2v_emb_nontext_v2.h5',custom_objects = {'fbeta':fbeta})\n",
    "\n",
    "# predict probabilities for test set\n",
    "yhat_probs = model.predict(x=[X1_test,X2_test_s], verbose=0)\n",
    "# predict crisp classes for test set\n",
    "# yhat_classes = model.predict_classes(x=[X1_test,X2_test], verbose=0)\n",
    "# max_idx = np.argmax(yhat_probs,axis=1)\n",
    "\n",
    "# reduce to 1d array\n",
    "yhat_probs = yhat_probs[:, 0]\n",
    "yhat_probs[yhat_probs>0.5] = 1\n",
    "yhat_probs[yhat_probs<0.5] = 0\n",
    " \n",
    "# accuracy: (tp + tn) / (p + n)\n",
    "accuracy = accuracy_score(y_test, yhat_probs)\n",
    "print('Accuracy: %f' % accuracy)\n",
    "\n",
    "# precision tp / (tp + fp)\n",
    "precision = precision_score(y_test, yhat_probs)\n",
    "print('Precision: %f' % precision)\n",
    "\n",
    "# recall: tp / (tp + fn)\n",
    "recall = recall_score(y_test, yhat_probs)\n",
    "\n",
    "print('Recall: %f' % recall)\n",
    "# f1: 2 tp / (2 tp + fp + fn)\n",
    "f1 = f1_score(y_test, yhat_probs)\n",
    "print('F1 score: %f' % f1)\n",
    "\n",
    "\n",
    "f1_both = f1_score(y_test,yhat_probs,average=None)\n",
    "print(f1_both)\n",
    "\n",
    "precision_w = precision_score(y_test,yhat_probs,average='weighted')\n",
    "print(precision_w)\n",
    "\n",
    "recall_w = recall_score(y_test,yhat_probs,average='weighted')\n",
    "print(recall_w)\n",
    "\n",
    "f1_w = f1_score(y_test,yhat_probs,average='weighted')\n",
    "print(f1_w)\n",
    "\n",
    "plot_confusion_matrix(y_test,yhat_probs)"
   ]
  },
  {
   "cell_type": "markdown",
   "metadata": {},
   "source": [
    "## Summary"
   ]
  },
  {
   "cell_type": "markdown",
   "metadata": {},
   "source": [
    "For just text features, my best model is a CNN using a pretrained embedding layer, with a weighted F1 is 0.961. F1 for the positive class is 0.244. For text and non-text features, my best model is also a CNN using a pretrained embedding layer, where weighted F1 is 0.971, and F1 for the positive class is 0.485. These models outperform my \"best\" tf-idf model (logistic regression using unigrams, where weighted F1 is 0.971, and F1 for the positive class is 0.444."
   ]
  },
  {
   "cell_type": "code",
   "execution_count": null,
   "metadata": {},
   "outputs": [],
   "source": []
  }
 ],
 "metadata": {
  "kernelspec": {
   "display_name": "Environment (conda_tensorflow_p37)",
   "language": "python",
   "name": "conda_tensorflow_p37"
  },
  "language_info": {
   "codemirror_mode": {
    "name": "ipython",
    "version": 3
   },
   "file_extension": ".py",
   "mimetype": "text/x-python",
   "name": "python",
   "nbconvert_exporter": "python",
   "pygments_lexer": "ipython3",
   "version": "3.7.6"
  }
 },
 "nbformat": 4,
 "nbformat_minor": 4
}
