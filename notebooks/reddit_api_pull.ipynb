{
 "cells": [
  {
   "cell_type": "code",
   "execution_count": 1,
   "metadata": {},
   "outputs": [],
   "source": [
    "import numpy as np\n",
    "import pandas as pd\n",
    "import random\n",
    "import json\n",
    "import urllib\n",
    "from urllib.request import urlopen\n",
    "import requests\n",
    "from requests.exceptions import HTTPError\n",
    "import warnings\n",
    "warnings.filterwarnings('ignore')"
   ]
  },
  {
   "cell_type": "code",
   "execution_count": 2,
   "metadata": {},
   "outputs": [],
   "source": [
    "# Load all Jan 2019 /r/worldnews comments, retrieved from Google BigQuery\n",
    "comments = pd.read_csv(\"data/reddit_wnews_01-2019.csv\")"
   ]
  },
  {
   "cell_type": "code",
   "execution_count": 3,
   "metadata": {},
   "outputs": [],
   "source": [
    "# Separate removed comments\n",
    "#'[deleted]' comments are user-deleted and '[removed]' comments are moderator-deleted\n",
    "\n",
    "not_removed_comments = comments[(comments['body']!='[removed]') & (comments['body']!='[deleted]')]\n",
    "removed_comments = comments[comments['body']=='[removed]']"
   ]
  },
  {
   "cell_type": "code",
   "execution_count": 4,
   "metadata": {},
   "outputs": [],
   "source": [
    "# Get text for removed comments from Reddit API\n",
    "url = \"https://api.pushshift.io/reddit/search/comment?ids=\"\n",
    "\n",
    "# Create id list and dictionary\n",
    "def comment_ids_fields(var_list,df):\n",
    "    d = dict()\n",
    "    id_list = list()\n",
    "    \n",
    "    for var in var_list:\n",
    "        d[var] = list() \n",
    "        \n",
    "    for i in range(3):\n",
    "        id_subset = df.iloc[i]['id']\n",
    "        id_list.append(id_subset) \n",
    "        \n",
    "    return d,id_list\n",
    " \n",
    "    \n",
    "var_list = ['id','body','author']\n",
    "d,id_list = comment_ids_fields(var_list,removed_comments)\n",
    "\n",
    "\n",
    "# Append field values to dictionary\n",
    "def extract_fields_from_response(item, var_list):\n",
    "    for var in var_list:\n",
    "        var_ = item.get(var, None)\n",
    "        d[var].append(var_)\n",
    "    return d\n",
    "\n",
    "\n",
    "# Request data from API\n",
    "def get_fields(id_no, session):\n",
    "    \"\"\"Get missing field details using Reddit API (sequentially)\"\"\"\n",
    "    url_ = url + id_no\n",
    "    response = None\n",
    "    try:\n",
    "        response = session.get(url_)\n",
    "        response.raise_for_status()\n",
    "        #print(f\"Response status ({url_}): {response.status_code}\")\n",
    "    except HTTPError as http_err:\n",
    "        print(f\"HTTP error occurred: {http_err}\")\n",
    "    except Exception as err:\n",
    "        print(f\"An error ocurred: {err}\")\n",
    "    response_json = response.json()\n",
    "    items = response_json.get(\"data\", [{}])[0]\n",
    "    return items\n",
    "\n",
    "\n",
    "with requests.Session() as session:\n",
    "    for id_no in id_list:\n",
    "        try:\n",
    "            response = get_fields(id_no, session)\n",
    "            parsed_response = extract_fields_from_response(response, var_list)\n",
    "            #print(f\"Response: {json.dumps(parsed_response, indent=2)}\")\n",
    "        except Exception as err:\n",
    "            #print(f\"Exception occured: {err}\")\n",
    "            pass"
   ]
  },
  {
   "cell_type": "code",
   "execution_count": 5,
   "metadata": {},
   "outputs": [],
   "source": [
    "# Create dataframe\n",
    "removed_df = pd.DataFrame(d)\n",
    "removed_df['Removed'] = 1"
   ]
  },
  {
   "cell_type": "code",
   "execution_count": 6,
   "metadata": {},
   "outputs": [],
   "source": [
    "removed_df.to_csv(r'data/wnews_removed_comments.csv')"
   ]
  },
  {
   "cell_type": "code",
   "execution_count": null,
   "metadata": {},
   "outputs": [],
   "source": []
  }
 ],
 "metadata": {
  "kernelspec": {
   "display_name": "Python 3",
   "language": "python",
   "name": "python3"
  },
  "language_info": {
   "codemirror_mode": {
    "name": "ipython",
    "version": 3
   },
   "file_extension": ".py",
   "mimetype": "text/x-python",
   "name": "python",
   "nbconvert_exporter": "python",
   "pygments_lexer": "ipython3",
   "version": "3.8.3"
  }
 },
 "nbformat": 4,
 "nbformat_minor": 4
}
