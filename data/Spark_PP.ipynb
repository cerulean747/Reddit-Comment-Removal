{
 "cells": [
  {
   "cell_type": "code",
   "execution_count": 1,
   "metadata": {},
   "outputs": [],
   "source": [
    "import pyspark as ps"
   ]
  },
  {
   "cell_type": "code",
   "execution_count": 2,
   "metadata": {},
   "outputs": [],
   "source": [
    "spark = (ps.sql.SparkSession.builder \n",
    "        .master(\"local[4]\") \n",
    "        .appName(\"sparkSQL exercise\") \n",
    "        .getOrCreate()\n",
    "        )"
   ]
  },
  {
   "cell_type": "code",
   "execution_count": 3,
   "metadata": {},
   "outputs": [],
   "source": [
    "sc = spark.sparkContext"
   ]
  },
  {
   "cell_type": "code",
   "execution_count": 4,
   "metadata": {},
   "outputs": [
    {
     "name": "stdout",
     "output_type": "stream",
     "text": [
      "transactions.txt  users.txt\n",
      "Untitled.ipynb    yelp_academic_dataset_business.json.gz\n"
     ]
    }
   ],
   "source": [
    "ls"
   ]
  },
  {
   "cell_type": "code",
   "execution_count": 8,
   "metadata": {},
   "outputs": [],
   "source": [
    "df =spark.read.json('yelp_academic_dataset_business.json.gz')"
   ]
  },
  {
   "cell_type": "code",
   "execution_count": 9,
   "metadata": {},
   "outputs": [
    {
     "name": "stdout",
     "output_type": "stream",
     "text": [
      "+--------------------+--------------------+--------------------+-----------+--------------------+--------------------+----------+-----------+--------------------+-------------+-----+------------+-----+-----+--------+\n",
      "|          attributes|         business_id|          categories|       city|        full_address|               hours|  latitude|  longitude|                name|neighborhoods| open|review_count|stars|state|    type|\n",
      "+--------------------+--------------------+--------------------+-----------+--------------------+--------------------+----------+-----------+--------------------+-------------+-----+------------+-----+-----+--------+\n",
      "|[,,,,,,,, true,,,...|vcNAWiLM4dR7D2nww...|[Doctors, Health ...|    Phoenix|4840 E Indian Sch...|[[17:00, 08:00], ...| 33.499313|-111.983758|   Eric Goldberg, MD|           []| true|           9|  3.5|   AZ|business|\n",
      "|[true,,,,,,,,,,,,...|UsFtqoBl7naz8AVUB...|         [Nightlife]| Dravosburg|202 McClure St\n",
      "Dr...|            [,,,,,,]| 40.350519|  -79.88693|        Clancy's Pub|           []| true|           4|  3.5|   PA|business|\n",
      "|[,,,,,,,,,,,,,,,,...|cE27W9VPgO88Qxe4o...|[Active Life, Min...|Bethel Park|1530 Hamilton Rd\n",
      "...|            [,,,,,,]|40.3568962|  -80.01591|Cool Springs Golf...|           []|false|           5|  2.5|   PA|business|\n",
      "|[,,,,,,,,,,,,,,,,...|HZdLhv6COCleJMo7n...|[Shopping, Home S...| Pittsburgh|301 S Hills Vlg\n",
      "P...|[[21:00, 10:00], ...|  40.35762|  -80.05998|    Verizon Wireless|           []| true|           3|  3.5|   PA|business|\n",
      "|[true,,, full_bar...|mVHrayjG3uZ_RLHkL...|[Bars, American (...|   Braddock|414 Hawkins Ave\n",
      "B...|[[20:00, 10:00],,...| 40.408735|-79.8663507|       Emil's Lounge|           []| true|          11|  4.5|   PA|business|\n",
      "+--------------------+--------------------+--------------------+-----------+--------------------+--------------------+----------+-----------+--------------------+-------------+-----+------------+-----+-----+--------+\n",
      "only showing top 5 rows\n",
      "\n"
     ]
    }
   ],
   "source": [
    "df.show(5)"
   ]
  },
  {
   "cell_type": "code",
   "execution_count": 10,
   "metadata": {},
   "outputs": [
    {
     "name": "stdout",
     "output_type": "stream",
     "text": [
      "root\n",
      " |-- attributes: struct (nullable = true)\n",
      " |    |-- Accepts Credit Cards: string (nullable = true)\n",
      " |    |-- Accepts Insurance: boolean (nullable = true)\n",
      " |    |-- Ages Allowed: string (nullable = true)\n",
      " |    |-- Alcohol: string (nullable = true)\n",
      " |    |-- Ambience: struct (nullable = true)\n",
      " |    |    |-- casual: boolean (nullable = true)\n",
      " |    |    |-- classy: boolean (nullable = true)\n",
      " |    |    |-- divey: boolean (nullable = true)\n",
      " |    |    |-- hipster: boolean (nullable = true)\n",
      " |    |    |-- intimate: boolean (nullable = true)\n",
      " |    |    |-- romantic: boolean (nullable = true)\n",
      " |    |    |-- touristy: boolean (nullable = true)\n",
      " |    |    |-- trendy: boolean (nullable = true)\n",
      " |    |    |-- upscale: boolean (nullable = true)\n",
      " |    |-- Attire: string (nullable = true)\n",
      " |    |-- BYOB: boolean (nullable = true)\n",
      " |    |-- BYOB/Corkage: string (nullable = true)\n",
      " |    |-- By Appointment Only: boolean (nullable = true)\n",
      " |    |-- Caters: boolean (nullable = true)\n",
      " |    |-- Coat Check: boolean (nullable = true)\n",
      " |    |-- Corkage: boolean (nullable = true)\n",
      " |    |-- Delivery: boolean (nullable = true)\n",
      " |    |-- Dietary Restrictions: struct (nullable = true)\n",
      " |    |    |-- dairy-free: boolean (nullable = true)\n",
      " |    |    |-- gluten-free: boolean (nullable = true)\n",
      " |    |    |-- halal: boolean (nullable = true)\n",
      " |    |    |-- kosher: boolean (nullable = true)\n",
      " |    |    |-- soy-free: boolean (nullable = true)\n",
      " |    |    |-- vegan: boolean (nullable = true)\n",
      " |    |    |-- vegetarian: boolean (nullable = true)\n",
      " |    |-- Dogs Allowed: boolean (nullable = true)\n",
      " |    |-- Drive-Thru: boolean (nullable = true)\n",
      " |    |-- Good For: struct (nullable = true)\n",
      " |    |    |-- breakfast: boolean (nullable = true)\n",
      " |    |    |-- brunch: boolean (nullable = true)\n",
      " |    |    |-- dessert: boolean (nullable = true)\n",
      " |    |    |-- dinner: boolean (nullable = true)\n",
      " |    |    |-- latenight: boolean (nullable = true)\n",
      " |    |    |-- lunch: boolean (nullable = true)\n",
      " |    |-- Good For Dancing: boolean (nullable = true)\n",
      " |    |-- Good For Groups: boolean (nullable = true)\n",
      " |    |-- Good For Kids: boolean (nullable = true)\n",
      " |    |-- Good for Kids: boolean (nullable = true)\n",
      " |    |-- Hair Types Specialized In: struct (nullable = true)\n",
      " |    |    |-- africanamerican: boolean (nullable = true)\n",
      " |    |    |-- asian: boolean (nullable = true)\n",
      " |    |    |-- coloring: boolean (nullable = true)\n",
      " |    |    |-- curly: boolean (nullable = true)\n",
      " |    |    |-- extensions: boolean (nullable = true)\n",
      " |    |    |-- kids: boolean (nullable = true)\n",
      " |    |    |-- perms: boolean (nullable = true)\n",
      " |    |    |-- straightperms: boolean (nullable = true)\n",
      " |    |-- Happy Hour: boolean (nullable = true)\n",
      " |    |-- Has TV: boolean (nullable = true)\n",
      " |    |-- Music: struct (nullable = true)\n",
      " |    |    |-- background_music: boolean (nullable = true)\n",
      " |    |    |-- dj: boolean (nullable = true)\n",
      " |    |    |-- jukebox: boolean (nullable = true)\n",
      " |    |    |-- karaoke: boolean (nullable = true)\n",
      " |    |    |-- live: boolean (nullable = true)\n",
      " |    |    |-- playlist: boolean (nullable = true)\n",
      " |    |    |-- video: boolean (nullable = true)\n",
      " |    |-- Noise Level: string (nullable = true)\n",
      " |    |-- Open 24 Hours: boolean (nullable = true)\n",
      " |    |-- Order at Counter: boolean (nullable = true)\n",
      " |    |-- Outdoor Seating: boolean (nullable = true)\n",
      " |    |-- Parking: struct (nullable = true)\n",
      " |    |    |-- garage: boolean (nullable = true)\n",
      " |    |    |-- lot: boolean (nullable = true)\n",
      " |    |    |-- street: boolean (nullable = true)\n",
      " |    |    |-- valet: boolean (nullable = true)\n",
      " |    |    |-- validated: boolean (nullable = true)\n",
      " |    |-- Payment Types: struct (nullable = true)\n",
      " |    |    |-- amex: boolean (nullable = true)\n",
      " |    |    |-- cash_only: boolean (nullable = true)\n",
      " |    |    |-- discover: boolean (nullable = true)\n",
      " |    |    |-- mastercard: boolean (nullable = true)\n",
      " |    |    |-- visa: boolean (nullable = true)\n",
      " |    |-- Price Range: long (nullable = true)\n",
      " |    |-- Smoking: string (nullable = true)\n",
      " |    |-- Take-out: boolean (nullable = true)\n",
      " |    |-- Takes Reservations: boolean (nullable = true)\n",
      " |    |-- Waiter Service: boolean (nullable = true)\n",
      " |    |-- Wheelchair Accessible: boolean (nullable = true)\n",
      " |    |-- Wi-Fi: string (nullable = true)\n",
      " |-- business_id: string (nullable = true)\n",
      " |-- categories: array (nullable = true)\n",
      " |    |-- element: string (containsNull = true)\n",
      " |-- city: string (nullable = true)\n",
      " |-- full_address: string (nullable = true)\n",
      " |-- hours: struct (nullable = true)\n",
      " |    |-- Friday: struct (nullable = true)\n",
      " |    |    |-- close: string (nullable = true)\n",
      " |    |    |-- open: string (nullable = true)\n",
      " |    |-- Monday: struct (nullable = true)\n",
      " |    |    |-- close: string (nullable = true)\n",
      " |    |    |-- open: string (nullable = true)\n",
      " |    |-- Saturday: struct (nullable = true)\n",
      " |    |    |-- close: string (nullable = true)\n",
      " |    |    |-- open: string (nullable = true)\n",
      " |    |-- Sunday: struct (nullable = true)\n",
      " |    |    |-- close: string (nullable = true)\n",
      " |    |    |-- open: string (nullable = true)\n",
      " |    |-- Thursday: struct (nullable = true)\n",
      " |    |    |-- close: string (nullable = true)\n",
      " |    |    |-- open: string (nullable = true)\n",
      " |    |-- Tuesday: struct (nullable = true)\n",
      " |    |    |-- close: string (nullable = true)\n",
      " |    |    |-- open: string (nullable = true)\n",
      " |    |-- Wednesday: struct (nullable = true)\n",
      " |    |    |-- close: string (nullable = true)\n",
      " |    |    |-- open: string (nullable = true)\n",
      " |-- latitude: double (nullable = true)\n",
      " |-- longitude: double (nullable = true)\n",
      " |-- name: string (nullable = true)\n",
      " |-- neighborhoods: array (nullable = true)\n",
      " |    |-- element: string (containsNull = true)\n",
      " |-- open: boolean (nullable = true)\n",
      " |-- review_count: long (nullable = true)\n",
      " |-- stars: double (nullable = true)\n",
      " |-- state: string (nullable = true)\n",
      " |-- type: string (nullable = true)\n",
      "\n"
     ]
    }
   ],
   "source": [
    "df.printSchema()"
   ]
  },
  {
   "cell_type": "code",
   "execution_count": 11,
   "metadata": {},
   "outputs": [],
   "source": [
    "df.createOrReplaceTempView('yelp_business')"
   ]
  },
  {
   "cell_type": "code",
   "execution_count": 12,
   "metadata": {},
   "outputs": [
    {
     "name": "stdout",
     "output_type": "stream",
     "text": [
      "+--------------------+--------------------+--------------------+-----------+--------------------+--------------------+----------+-----------+--------------------+-------------+-----+------------+-----+-----+--------+\n",
      "|          attributes|         business_id|          categories|       city|        full_address|               hours|  latitude|  longitude|                name|neighborhoods| open|review_count|stars|state|    type|\n",
      "+--------------------+--------------------+--------------------+-----------+--------------------+--------------------+----------+-----------+--------------------+-------------+-----+------------+-----+-----+--------+\n",
      "|[,,,,,,,, true,,,...|vcNAWiLM4dR7D2nww...|[Doctors, Health ...|    Phoenix|4840 E Indian Sch...|[[17:00, 08:00], ...| 33.499313|-111.983758|   Eric Goldberg, MD|           []| true|           9|  3.5|   AZ|business|\n",
      "|[true,,,,,,,,,,,,...|UsFtqoBl7naz8AVUB...|         [Nightlife]| Dravosburg|202 McClure St\n",
      "Dr...|            [,,,,,,]| 40.350519|  -79.88693|        Clancy's Pub|           []| true|           4|  3.5|   PA|business|\n",
      "|[,,,,,,,,,,,,,,,,...|cE27W9VPgO88Qxe4o...|[Active Life, Min...|Bethel Park|1530 Hamilton Rd\n",
      "...|            [,,,,,,]|40.3568962|  -80.01591|Cool Springs Golf...|           []|false|           5|  2.5|   PA|business|\n",
      "|[,,,,,,,,,,,,,,,,...|HZdLhv6COCleJMo7n...|[Shopping, Home S...| Pittsburgh|301 S Hills Vlg\n",
      "P...|[[21:00, 10:00], ...|  40.35762|  -80.05998|    Verizon Wireless|           []| true|           3|  3.5|   PA|business|\n",
      "|[true,,, full_bar...|mVHrayjG3uZ_RLHkL...|[Bars, American (...|   Braddock|414 Hawkins Ave\n",
      "B...|[[20:00, 10:00],,...| 40.408735|-79.8663507|       Emil's Lounge|           []| true|          11|  4.5|   PA|business|\n",
      "|[true,,, full_bar...|KayYbHCt-RkbGcPdG...|[Bars, American (...|   Carnegie|141 Hawthorne St\n",
      "...|            [,,,,,,]| 40.415517| -80.067534|Alexion's Bar & G...|  [Greentree]| true|          15|  4.0|   PA|business|\n",
      "|[,,,,,,,,,,,,,,,,...|b12U9TFESStdy7CsT...|[Auto Repair, Aut...|   Carnegie|718 Hope Hollow R...|            [,,,,,,]| 40.394588|-80.0844539|Flynn's E W Tire ...|           []| true|           5|  1.5|   PA|business|\n",
      "|[,,,,,,,,,,,,,,,,...|Sktj1eHQFuVa-M4bg...|[Active Life, Min...|   Carnegie|920 Forsythe Rd\n",
      "C...|            [,,,,,,]|40.4054039|-80.0762665|Forsythe Miniatur...|   [Carnegie]| true|           4|  4.0|   PA|business|\n",
      "|[,,,,,,,,,,,,,,,,...|3ZVKmuK2l7uXPE6lX...|[Home Services, C...|   Carnegie|8 Logan St\n",
      "Carneg...|            [,,,,,,]| 40.406324| -80.090357|Quaker State Cons...|   [Carnegie]| true|           3|  2.5|   PA|business|\n",
      "|[true,,, none,, c...|wJr6kSA5dchdgOdwH...|[Burgers, Breakfa...|   Carnegie|2100 Washington P...|[[02:00, 08:00], ...|40.3877323|-80.0928745|Kings Family Rest...|           []| true|           8|  3.5|   PA|business|\n",
      "|[true,,,,,,,,,,,,...|yXuao0pFz1AxB21vJ...|     [Food, Grocery]|   Carnegie|2100 Washington P...|            [,,,,,,]|40.3877323|-80.0928745|         Shop N'save|           []| true|           3|  3.5|   PA|business|\n",
      "|[true,,, full_bar...|fNGIbpazjTRdXgwRY...|[Bars, American (...|   Carnegie|1201 Washington A...|            [,,,,,,]|40.3964688|-80.0849416|      Rocky's Lounge|           []| true|           5|  4.0|   PA|business|\n",
      "|[false,,, none, [...|b9WZJp5L1RZr4F1nx...|[Breakfast & Brun...|   Carnegie|1073 Washington A...|[[14:30, 06:00], ...|40.3967441|-80.0847998|           Gab & Eat|           []| true|          38|  4.5|   PA|business|\n",
      "|[true,,, none, [f...|zaXDakTd3RXyOa7sM...|[Cafes, Restaurants]|   Carnegie|202 3rd Ave\n",
      "Carne...|            [,,,,,,]| 40.404638| -80.089985|Barb's Country Ju...|   [Carnegie]| true|           5|  4.0|   PA|business|\n",
      "|[true,,,,,,,,,,,,...|zgy27FSnvwdINfk5c...|[Hotels & Travel,...|   Carnegie|520 North Bell Av...|[[00:00, 00:00], ...| 40.417419| -80.088557|Extended Stay Ame...|   [Carnegie]| true|           5|  4.0|   PA|business|\n",
      "|[true,,, full_bar...|WETE_LykpcnrC1sFc...|[Pubs, Irish, Nig...|   Carnegie|215 E Main St\n",
      "Car...|            [,,,,,,]|  40.40867| -80.085279|  Paddy's Pour House|   [Carnegie]|false|           6|  3.5|   PA|business|\n",
      "|[,,,,,,,,,,,,,,,,...|6o3RK6rTcN3nw-j-r...|                  []|   Carnegie|231 E Main St\n",
      "Car...|            [,,,,,,]|40.4085677|-80.0849924|Porto Fino Pizzar...|   [Carnegie]| true|           4|  2.5|   PA|business|\n",
      "|[false,,,,,,,,,,,...|woOVJ0Z2f6XNCDntH...|[Local Services, ...|   Carnegie|117 E Mall Plz\n",
      "Ca...|[[19:00, 08:30], ...|40.4078889|  -80.08606|    Alteration World|   [Carnegie]| true|           5|  5.0|   PA|business|\n",
      "|[true,,, none, [f...|rv7CY8G_XibTx82Yh...|       [Restaurants]|   Carnegie|Raceway Plz\n",
      "Carne...|            [,,,,,,]|40.3868915|-80.0937037|  Long John Silver's|           []| true|           3|  3.5|   PA|business|\n",
      "|[,,,,,,,, true,,,...|e_U_FnpdKVgNb4mUN...|[Health & Medical...|   Carnegie|2323 Greentree Rd...|            [,,,,,,]|  40.39076| -80.078657|  Weinberg Lisa, DMD|           []| true|           6|  2.0|   PA|business|\n",
      "+--------------------+--------------------+--------------------+-----------+--------------------+--------------------+----------+-----------+--------------------+-------------+-----+------------+-----+-----+--------+\n",
      "only showing top 20 rows\n",
      "\n"
     ]
    }
   ],
   "source": [
    "df.show()"
   ]
  },
  {
   "cell_type": "code",
   "execution_count": 28,
   "metadata": {},
   "outputs": [
    {
     "name": "stdout",
     "output_type": "stream",
     "text": [
      "+--------------------+-----------+-----+-----+-------------------------------+\n",
      "|                name|       city|state|stars|attributes.Accepts Credit Cards|\n",
      "+--------------------+-----------+-----+-----+-------------------------------+\n",
      "|   Eric Goldberg, MD|    Phoenix|   AZ|  3.5|                           null|\n",
      "|        Clancy's Pub| Dravosburg|   PA|  3.5|                           true|\n",
      "|Cool Springs Golf...|Bethel Park|   PA|  2.5|                           null|\n",
      "|    Verizon Wireless| Pittsburgh|   PA|  3.5|                           null|\n",
      "|       Emil's Lounge|   Braddock|   PA|  4.5|                           true|\n",
      "|Alexion's Bar & G...|   Carnegie|   PA|  4.0|                           true|\n",
      "|Flynn's E W Tire ...|   Carnegie|   PA|  1.5|                           null|\n",
      "|Forsythe Miniatur...|   Carnegie|   PA|  4.0|                           null|\n",
      "|Quaker State Cons...|   Carnegie|   PA|  2.5|                           null|\n",
      "|Kings Family Rest...|   Carnegie|   PA|  3.5|                           true|\n",
      "+--------------------+-----------+-----+-----+-------------------------------+\n",
      "\n"
     ]
    }
   ],
   "source": [
    "result = spark.sql(\"SELECT name, city, state, stars, attributes['Accepts Credit Cards'] FROM yelp_business LIMIT 10\")\n",
    "result.show()"
   ]
  },
  {
   "cell_type": "markdown",
   "metadata": {},
   "source": [
    "- Rated at 5 stars\n",
    "- In the city of Phoenix\n",
    "- Accepts credit card (Reference the 'Accepts Credit Card' field by attributes.`Accepts Credit Cards`. NOTE: We are actually looking for the value 'true', not the boolean value True!)\n",
    "- Contains Restaurants in the categories array.\n",
    "- Hint 1 : LATERAL VIEW explode() can be used to access the individual elements of an array (i.e. the categories array). For reference, you can see the first example on this page.\n",
    "- Hint 2: In spark, while using filter() or where(), you can create a condition that tests if a column, made of an array, contains a given value. The functions is pyspark.sql.functions.array_contains."
   ]
  },
  {
   "cell_type": "code",
   "execution_count": 31,
   "metadata": {},
   "outputs": [
    {
     "name": "stdout",
     "output_type": "stream",
     "text": [
      "+--------------------+-------+-----+-------------------------------+--------------------+\n",
      "|                name|   city|stars|attributes.Accepts Credit Cards|          categories|\n",
      "+--------------------+-------+-----+-------------------------------+--------------------+\n",
      "|  DeChance & Company|Phoenix|  5.0|                           true|[Shopping, Jewelr...|\n",
      "|     Sunshine Market|Phoenix|  5.0|                           true|     [Food, Grocery]|\n",
      "|Conroy's Wholesal...|Phoenix|  5.0|                           true|[Flowers & Gifts,...|\n",
      "|Blue Collar Clothing|Phoenix|  5.0|                           true|[Arts & Crafts, U...|\n",
      "|        Sun Cellular|Phoenix|  5.0|                           true|[Local Services, ...|\n",
      "| Umom New Day Center|Phoenix|  5.0|                           true|[Local Services, ...|\n",
      "|       See's Candies|Phoenix|  5.0|                           true|[Food, Specialty ...|\n",
      "|Movies On Central...|Phoenix|  5.0|                           true|[Videos & Video G...|\n",
      "|Lovato's Hair Sty...|Phoenix|  5.0|                           true|[Hair Salons, Bar...|\n",
      "|      By the Book Lc|Phoenix|  5.0|                           true|[Books, Mags, Mus...|\n",
      "|          Econolight|Phoenix|  5.0|                           true|[Electricians, Ho...|\n",
      "|Impact Printing S...|Phoenix|  5.0|                           true|[Local Services, ...|\n",
      "|Desert Song Heali...|Phoenix|  5.0|                           true|[Active Life, Fit...|\n",
      "|Central Phoenix E...|Phoenix|  5.0|                           true|[Shopping, Optome...|\n",
      "| Alan Williams Salon|Phoenix|  5.0|                           true|[Hair Salons, Bea...|\n",
      "|Floral Designs by...|Phoenix|  5.0|                           true|[Flowers & Gifts,...|\n",
      "|Drumbeat Indian Arts|Phoenix|  5.0|                           true|[Art Supplies, Fl...|\n",
      "|Burland Jewelry C...|Phoenix|  5.0|                           true| [Shopping, Jewelry]|\n",
      "|Fastframe Expert ...|Phoenix|  5.0|                           true|[Arts & Crafts, S...|\n",
      "|C & C Coin and Stamp|Phoenix|  5.0|                           true| [Shopping, Jewelry]|\n",
      "+--------------------+-------+-----+-------------------------------+--------------------+\n",
      "only showing top 20 rows\n",
      "\n"
     ]
    }
   ],
   "source": [
    "query = '''SELECT name, city, stars, attributes['Accepts Credit Cards'], categories\n",
    "            FROM yelp_business\n",
    "            Where stars=5.0 AND city = 'Phoenix' AND attributes['Accepts Credit Cards']='true'\n",
    " '''\n",
    "\n",
    "small_table = spark.sql(query)\n",
    "small_table.show()"
   ]
  },
  {
   "cell_type": "code",
   "execution_count": 34,
   "metadata": {},
   "outputs": [],
   "source": [
    "from pyspark.sql.functions import array_contains"
   ]
  },
  {
   "cell_type": "code",
   "execution_count": 42,
   "metadata": {},
   "outputs": [],
   "source": [
    "filtered = small_table.where(array_contains(\"categories\", \"Restaurants\"))"
   ]
  },
  {
   "cell_type": "code",
   "execution_count": 43,
   "metadata": {},
   "outputs": [
    {
     "name": "stdout",
     "output_type": "stream",
     "text": [
      "+--------------------+-------+-----+-------------------------------+--------------------+\n",
      "|                name|   city|stars|attributes.Accepts Credit Cards|          categories|\n",
      "+--------------------+-------+-----+-------------------------------+--------------------+\n",
      "|       Auslers Grill|Phoenix|  5.0|                           true|       [Restaurants]|\n",
      "|Mulligan's Restau...|Phoenix|  5.0|                           true|       [Restaurants]|\n",
      "|             Sunfare|Phoenix|  5.0|                           true|[Food Delivery Se...|\n",
      "|              Subway|Phoenix|  5.0|                           true|[Fast Food, Sandw...|\n",
      "|           Lil Cal's|Phoenix|  5.0|                           true|       [Restaurants]|\n",
      "|                Ed's|Phoenix|  5.0|                           true|[American (Tradit...|\n",
      "|Frenchys Caribbea...|Phoenix|  5.0|                           true|[Food, Hot Dogs, ...|\n",
      "|           WY Market|Phoenix|  5.0|                           true|[American (Tradit...|\n",
      "|       Pollo Sabroso|Phoenix|  5.0|                           true|[Fast Food, Ameri...|\n",
      "|Queen Creek Olive...|Phoenix|  5.0|                           true|[Food, Specialty ...|\n",
      "|Gluten Free Creat...|Phoenix|  5.0|                           true|[Bakeries, Food, ...|\n",
      "|Panini Bread and ...|Phoenix|  5.0|                           true|[American (Tradit...|\n",
      "|        One Eighty Q|Phoenix|  5.0|                           true|[Food, Barbeque, ...|\n",
      "|Saffron JAK Origi...|Phoenix|  5.0|                           true|[Food, Pizza, Foo...|\n",
      "|Los Primos Carnic...|Phoenix|  5.0|                           true|[Mexican, Restaur...|\n",
      "| Bertie's Of Arcadia|Phoenix|  5.0|                           true|[Soup, Comfort Fo...|\n",
      "|     Little Miss BBQ|Phoenix|  5.0|                           true|[Barbeque, Restau...|\n",
      "|Las Jicaras Mexic...|Phoenix|  5.0|                           true|[Mexican, Restaur...|\n",
      "|  Santos Lucha Libre|Phoenix|  5.0|                           true|[Mexican, Restaur...|\n",
      "|   Taqueria El Chino|Phoenix|  5.0|                           true|[Mexican, Restaur...|\n",
      "+--------------------+-------+-----+-------------------------------+--------------------+\n",
      "only showing top 20 rows\n",
      "\n"
     ]
    }
   ],
   "source": [
    "filtered.show()"
   ]
  },
  {
   "cell_type": "markdown",
   "metadata": {},
   "source": [
    "## Advanced"
   ]
  },
  {
   "cell_type": "code",
   "execution_count": 44,
   "metadata": {},
   "outputs": [],
   "source": [
    "users = spark.read.csv('users.txt',\n",
    "                      header = False,\n",
    "                      sep = ';',\n",
    "                      inferSchema = True)\n",
    "\n"
   ]
  },
  {
   "cell_type": "code",
   "execution_count": 45,
   "metadata": {},
   "outputs": [
    {
     "name": "stdout",
     "output_type": "stream",
     "text": [
      "+----------+-----------------+--------------------+--------------------+\n",
      "|       _c0|              _c1|                 _c2|                 _c3|\n",
      "+----------+-----------------+--------------------+--------------------+\n",
      "|1106214172|Prometheus Barwis|prometheus.barwis...|      (533) 072-2779|\n",
      "| 527133132|Ashraf Bainbridge|ashraf.bainbridge...|                null|\n",
      "|1290614884|   Alain Hennesey|alain.hennesey@fa...|(942) 208-8460,(8...|\n",
      "|1700818057| Hamed Fingerhuth|hamed.fingerhuth@...|                null|\n",
      "|  17378782|    Annamae Leyte|annamae.leyte@msn...|                null|\n",
      "+----------+-----------------+--------------------+--------------------+\n",
      "only showing top 5 rows\n",
      "\n"
     ]
    }
   ],
   "source": [
    "users.show(5)"
   ]
  },
  {
   "cell_type": "code",
   "execution_count": 46,
   "metadata": {},
   "outputs": [
    {
     "name": "stdout",
     "output_type": "stream",
     "text": [
      "root\n",
      " |-- _c0: integer (nullable = true)\n",
      " |-- _c1: string (nullable = true)\n",
      " |-- _c2: string (nullable = true)\n",
      " |-- _c3: string (nullable = true)\n",
      "\n"
     ]
    }
   ],
   "source": [
    "users.printSchema()"
   ]
  },
  {
   "cell_type": "code",
   "execution_count": null,
   "metadata": {},
   "outputs": [],
   "source": [
    "users= spark.read.csv('users.txt',\n",
    "                      header = False,\n",
    "                      sep = ';',\n",
    "                      inferSchema = True)\n"
   ]
  },
  {
   "cell_type": "code",
   "execution_count": 101,
   "metadata": {},
   "outputs": [],
   "source": [
    "transactions_rdd = sc.textFile('transactions.txt')"
   ]
  },
  {
   "cell_type": "code",
   "execution_count": 102,
   "metadata": {},
   "outputs": [
    {
     "data": {
      "text/plain": [
       "['815581247;$144.82;2015-09-05',\n",
       " '1534673027;$140.93;2014-03-11',\n",
       " '842468364;$104.26;2014-05-06',\n",
       " '1720001139;$194.60;2015-08-24',\n",
       " '1397891675;$307.72;2015-09-25']"
      ]
     },
     "execution_count": 102,
     "metadata": {},
     "output_type": "execute_result"
    }
   ],
   "source": [
    "transactions_rdd.take(5)"
   ]
  },
  {
   "cell_type": "code",
   "execution_count": 75,
   "metadata": {},
   "outputs": [],
   "source": [
    "transactions_rdd =(sc.textFile('transactions.txt')\n",
    "                   .map(lambda rowstr : rowstr.split(\";\"))\n",
    "                   #.map(lambda rowstr: rowstr[1].replace(\"$\",''))\n",
    "                  )"
   ]
  },
  {
   "cell_type": "code",
   "execution_count": 76,
   "metadata": {},
   "outputs": [
    {
     "data": {
      "text/plain": [
       "[['815581247', '$144.82', '2015-09-05'],\n",
       " ['1534673027', '$140.93', '2014-03-11'],\n",
       " ['842468364', '$104.26', '2014-05-06'],\n",
       " ['1720001139', '$194.60', '2015-08-24'],\n",
       " ['1397891675', '$307.72', '2015-09-25']]"
      ]
     },
     "execution_count": 76,
     "metadata": {},
     "output_type": "execute_result"
    }
   ],
   "source": [
    "transactions_rdd.take(5)"
   ]
  },
  {
   "cell_type": "code",
   "execution_count": null,
   "metadata": {},
   "outputs": [],
   "source": [
    "def casting_function(row):\n",
    "    (id, date, store, state, product, amount) = row\n",
    "    return (int(id), date, int(store), state, int(product), float(amount))\n",
    "rdd_sales = (\n",
    "    sc.textFile('data/sales.csv')\n",
    "        .map(lambda rowstr : rowstr.split(\",\"))\n",
    "        .filter(lambda row: not row[0].startswith('#'))\n",
    "        .map(casting_function)\n",
    "            )\n",
    "rdd_sales.collect()"
   ]
  },
  {
   "cell_type": "code",
   "execution_count": 97,
   "metadata": {},
   "outputs": [
    {
     "data": {
      "text/plain": [
       "[(815581247, 144.82, '2015-09-05'),\n",
       " (1534673027, 140.93, '2014-03-11'),\n",
       " (842468364, 104.26, '2014-05-06'),\n",
       " (1720001139, 194.6, '2015-08-24'),\n",
       " (1397891675, 307.72, '2015-09-25')]"
      ]
     },
     "execution_count": 97,
     "metadata": {},
     "output_type": "execute_result"
    }
   ],
   "source": [
    "def remove_dsign(row):\n",
    "    row[1] = row[1].replace('$','')\n",
    "    return row\n",
    "\n",
    "def casting_function(row):\n",
    "    (trans_id, cost, date) = row\n",
    "    return (int(trans_id), float(cost), date)\n",
    "\n",
    "transactions_rdd =(sc.textFile('transactions.txt')\n",
    "                   .map(lambda rowstr : rowstr.split(\";\"))\n",
    "                   .map(remove_dsign)\n",
    "                   .map(casting_function)\n",
    "                  )\n",
    "\n",
    "transactions_rdd.take(5)"
   ]
  },
  {
   "cell_type": "code",
   "execution_count": 83,
   "metadata": {},
   "outputs": [],
   "source": [
    "from pyspark.sql.types import *"
   ]
  },
  {
   "cell_type": "code",
   "execution_count": 98,
   "metadata": {},
   "outputs": [],
   "source": [
    "# create a schema of your own\n",
    "schema = StructType([\n",
    "    StructField('trans_id',     IntegerType(), True),\n",
    "    StructField('cost',  FloatType(), True),\n",
    "    StructField('date',   StringType(),  True)\n",
    " ])\n",
    "# feed that into a DataFrame\n",
    "df = spark.createDataFrame(transactions_rdd, schema)"
   ]
  },
  {
   "cell_type": "code",
   "execution_count": 92,
   "metadata": {},
   "outputs": [
    {
     "name": "stdout",
     "output_type": "stream",
     "text": [
      "root\n",
      " |-- trans_id: integer (nullable = true)\n",
      " |-- cost: float (nullable = true)\n",
      " |-- date: string (nullable = true)\n",
      "\n"
     ]
    }
   ],
   "source": [
    "df.printSchema()"
   ]
  },
  {
   "cell_type": "code",
   "execution_count": 93,
   "metadata": {},
   "outputs": [
    {
     "name": "stdout",
     "output_type": "stream",
     "text": [
      "+----------+-----------------+--------------------+--------------------+\n",
      "|       _c0|              _c1|                 _c2|                 _c3|\n",
      "+----------+-----------------+--------------------+--------------------+\n",
      "|1106214172|Prometheus Barwis|prometheus.barwis...|      (533) 072-2779|\n",
      "| 527133132|Ashraf Bainbridge|ashraf.bainbridge...|                null|\n",
      "|1290614884|   Alain Hennesey|alain.hennesey@fa...|(942) 208-8460,(8...|\n",
      "|1700818057| Hamed Fingerhuth|hamed.fingerhuth@...|                null|\n",
      "|  17378782|    Annamae Leyte|annamae.leyte@msn...|                null|\n",
      "+----------+-----------------+--------------------+--------------------+\n",
      "only showing top 5 rows\n",
      "\n"
     ]
    }
   ],
   "source": [
    "users.show(5)"
   ]
  },
  {
   "cell_type": "code",
   "execution_count": 100,
   "metadata": {},
   "outputs": [
    {
     "name": "stdout",
     "output_type": "stream",
     "text": [
      "+----------+------+----------+\n",
      "|  trans_id|  cost|      date|\n",
      "+----------+------+----------+\n",
      "| 815581247|144.82|2015-09-05|\n",
      "|1534673027|140.93|2014-03-11|\n",
      "| 842468364|104.26|2014-05-06|\n",
      "|1720001139| 194.6|2015-08-24|\n",
      "|1397891675|307.72|2015-09-25|\n",
      "+----------+------+----------+\n",
      "only showing top 5 rows\n",
      "\n"
     ]
    }
   ],
   "source": [
    "df.show(5)"
   ]
  },
  {
   "cell_type": "code",
   "execution_count": null,
   "metadata": {},
   "outputs": [],
   "source": [
    "df.createOrReplaceTempView('df')"
   ]
  },
  {
   "cell_type": "code",
   "execution_count": 104,
   "metadata": {},
   "outputs": [
    {
     "ename": "AnalysisException",
     "evalue": "Table or view not found: users; line 2 pos 17;\n'GlobalLimit 10\n+- 'LocalLimit 10\n   +- 'Sort ['cost DESC NULLS LAST], true\n      +- 'Project ['_c1 AS name#707, 'cost]\n         +- 'Join RightOuter, ('users._c0 = 'df.trans_id)\n            :- 'UnresolvedRelation [users]\n            +- 'UnresolvedRelation [df]\n",
     "output_type": "error",
     "traceback": [
      "\u001b[0;31m---------------------------------------------------------------------------\u001b[0m",
      "\u001b[0;31mAnalysisException\u001b[0m                         Traceback (most recent call last)",
      "\u001b[0;32m<ipython-input-104-de5fce12ec8f>\u001b[0m in \u001b[0;36m<module>\u001b[0;34m\u001b[0m\n\u001b[1;32m      6\u001b[0m  '''\n\u001b[1;32m      7\u001b[0m \u001b[0;34m\u001b[0m\u001b[0m\n\u001b[0;32m----> 8\u001b[0;31m \u001b[0mtop_10\u001b[0m \u001b[0;34m=\u001b[0m \u001b[0mspark\u001b[0m\u001b[0;34m.\u001b[0m\u001b[0msql\u001b[0m\u001b[0;34m(\u001b[0m\u001b[0mquery\u001b[0m\u001b[0;34m)\u001b[0m\u001b[0;34m\u001b[0m\u001b[0;34m\u001b[0m\u001b[0m\n\u001b[0m\u001b[1;32m      9\u001b[0m \u001b[0mtop_10\u001b[0m\u001b[0;34m.\u001b[0m\u001b[0mshow\u001b[0m\u001b[0;34m(\u001b[0m\u001b[0;34m)\u001b[0m\u001b[0;34m\u001b[0m\u001b[0;34m\u001b[0m\u001b[0m\n",
      "\u001b[0;32m/usr/local/spark/python/pyspark/sql/session.py\u001b[0m in \u001b[0;36msql\u001b[0;34m(self, sqlQuery)\u001b[0m\n\u001b[1;32m    647\u001b[0m         \u001b[0;34m[\u001b[0m\u001b[0mRow\u001b[0m\u001b[0;34m(\u001b[0m\u001b[0mf1\u001b[0m\u001b[0;34m=\u001b[0m\u001b[0;36m1\u001b[0m\u001b[0;34m,\u001b[0m \u001b[0mf2\u001b[0m\u001b[0;34m=\u001b[0m\u001b[0;34mu'row1'\u001b[0m\u001b[0;34m)\u001b[0m\u001b[0;34m,\u001b[0m \u001b[0mRow\u001b[0m\u001b[0;34m(\u001b[0m\u001b[0mf1\u001b[0m\u001b[0;34m=\u001b[0m\u001b[0;36m2\u001b[0m\u001b[0;34m,\u001b[0m \u001b[0mf2\u001b[0m\u001b[0;34m=\u001b[0m\u001b[0;34mu'row2'\u001b[0m\u001b[0;34m)\u001b[0m\u001b[0;34m,\u001b[0m \u001b[0mRow\u001b[0m\u001b[0;34m(\u001b[0m\u001b[0mf1\u001b[0m\u001b[0;34m=\u001b[0m\u001b[0;36m3\u001b[0m\u001b[0;34m,\u001b[0m \u001b[0mf2\u001b[0m\u001b[0;34m=\u001b[0m\u001b[0;34mu'row3'\u001b[0m\u001b[0;34m)\u001b[0m\u001b[0;34m]\u001b[0m\u001b[0;34m\u001b[0m\u001b[0;34m\u001b[0m\u001b[0m\n\u001b[1;32m    648\u001b[0m         \"\"\"\n\u001b[0;32m--> 649\u001b[0;31m         \u001b[0;32mreturn\u001b[0m \u001b[0mDataFrame\u001b[0m\u001b[0;34m(\u001b[0m\u001b[0mself\u001b[0m\u001b[0;34m.\u001b[0m\u001b[0m_jsparkSession\u001b[0m\u001b[0;34m.\u001b[0m\u001b[0msql\u001b[0m\u001b[0;34m(\u001b[0m\u001b[0msqlQuery\u001b[0m\u001b[0;34m)\u001b[0m\u001b[0;34m,\u001b[0m \u001b[0mself\u001b[0m\u001b[0;34m.\u001b[0m\u001b[0m_wrapped\u001b[0m\u001b[0;34m)\u001b[0m\u001b[0;34m\u001b[0m\u001b[0;34m\u001b[0m\u001b[0m\n\u001b[0m\u001b[1;32m    650\u001b[0m \u001b[0;34m\u001b[0m\u001b[0m\n\u001b[1;32m    651\u001b[0m     \u001b[0;34m@\u001b[0m\u001b[0msince\u001b[0m\u001b[0;34m(\u001b[0m\u001b[0;36m2.0\u001b[0m\u001b[0;34m)\u001b[0m\u001b[0;34m\u001b[0m\u001b[0;34m\u001b[0m\u001b[0m\n",
      "\u001b[0;32m/usr/local/spark/python/lib/py4j-0.10.9-src.zip/py4j/java_gateway.py\u001b[0m in \u001b[0;36m__call__\u001b[0;34m(self, *args)\u001b[0m\n\u001b[1;32m   1302\u001b[0m \u001b[0;34m\u001b[0m\u001b[0m\n\u001b[1;32m   1303\u001b[0m         \u001b[0manswer\u001b[0m \u001b[0;34m=\u001b[0m \u001b[0mself\u001b[0m\u001b[0;34m.\u001b[0m\u001b[0mgateway_client\u001b[0m\u001b[0;34m.\u001b[0m\u001b[0msend_command\u001b[0m\u001b[0;34m(\u001b[0m\u001b[0mcommand\u001b[0m\u001b[0;34m)\u001b[0m\u001b[0;34m\u001b[0m\u001b[0;34m\u001b[0m\u001b[0m\n\u001b[0;32m-> 1304\u001b[0;31m         return_value = get_return_value(\n\u001b[0m\u001b[1;32m   1305\u001b[0m             answer, self.gateway_client, self.target_id, self.name)\n\u001b[1;32m   1306\u001b[0m \u001b[0;34m\u001b[0m\u001b[0m\n",
      "\u001b[0;32m/usr/local/spark/python/pyspark/sql/utils.py\u001b[0m in \u001b[0;36mdeco\u001b[0;34m(*a, **kw)\u001b[0m\n\u001b[1;32m    132\u001b[0m                 \u001b[0;31m# Hide where the exception came from that shows a non-Pythonic\u001b[0m\u001b[0;34m\u001b[0m\u001b[0;34m\u001b[0m\u001b[0;34m\u001b[0m\u001b[0m\n\u001b[1;32m    133\u001b[0m                 \u001b[0;31m# JVM exception message.\u001b[0m\u001b[0;34m\u001b[0m\u001b[0;34m\u001b[0m\u001b[0;34m\u001b[0m\u001b[0m\n\u001b[0;32m--> 134\u001b[0;31m                 \u001b[0mraise_from\u001b[0m\u001b[0;34m(\u001b[0m\u001b[0mconverted\u001b[0m\u001b[0;34m)\u001b[0m\u001b[0;34m\u001b[0m\u001b[0;34m\u001b[0m\u001b[0m\n\u001b[0m\u001b[1;32m    135\u001b[0m             \u001b[0;32melse\u001b[0m\u001b[0;34m:\u001b[0m\u001b[0;34m\u001b[0m\u001b[0;34m\u001b[0m\u001b[0m\n\u001b[1;32m    136\u001b[0m                 \u001b[0;32mraise\u001b[0m\u001b[0;34m\u001b[0m\u001b[0;34m\u001b[0m\u001b[0m\n",
      "\u001b[0;32m/usr/local/spark/python/pyspark/sql/utils.py\u001b[0m in \u001b[0;36mraise_from\u001b[0;34m(e)\u001b[0m\n",
      "\u001b[0;31mAnalysisException\u001b[0m: Table or view not found: users; line 2 pos 17;\n'GlobalLimit 10\n+- 'LocalLimit 10\n   +- 'Sort ['cost DESC NULLS LAST], true\n      +- 'Project ['_c1 AS name#707, 'cost]\n         +- 'Join RightOuter, ('users._c0 = 'df.trans_id)\n            :- 'UnresolvedRelation [users]\n            +- 'UnresolvedRelation [df]\n"
     ]
    }
   ],
   "source": [
    "query = '''SELECT _c1 as name, cost \n",
    "            FROM users\n",
    "            RIGHT JOIN df ON users._c0 = df.trans_id\n",
    "            ORDER BY cost DESC\n",
    "            LIMIT 10\n",
    " '''\n",
    "\n",
    "top_10 = spark.sql(query)\n",
    "top_10.show()"
   ]
  },
  {
   "cell_type": "code",
   "execution_count": null,
   "metadata": {},
   "outputs": [],
   "source": []
  }
 ],
 "metadata": {
  "kernelspec": {
   "display_name": "Python 3",
   "language": "python",
   "name": "python3"
  },
  "language_info": {
   "codemirror_mode": {
    "name": "ipython",
    "version": 3
   },
   "file_extension": ".py",
   "mimetype": "text/x-python",
   "name": "python",
   "nbconvert_exporter": "python",
   "pygments_lexer": "ipython3",
   "version": "3.8.6"
  }
 },
 "nbformat": 4,
 "nbformat_minor": 4
}
